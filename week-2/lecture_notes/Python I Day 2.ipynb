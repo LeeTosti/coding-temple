{
  "cells": [
    {
      "attachments": {},
      "cell_type": "markdown",
      "metadata": {
        "id": "9bJtKniLrs8X"
      },
      "source": [
        "# Coding Temple's Data Analytics Course\n",
        "---\n",
        "## Python I: Functions, Scoping, Data Collections 1 & List Comprehensions\n",
        "---"
      ]
    },
    {
      "attachments": {},
      "cell_type": "markdown",
      "metadata": {
        "id": "qbED-38grs8a"
      },
      "source": [
        "### Tasks Today:\n",
        "\n",
        "<i>Monday Additions (or, and ... if statements)</i>\n",
        "\n",
        "1) String Manipulation <br>\n",
        " &nbsp;&nbsp;&nbsp;&nbsp; a) strip() <br>\n",
        " &nbsp;&nbsp;&nbsp;&nbsp; b) title() <br>\n",
        "2) Working With Lists <br>\n",
        " &nbsp;&nbsp;&nbsp;&nbsp; a) min() <br>\n",
        " &nbsp;&nbsp;&nbsp;&nbsp; b) max() <br>\n",
        " &nbsp;&nbsp;&nbsp;&nbsp; c) sum() <br>\n",
        " &nbsp;&nbsp;&nbsp;&nbsp; d) sort() <br>\n",
        " &nbsp;&nbsp;&nbsp;&nbsp; e) Copying a List <br>\n",
        " &nbsp;&nbsp;&nbsp;&nbsp; f) 'in' keyword <br>\n",
        " &nbsp;&nbsp;&nbsp;&nbsp; g) 'not in' keyword <br>\n",
        " &nbsp;&nbsp;&nbsp;&nbsp; i) Checking an Empty List <br>\n",
        " &nbsp;&nbsp;&nbsp;&nbsp; j) Removing Instances with a Loop <br>\n",
        "3) List Comprehensions <br>\n",
        "4) Tuples <br>\n",
        " &nbsp;&nbsp;&nbsp;&nbsp; a) sorted() <br>\n",
        "5) Functions <br>\n",
        " &nbsp;&nbsp;&nbsp;&nbsp; a) User-Defined vs. Built-In Functions <br>\n",
        " &nbsp;&nbsp;&nbsp;&nbsp; b) Accepting Parameters <br>\n",
        " &nbsp;&nbsp;&nbsp;&nbsp; c) Default Parameters <br>\n",
        " &nbsp;&nbsp;&nbsp;&nbsp; d) Making an Argument Optional <br>\n",
        " &nbsp;&nbsp;&nbsp;&nbsp; e) Keyword Arguments <br>\n",
        " &nbsp;&nbsp;&nbsp;&nbsp; f) Returning Values <br>\n",
        " &nbsp;&nbsp;&nbsp;&nbsp; g) *args <br>\n",
        " &nbsp;&nbsp;&nbsp;&nbsp; h) Docstring <br>\n",
        " &nbsp;&nbsp;&nbsp;&nbsp; i) Using a User Function in a Loop <br>\n",
        "6) Scope"
      ]
    },
    {
      "attachments": {},
      "cell_type": "markdown",
      "metadata": {
        "id": "WaEiK5Mxrs8b"
      },
      "source": [
        "### String Manipulation"
      ]
    },
    {
      "attachments": {},
      "cell_type": "markdown",
      "metadata": {
        "id": "oAHRIMwirs8c"
      },
      "source": [
        "##### .lstrip()"
      ]
    },
    {
      "cell_type": "code",
      "execution_count": 4,
      "metadata": {
        "id": "67XdgYVYrs8c"
      },
      "outputs": [
        {
          "name": "stdout",
          "output_type": "stream",
          "text": [
            "Lee\n"
          ]
        }
      ],
      "source": [
        "name = '       hLee'\n",
        "print(name.lstrip(\" \" \"h\"))"
      ]
    },
    {
      "attachments": {},
      "cell_type": "markdown",
      "metadata": {
        "id": "SqdqgTi7rs8d"
      },
      "source": [
        "##### .rstrip()"
      ]
    },
    {
      "cell_type": "code",
      "execution_count": 5,
      "metadata": {
        "id": "W4KfZlUdrs8e"
      },
      "outputs": [
        {
          "name": "stdout",
          "output_type": "stream",
          "text": [
            "Bob Ross\n"
          ]
        }
      ],
      "source": [
        "name = 'Bob Ross       fjdklaj'\n",
        "print(name.rstrip(' ' 'fjdklaj'))"
      ]
    },
    {
      "attachments": {},
      "cell_type": "markdown",
      "metadata": {
        "id": "gnyAnkkLrs8e"
      },
      "source": [
        "##### .strip()"
      ]
    },
    {
      "cell_type": "code",
      "execution_count": 9,
      "metadata": {
        "id": "ee-X-fZurs8f"
      },
      "outputs": [
        {
          "name": "stdout",
          "output_type": "stream",
          "text": [
            "Taylor Swift\n"
          ]
        }
      ],
      "source": [
        "name = '     Taylor Swift     eh'\n",
        "print(name.strip(' ' 'eh'))"
      ]
    },
    {
      "attachments": {},
      "cell_type": "markdown",
      "metadata": {},
      "source": [
        "#### .upper()\n",
        "#### .lower()"
      ]
    },
    {
      "cell_type": "code",
      "execution_count": 10,
      "metadata": {},
      "outputs": [
        {
          "name": "stdout",
          "output_type": "stream",
          "text": [
            "TAYLOR SWIFT\n",
            "taylor swift\n"
          ]
        }
      ],
      "source": [
        "name = \"Taylor Swift\"\n",
        "print(name.upper())\n",
        "print(name.lower())"
      ]
    },
    {
      "attachments": {},
      "cell_type": "markdown",
      "metadata": {
        "id": "MiAFvZdPrs8f"
      },
      "source": [
        "##### .title()"
      ]
    },
    {
      "cell_type": "code",
      "execution_count": 11,
      "metadata": {
        "id": "6d21S6C6rs8f"
      },
      "outputs": [
        {
          "name": "stdout",
          "output_type": "stream",
          "text": [
            "Harry Styles\n"
          ]
        }
      ],
      "source": [
        "name = \"Harry Styles\"\n",
        "print(name.title())"
      ]
    },
    {
      "attachments": {},
      "cell_type": "markdown",
      "metadata": {
        "id": "D80meSR5rs8g"
      },
      "source": [
        "### String Exercise <br>\n",
        "<p>Strip all white space and capitalize every name in the list given</p>"
      ]
    },
    {
      "cell_type": "code",
      "execution_count": 20,
      "metadata": {
        "id": "wPiqY8qFrs8g"
      },
      "outputs": [
        {
          "name": "stdout",
          "output_type": "stream",
          "text": [
            "['Connor', 'Max', 'Evan', 'Jordan']\n",
            "Connor\n",
            "Max\n",
            "Evan\n",
            "Jordan\n",
            "0 Connor\n",
            "1 Max\n",
            "2 Evan\n",
            "3 Jordan\n"
          ]
        }
      ],
      "source": [
        "names = ['    coNNor', 'max', ' EVan ', 'JORDAN']\n",
        "# HINT: You will need to use a for loop for iteration\n",
        "names_list = []\n",
        "for name in names:\n",
        "    names_list.append(name.strip().title())\n",
        "\n",
        "print(names_list)\n",
        "\n",
        "for name in names_list:\n",
        "    print(name)\n",
        "\n",
        "for index, name in enumerate(names_list):\n",
        "    print(index, name)\n",
        "\n",
        "    \n"
      ]
    },
    {
      "attachments": {},
      "cell_type": "markdown",
      "metadata": {
        "id": "OaW8hdDnrs8g"
      },
      "source": [
        "### Working With Lists"
      ]
    },
    {
      "attachments": {},
      "cell_type": "markdown",
      "metadata": {
        "id": "lsl3saTtrs8g"
      },
      "source": [
        "##### min()"
      ]
    },
    {
      "cell_type": "code",
      "execution_count": 21,
      "metadata": {
        "id": "DfUyTjiUrs8h"
      },
      "outputs": [
        {
          "name": "stdout",
          "output_type": "stream",
          "text": [
            "1\n"
          ]
        }
      ],
      "source": [
        "num_list = [4,6,8,9,1]\n",
        "print(min(num_list))"
      ]
    },
    {
      "attachments": {},
      "cell_type": "markdown",
      "metadata": {
        "id": "56woj1myrs8h"
      },
      "source": [
        "##### max()"
      ]
    },
    {
      "cell_type": "code",
      "execution_count": 23,
      "metadata": {
        "id": "4ifb__khrs8h"
      },
      "outputs": [
        {
          "name": "stdout",
          "output_type": "stream",
          "text": [
            "9\n"
          ]
        }
      ],
      "source": [
        "print(max(num_list))"
      ]
    },
    {
      "attachments": {},
      "cell_type": "markdown",
      "metadata": {
        "id": "Q_LhnHozrs8h"
      },
      "source": [
        "##### sum()"
      ]
    },
    {
      "cell_type": "code",
      "execution_count": 24,
      "metadata": {
        "id": "MNBLfI57rs8i"
      },
      "outputs": [
        {
          "name": "stdout",
          "output_type": "stream",
          "text": [
            "28\n"
          ]
        }
      ],
      "source": [
        "print(sum(num_list))"
      ]
    },
    {
      "attachments": {},
      "cell_type": "markdown",
      "metadata": {
        "id": "Pmkxsqcwrs8i"
      },
      "source": [
        "##### sorted()"
      ]
    },
    {
      "cell_type": "code",
      "execution_count": 26,
      "metadata": {
        "id": "_LpP0pYlrs8i"
      },
      "outputs": [
        {
          "name": "stdout",
          "output_type": "stream",
          "text": [
            "[4, 6, 8, 9, 1]\n",
            "[4, 6, 8, 9, 1]\n",
            "Before sorting: [4, 6, 8, 9, 1]\n",
            "After sorting: [1, 4, 6, 8, 9]\n"
          ]
        }
      ],
      "source": [
        "#sorted(list_object)\n",
        "print(num_list)\n",
        "\n",
        "sorted(num_list)\n",
        "\n",
        "print(num_list)\n",
        "\n",
        "sorted_nums = sorted(num_list)\n",
        "\n",
        "print(f\"Before sorting: {num_list}\\nAfter sorting: {sorted_nums}\")"
      ]
    },
    {
      "attachments": {},
      "cell_type": "markdown",
      "metadata": {
        "id": "WUUKnCRHrs8i"
      },
      "source": [
        "##### .sort() <br>\n",
        "<p>Difference between sort and sorted, is that sorted doesn't change original list it returns a copy, while .sort changes the original list</p>"
      ]
    },
    {
      "cell_type": "code",
      "execution_count": 29,
      "metadata": {
        "id": "8easNUqGrs8j"
      },
      "outputs": [
        {
          "name": "stdout",
          "output_type": "stream",
          "text": [
            "[1, 4, 6, 8, 9]\n",
            "[9, 8, 6, 4, 1]\n"
          ]
        }
      ],
      "source": [
        "num_list.sort()\n",
        "\n",
        "print(num_list)\n",
        "\n",
        "num_list.sort(reverse=True)\n",
        "\n",
        "print(num_list)"
      ]
    },
    {
      "attachments": {},
      "cell_type": "markdown",
      "metadata": {
        "id": "Zk7lrB7qrs8j"
      },
      "source": [
        "##### Copying a List"
      ]
    },
    {
      "cell_type": "code",
      "execution_count": 31,
      "metadata": {
        "id": "XPnSFoGMrs8j"
      },
      "outputs": [
        {
          "name": "stdout",
          "output_type": "stream",
          "text": [
            "[9, 8, 6, 4, 1]\n",
            "[9, 8, 6, 4, 1]\n"
          ]
        }
      ],
      "source": [
        "#[:] copies a list\n",
        "list_1 = num_list[:]\n",
        "print(list_1)\n",
        "print(num_list)"
      ]
    },
    {
      "attachments": {},
      "cell_type": "markdown",
      "metadata": {
        "id": "RxI0RzOgrs8j"
      },
      "source": [
        "##### 'in' keyword"
      ]
    },
    {
      "cell_type": "code",
      "execution_count": 30,
      "metadata": {
        "id": "kodTed97rs8j"
      },
      "outputs": [
        {
          "name": "stdout",
          "output_type": "stream",
          "text": [
            "Whitney is a student!\n"
          ]
        }
      ],
      "source": [
        "ct_teachers = ['Alex', 'Katie', 'Sarah', 'Shay', 'Kevin']\n",
        "\n",
        "#use the in keyword to check if a name is in a list:\n",
        "#This is one use-case, but is super useful for all 1-D checks\n",
        "if 'Whitney' in ct_teachers:\n",
        "    print('Whitney is now an instructor!')\n",
        "else:\n",
        "    print('Whitney is a student!')"
      ]
    },
    {
      "attachments": {},
      "cell_type": "markdown",
      "metadata": {
        "id": "FxrCx1KNrs8j"
      },
      "source": [
        "##### 'not in' keyword"
      ]
    },
    {
      "cell_type": "code",
      "execution_count": 33,
      "metadata": {
        "id": "xNtSNQiJrs8j"
      },
      "outputs": [
        {
          "name": "stdout",
          "output_type": "stream",
          "text": [
            "James is a student.\n"
          ]
        }
      ],
      "source": [
        "if \"James\" not in ct_teachers:\n",
        "    print(\"James is a student.\")"
      ]
    },
    {
      "attachments": {},
      "cell_type": "markdown",
      "metadata": {
        "id": "BUZcIm0jrs8k"
      },
      "source": [
        "##### Checking an Empty List"
      ]
    },
    {
      "cell_type": "code",
      "execution_count": 35,
      "metadata": {
        "id": "0hRGfavzrs8k"
      },
      "outputs": [
        {
          "name": "stdout",
          "output_type": "stream",
          "text": [
            "This is an empty list!\n",
            "['Matt', 'Lisa']\n"
          ]
        }
      ],
      "source": [
        "list_2 = []\n",
        "#anything with an empty value will come back as True \n",
        "if not list_2:\n",
        "    print(\"This is an empty list!\")\n",
        "\n",
        "list_3 = [\"Matt\", 'Lisa']\n",
        "if list_3 is not None:\n",
        "    print(list_3)"
      ]
    },
    {
      "cell_type": "code",
      "execution_count": null,
      "metadata": {},
      "outputs": [],
      "source": []
    },
    {
      "attachments": {},
      "cell_type": "markdown",
      "metadata": {
        "id": "sYkofVKHrs8k"
      },
      "source": [
        "##### Removing Instances with a Loop"
      ]
    },
    {
      "cell_type": "code",
      "execution_count": 53,
      "metadata": {
        "id": "9enOHbb4rs8k"
      },
      "outputs": [
        {
          "name": "stdout",
          "output_type": "stream",
          "text": [
            "['Lisa', 'Matt', 'Sirius', 'Rufio', 'Munchkin']\n",
            "['Lisa', 'Matt', 'Sirius', 'Rufio']\n",
            "['Charm', 'Munchkin']\n"
          ]
        }
      ],
      "source": [
        "names = ['Lisa', 'Matt', 'Sirius', 'Charm', 'Rufio', 'Munchkin']\n",
        "adopted = []\n",
        "while 'Charm' in names:\n",
        "    adopted.append('Charm')\n",
        "    names.remove('Charm')\n",
        "print(names)\n",
        "\n",
        "for name in names:\n",
        "    if name == 'Munchkin':\n",
        "        adopted.append(name)\n",
        "        names.remove('Munchkin')\n",
        "print(names)\n",
        "print(adopted)\n"
      ]
    },
    {
      "attachments": {},
      "cell_type": "markdown",
      "metadata": {
        "id": "S-x8E0cDrs8k"
      },
      "source": [
        "### List Exercise <br>\n",
        "<p>Remove all duplicates<br><b>Extra: Create a program that will remove any duplicates from a given list</b></p>"
      ]
    },
    {
      "cell_type": "code",
      "execution_count": 52,
      "metadata": {
        "id": "BlrVsVUprs8k"
      },
      "outputs": [
        {
          "name": "stdout",
          "output_type": "stream",
          "text": [
            "['connor', 'bob', 'evan', 'max', 2, 3, 4, 'kevin']\n"
          ]
        }
      ],
      "source": [
        "names_1 = ['connor', 'connor', 'bob', 'connor', 'evan', 'max', 'evan', 2, 2, 2, 3, 3, 4, 'bob', 'kevin']\n",
        "# Hint 1: You will need an append\n",
        "# Hint 2: Using an empty list will make this easier!\n",
        "names_2 = []\n",
        "def sol(dup_list):\n",
        "    new_list = []\n",
        "    for name in dup_list:\n",
        "        if name not in new_list:\n",
        "            new_list.append(name)\n",
        "    return new_list\n",
        "\n",
        "print(sol(names_1))\n",
        "\n",
        "def sol(lst):\n",
        "    return [name for name in lst if name.count() < 1]\n",
        "\n",
        "\n"
      ]
    },
    {
      "attachments": {},
      "cell_type": "markdown",
      "metadata": {
        "id": "6Ci7F4P2rs8k"
      },
      "source": [
        "### List Comprehensions <br>\n",
        "<p>Creating a quickly generated list to work with<br>*result*  = [*transform*    *iteration*         *filter*     ]</p>"
      ]
    },
    {
      "attachments": {},
      "cell_type": "markdown",
      "metadata": {
        "id": "ZnDqczhXrs8l"
      },
      "source": [
        "##### In a list comprehension we have a few pieces:\n",
        "1. The first is the counter/ variable - IN this the variable is x\n",
        "2. then we have a transform for the variable\n",
        "3. The finale part of a list comp is called the condition\n",
        "\n",
        "```python\n",
        "    [variable, transform, condition]\n",
        "```"
      ]
    },
    {
      "cell_type": "code",
      "execution_count": 55,
      "metadata": {
        "id": "2fHFPjOOrs8l"
      },
      "outputs": [
        {
          "name": "stdout",
          "output_type": "stream",
          "text": [
            "[0, 1, 2, 3, 4, 5, 6, 7, 8, 9, 10, 11, 12, 13, 14, 15, 16, 17, 18, 19, 20, 21, 22, 23, 24, 25, 26, 27, 28, 29, 30, 31, 32, 33, 34, 35, 36, 37, 38, 39, 40, 41, 42, 43, 44, 45, 46, 47, 48, 49, 50, 51, 52, 53, 54, 55, 56, 57, 58, 59, 60, 61, 62, 63, 64, 65, 66, 67, 68, 69, 70, 71, 72, 73, 74, 75, 76, 77, 78, 79, 80, 81, 82, 83, 84, 85, 86, 87, 88, 89, 90, 91, 92, 93, 94, 95, 96, 97, 98, 99, 100, 101, 102, 103, 104, 105, 106, 107, 108, 109, 110, 111, 112, 113, 114, 115, 116, 117, 118, 119, 120, 121, 122, 123, 124, 125, 126, 127, 128, 129, 130, 131, 132, 133, 134, 135, 136, 137, 138, 139, 140, 141, 142, 143, 144, 145, 146, 147, 148, 149, 150, 151, 152, 153, 154, 155, 156, 157, 158, 159, 160, 161, 162, 163, 164, 165, 166, 167, 168, 169, 170, 171, 172, 173, 174, 175, 176, 177, 178, 179, 180, 181, 182, 183, 184, 185, 186, 187, 188, 189, 190, 191, 192, 193, 194, 195, 196, 197, 198, 199]\n",
            "[0, 4, 16, 36, 64, 100, 144, 196, 256, 324, 400, 484, 576, 676, 784, 900, 1024, 1156, 1296, 1444, 1600, 1764, 1936, 2116, 2304, 2500, 2704, 2916, 3136, 3364, 3600, 3844, 4096, 4356, 4624, 4900, 5184, 5476, 5776, 6084, 6400, 6724, 7056, 7396, 7744, 8100, 8464, 8836, 9216, 9604, 10000, 10404, 10816, 11236, 11664, 12100, 12544, 12996, 13456, 13924, 14400, 14884, 15376, 15876, 16384, 16900, 17424, 17956, 18496, 19044, 19600, 20164, 20736, 21316, 21904, 22500, 23104, 23716, 24336, 24964, 25600, 26244, 26896, 27556, 28224, 28900, 29584, 30276, 30976, 31684, 32400, 33124, 33856, 34596, 35344, 36100, 36864, 37636, 38416, 39204]\n"
          ]
        }
      ],
      "source": [
        "nums = []\n",
        "\n",
        "for val in range(200):\n",
        "    nums.append(val)\n",
        "\n",
        "print(nums)\n",
        "\n",
        "#Shorter method\n",
        "#use list comprehension\n",
        "#In list comp, we have a few different pieces:\n",
        "#First is counter/variable. (Because )\n",
        "#Next step is the iterator. This is tyopically a for loop\n",
        "#You can then add conditional statements\n",
        "nums_comp = [val**2 for val in range(200) if val % 2 == 0]\n",
        "print(nums_comp)\n",
        "#if number if even, add the square of the number to our list with our range"
      ]
    },
    {
      "cell_type": "code",
      "execution_count": null,
      "metadata": {},
      "outputs": [],
      "source": [
        "#another example\n",
        "#names_list = [name.strip().title() for name in names if name.upper()]"
      ]
    },
    {
      "attachments": {},
      "cell_type": "markdown",
      "metadata": {
        "id": "3ls5g5A2rs8l"
      },
      "source": [
        "There are a few benefits to using List comprehensions. The most obvious would be that we now have shorter code to work with instead of using 3+ lines of code in the for loop variant.\n",
        "\n",
        "Another is an added benefit to memory usage. Since the list's memory is allocated first before adding elements to it, we don't have to resize the list once we add elements to it.\n",
        "\n",
        "Lastly, list comprehensions are considered the \"pythonic\" way to write code by the PEP8 standards (Python Style Guide)"
      ]
    },
    {
      "cell_type": "code",
      "execution_count": 58,
      "metadata": {
        "id": "CPIujsPPrs8l"
      },
      "outputs": [
        {
          "name": "stdout",
          "output_type": "stream",
          "text": [
            "[0, 0, 4, 0, 16, 0, 36, 0, 64, 0, 100, 0, 144, 0, 196, 0, 256, 0, 324, 0, 400, 0, 484, 0, 576, 0, 676, 0, 784, 0, 900, 0, 1024, 0, 1156, 0, 1296, 0, 1444, 0, 1600, 0, 1764, 0, 1936, 0, 2116, 0, 2304, 0, 2500, 0, 2704, 0, 2916, 0, 3136, 0, 3364, 0, 3600, 0, 3844, 0, 4096, 0, 4356, 0, 4624, 0, 4900, 0, 5184, 0, 5476, 0, 5776, 0, 6084, 0, 6400, 0, 6724, 0, 7056, 0, 7396, 0, 7744, 0, 8100, 0, 8464, 0, 8836, 0, 9216, 0, 9604, 0, 10000, 0, 10404, 0, 10816, 0, 11236, 0, 11664, 0, 12100, 0, 12544, 0, 12996, 0, 13456, 0, 13924, 0, 14400, 0, 14884, 0, 15376, 0, 15876, 0, 16384, 0, 16900, 0, 17424, 0, 17956, 0, 18496, 0, 19044, 0, 19600, 0, 20164, 0, 20736, 0, 21316, 0, 21904, 0, 22500, 0, 23104, 0, 23716, 0, 24336, 0, 24964, 0, 25600, 0, 26244, 0, 26896, 0, 27556, 0, 28224, 0, 28900, 0, 29584, 0, 30276, 0, 30976, 0, 31684, 0, 32400, 0, 33124, 0, 33856, 0, 34596, 0, 35344, 0, 36100, 0, 36864, 0, 37636, 0, 38416, 0, 39204, 0]\n"
          ]
        }
      ],
      "source": [
        "nums_comp = [val**2 if val % 2 == 0 else 0 for val in range(200)]\n",
        "print(nums_comp)"
      ]
    },
    {
      "cell_type": "code",
      "execution_count": 59,
      "metadata": {
        "id": "DDWwxsJhrs8l"
      },
      "outputs": [
        {
          "name": "stdout",
          "output_type": "stream",
          "text": [
            "['T', 'H', 'O', 'K']\n",
            "['T', 'H', 'O', 'K']\n"
          ]
        }
      ],
      "source": [
        "#String comprehension\n",
        "names = ['Taylor', 'Harry', 'Olivia', 'Kelly']\n",
        "\n",
        "first_char = []\n",
        "\n",
        "for name in names:\n",
        "    first_char.append(name[0])\n",
        "\n",
        "print(first_char)\n",
        "\n",
        "n = [name[0] for name in names]\n",
        "print(n)"
      ]
    },
    {
      "cell_type": "code",
      "execution_count": 67,
      "metadata": {
        "id": "afJhTL0Ars8m"
      },
      "outputs": [
        {
          "name": "stdout",
          "output_type": "stream",
          "text": [
            "[]\n",
            "[]\n"
          ]
        }
      ],
      "source": [
        "#Using the 'if' statement\n",
        "#Grab each name if it starts with the letter 'C'ArithmeticError\n",
        "names = ['Taylor', 'Harry', 'Olivia', 'Kelly']\n",
        "h_names_reg = []\n",
        "for first_name in names:\n",
        "    if first_name[1] == 'H':\n",
        "        h_names_reg.append(first_name)\n",
        "print(h_names_reg)\n",
        "\n",
        "h_names_reg_names_reg = [first_name for first_name in names if first_name[1].lower() =='h']\n",
        "print(h_names_reg)"
      ]
    },
    {
      "cell_type": "code",
      "execution_count": null,
      "metadata": {
        "id": "QhyfY60Lrs8m"
      },
      "outputs": [],
      "source": []
    },
    {
      "attachments": {},
      "cell_type": "markdown",
      "metadata": {
        "id": "l0OZFm-nrs8m"
      },
      "source": [
        "### Tuples <br>\n",
        "<p><b>Defined as an immutable list</b></p><br>Seperated by commas using parenthesis"
      ]
    },
    {
      "cell_type": "code",
      "execution_count": null,
      "metadata": {
        "id": "qzrkcZvArs8m"
      },
      "outputs": [],
      "source": []
    },
    {
      "attachments": {},
      "cell_type": "markdown",
      "metadata": {
        "id": "HyW7twHCrs8m"
      },
      "source": [
        "##### sorted()"
      ]
    },
    {
      "cell_type": "code",
      "execution_count": 68,
      "metadata": {
        "id": "806UVJgFrs8m"
      },
      "outputs": [
        {
          "name": "stdout",
          "output_type": "stream",
          "text": [
            "[1, 3, 5, 9, 20, 45]\n",
            "(1, 3, 5, 9, 20, 45)\n"
          ]
        }
      ],
      "source": [
        "tup_3 = (20, 5, 1,3,9,45)\n",
        "sorted_tup = sorted(tup_3)\n",
        "print(sorted_tup)\n",
        "print(tuple(sorted_tup))"
      ]
    },
    {
      "attachments": {},
      "cell_type": "markdown",
      "metadata": {
        "id": "obuFNiIErs8m"
      },
      "source": [
        "##### Adding values to a Tuple"
      ]
    },
    {
      "cell_type": "code",
      "execution_count": null,
      "metadata": {
        "id": "ZPkUYr2Trs8m"
      },
      "outputs": [],
      "source": [
        "tup_1 = (1,2,3)\n",
        "print(tup_1)\n",
        "tup_1 = tup_1 + (5,)\n",
        "#the comma is needed because otherwise it will view it as an interger, not a tuple"
      ]
    },
    {
      "attachments": {},
      "cell_type": "markdown",
      "metadata": {
        "id": "QX0j43L6rs8m"
      },
      "source": [
        "## Functions"
      ]
    },
    {
      "attachments": {},
      "cell_type": "markdown",
      "metadata": {
        "id": "RDYcwCvVrs8n"
      },
      "source": [
        "##### User-Defined vs. Built-In Functions"
      ]
    },
    {
      "cell_type": "code",
      "execution_count": 72,
      "metadata": {
        "id": "z6z8tJiqrs8n"
      },
      "outputs": [
        {
          "name": "stdout",
          "output_type": "stream",
          "text": [
            "Hi, World!\n"
          ]
        },
        {
          "data": {
            "text/plain": [
              "'Hello Lee!'"
            ]
          },
          "execution_count": 72,
          "metadata": {},
          "output_type": "execute_result"
        }
      ],
      "source": [
        "#def tells python that you are about to define a function\n",
        "# function name: after def keyword, we give life to our function by naming it (use sname case)\n",
        "#invoking parenthesis: used after function call and after the nameing of a function\n",
        "#inside them, go any parameters we want to take into account for our function\n",
        "#Parameters is a fancy word for variables\n",
        "\n",
        "# USER DEFINED FUNCTION\n",
        "\n",
        "def say_hi():\n",
        "    return 'Hi, World!'\n",
        "\n",
        "print(say_hi())\n",
        "\n",
        "def say_hello(name):\n",
        "    return f'Hello {name}!'\n",
        "\n",
        "say_hello('Lee')"
      ]
    },
    {
      "attachments": {},
      "cell_type": "markdown",
      "metadata": {
        "id": "3EK6Bb7Xrs8n"
      },
      "source": [
        "##### Accepting Parameters"
      ]
    },
    {
      "cell_type": "code",
      "execution_count": 73,
      "metadata": {
        "id": "NkgHjPLRrs8n"
      },
      "outputs": [
        {
          "name": "stdout",
          "output_type": "stream",
          "text": [
            "Hello Lee Tosti\n",
            "Hello Lee Tosti\n"
          ]
        }
      ],
      "source": [
        "#One thing to note, is that order matters.\n",
        "#Whatever order you place your variables in, you should expect your user to enter in the same order!\n",
        "\n",
        "def print_full_name(first_name, last_name):\n",
        "    return f'Hello {first_name} {last_name}!'\n",
        "\n",
        "print(print_full_name('Lee', 'Tosti'))\n",
        "print(print_full_name(last_name='Tosti', first_name='Lee')) "
      ]
    },
    {
      "attachments": {},
      "cell_type": "markdown",
      "metadata": {
        "id": "pZtz8D3ors8n"
      },
      "source": [
        "##### Default Parameters"
      ]
    },
    {
      "cell_type": "code",
      "execution_count": 76,
      "metadata": {
        "id": "mqOXoR2Zrs8n"
      },
      "outputs": [
        {
          "name": "stdout",
          "output_type": "stream",
          "text": [
            "The name is...Bond...James Bond\n",
            "The name is...Galore...Pussy Galore\n"
          ]
        }
      ],
      "source": [
        "def print_agent_name(first_name, last_name = 'Bond'):\n",
        "    return f'The name is...{last_name}...{first_name} {last_name}'\n",
        "\n",
        "print(print_agent_name('James'))\n",
        "print(print_agent_name('Pussy', 'Galore'))"
      ]
    },
    {
      "cell_type": "code",
      "execution_count": 79,
      "metadata": {},
      "outputs": [
        {
          "name": "stdout",
          "output_type": "stream",
          "text": [
            "Wow! You are 25 years old! That's awesome!\n"
          ]
        }
      ],
      "source": [
        "#Type Casting\n",
        "#specifying type in parameter. Does not change parameter type but allows you to use functions associated with that data type\n",
        "def print_age(age: int):\n",
        "    age = int(age)\n",
        "    return f\"Wow! You are {age} years old! That's awesome!\"\n",
        "print(print_age(25))\n",
        "\n",
        "print(print_age('25'))"
      ]
    },
    {
      "attachments": {},
      "cell_type": "markdown",
      "metadata": {
        "id": "4OlHa3j3rs8n"
      },
      "source": [
        "##### Making an Argument Optional"
      ]
    },
    {
      "cell_type": "code",
      "execution_count": 81,
      "metadata": {
        "id": "v4IqqRW8rs8n"
      },
      "outputs": [
        {
          "name": "stdout",
          "output_type": "stream",
          "text": [
            "Hello Seabiscuit  ! Good luck in the race today!\n"
          ]
        }
      ],
      "source": [
        "#none default arguments first, followed by default arguments, must be in order based on arguement type\n",
        "def horse_name(first, middle = '', last = ''):\n",
        "    return f\"Hello {first} {middle} {last}! Good luck in the race today!\"\n",
        "\n",
        "print(horse_name('Seabiscuit'))\n"
      ]
    },
    {
      "attachments": {},
      "cell_type": "markdown",
      "metadata": {
        "id": "sJvg1qE3rs8n"
      },
      "source": [
        "##### Keyword Arguments"
      ]
    },
    {
      "cell_type": "code",
      "execution_count": 82,
      "metadata": {
        "id": "IazE0eWYrs8o"
      },
      "outputs": [
        {
          "name": "stdout",
          "output_type": "stream",
          "text": [
            "1\n",
            "2\n",
            "3\n",
            "4\n",
            "5\n",
            "6\n",
            "7\n",
            "8\n",
            "9\n",
            "10\n",
            "11\n",
            "12\n",
            "13\n",
            "14\n",
            "15\n",
            "16\n",
            "17\n",
            "18\n",
            "19\n"
          ]
        }
      ],
      "source": [
        "def my_range(stop: int, start: int =0, step: int=1):\n",
        "    for i in range(start, stop, step):\n",
        "        print(i)\n",
        "\n",
        "my_range(20, 1)"
      ]
    },
    {
      "attachments": {},
      "cell_type": "markdown",
      "metadata": {
        "id": "YVE6ZfCtrs8o"
      },
      "source": [
        "# Creating a start, stop, step function"
      ]
    },
    {
      "cell_type": "code",
      "execution_count": null,
      "metadata": {
        "id": "WrVaUO6Nrs8o"
      },
      "outputs": [],
      "source": [
        "def my_range(stop: int, start: int = 1):\n",
        "    "
      ]
    },
    {
      "attachments": {},
      "cell_type": "markdown",
      "metadata": {
        "id": "X9Ec0fiKrs8o"
      },
      "source": [
        "##### Returning Values"
      ]
    },
    {
      "cell_type": "code",
      "execution_count": 84,
      "metadata": {
        "id": "tRxhyCRVrs8o"
      },
      "outputs": [
        {
          "data": {
            "text/plain": [
              "'string2'"
            ]
          },
          "execution_count": 84,
          "metadata": {},
          "output_type": "execute_result"
        }
      ],
      "source": [
        "#print does not equal return\n",
        "#printing only displays an \"output\" in your terminal. It does not return any actual objects that are associated with the print() function\n",
        "\n",
        "def print_arg(arg1, arg2):\n",
        "    return arg1 + arg2\n",
        "\n",
        "print_arg('String', '2').lower()"
      ]
    },
    {
      "attachments": {},
      "cell_type": "markdown",
      "metadata": {
        "id": "Ar3s_91Vrs8o"
      },
      "source": [
        "##### *args"
      ]
    },
    {
      "cell_type": "code",
      "execution_count": 85,
      "metadata": {
        "id": "FOKAMCwprs8o"
      },
      "outputs": [
        {
          "name": "stdout",
          "output_type": "stream",
          "text": [
            "36\n",
            "('Megazord', 'Mint Chocolate Chip', 2, 3)\n",
            "Megazord\n",
            "Mint Chocolate Chip\n",
            "2\n",
            "3\n",
            "testing\n"
          ]
        }
      ],
      "source": [
        "#It can take in any argument(s) as parameters\n",
        "def print_args(num1, *args, **kwargs):\n",
        "    print(num1)\n",
        "    print(args)\n",
        "\n",
        "    for arg in args:\n",
        "        print(arg)\n",
        "    \n",
        "    for karg in kwargs:\n",
        "        print(karg)\n",
        "\n",
        "print_args(36, \"Megazord\", 'Mint Chocolate Chip', 2,3, testing = 'Joel')"
      ]
    },
    {
      "attachments": {},
      "cell_type": "markdown",
      "metadata": {
        "id": "twSjhVegrs8o"
      },
      "source": [
        "##### Docstring"
      ]
    },
    {
      "cell_type": "code",
      "execution_count": 86,
      "metadata": {
        "id": "YqowH4COrs8p"
      },
      "outputs": [
        {
          "name": "stdout",
          "output_type": "stream",
          "text": [
            "Help on function print_names in module __main__:\n",
            "\n",
            "print_names(name_list)\n",
            "    Function name: print_names\n",
            "    Input: list object, containing stirngs of names\n",
            "    Output: Print each name in a list given.\n",
            "    \n",
            "    How does it work?: Function requires a list to be passed into it, then iterates through the list, printing each name out when completed.\n",
            "\n"
          ]
        }
      ],
      "source": [
        "def print_names(name_list):\n",
        "    \"\"\"\n",
        "    Function name: print_names\n",
        "    Input: list object, containing stirngs of names\n",
        "    Output: Print each name in a list given.\n",
        "\n",
        "    How does it work?: Function requires a list to be passed into it, then iterates through the list, printing each name out when completed.\n",
        "    \"\"\"\n",
        "    for name in name_list:\n",
        "        print(name)\n",
        "\n",
        "help(print_names)"
      ]
    },
    {
      "attachments": {},
      "cell_type": "markdown",
      "metadata": {
        "id": "EkymtL8Brs8p"
      },
      "source": [
        "##### Using a User Function in a Loop"
      ]
    },
    {
      "cell_type": "code",
      "execution_count": 102,
      "metadata": {
        "id": "CX21hhzhrs8p"
      },
      "outputs": [
        {
          "name": "stdout",
          "output_type": "stream",
          "text": [
            "\n"
          ]
        }
      ],
      "source": [
        "def print_input(answer: str):\n",
        "    print(answer)\n",
        "\n",
        "response = input('Are you ready to quit? Y/N')\n",
        "\n",
        "while True:\n",
        "    ask = input('What do you want to do today?')\n",
        "    print_input(ask)\n",
        "\n",
        "    response = input('Ready to quit yet? Y/N')\n",
        "    if response.lower() =='y':\n",
        "        break"
      ]
    },
    {
      "attachments": {},
      "cell_type": "markdown",
      "metadata": {
        "id": "V7gH_UuPrs8p"
      },
      "source": [
        "## Function Exercise <br>\n",
        "<p>Write a function that loops through a list of first_names and a list of last_names, combines the two and return a list of full_names</p>"
      ]
    },
    {
      "cell_type": "code",
      "execution_count": 100,
      "metadata": {},
      "outputs": [
        {
          "name": "stdout",
          "output_type": "stream",
          "text": [
            "['John Smith', 'Evan Smith', 'Jordan Williams', 'Max Bell']\n"
          ]
        }
      ],
      "source": [
        "first_name = ['John', 'Evan', 'Jordan', 'Max']\n",
        "last_name = ['Smith', 'Smith', 'Williams', 'Bell']\n",
        "\n",
        "#Method 1: Utlizies base python, with no additonal fucntionality:\n",
        "def method_1(f, l):\n",
        "    n = []\n",
        "    for index in range(len(f)):\n",
        "        n.append(f[index] + \" \" + l[index])\n",
        "    return n\n",
        "method_1(first_name, last_name)\n",
        "\n",
        "#method 2: Refactor into a single line of code, but better functionality:\n",
        "def method_2(f, l):\n",
        "    n =[]\n",
        "    for first, last in zip(f,l):\n",
        "        n.append(first + ' ' + last)\n",
        "        return n\n",
        "\n",
        "#method_3\n",
        "def method_3(f,l):\n",
        "    return[first + ' ' + last for first, last in zip(f,l)]\n",
        "print(method_3(first_name, last_name))"
      ]
    },
    {
      "cell_type": "code",
      "execution_count": 95,
      "metadata": {
        "id": "ogvq6xo-rs8p"
      },
      "outputs": [
        {
          "name": "stdout",
          "output_type": "stream",
          "text": [
            "John Smith\n",
            "Evan Smith\n",
            "Jordan Williams\n",
            "Max Bell\n"
          ]
        }
      ],
      "source": [
        "first_name = ['John', 'Evan', 'Jordan', 'Max']\n",
        "last_name = ['Smith', 'Smith', 'Williams', 'Bell']\n",
        "\n",
        "# Output: ['John Smith', 'Evan Smith', 'Jordan Williams', 'Max Bell']\n",
        "if len(first_name)==len(last_name):\n",
        "    n = []\n",
        "    for i in range(len(first_name)):\n",
        "        n.append(first_name[i], last_name[i])\n",
        "else:\n",
        "\n"
      ]
    },
    {
      "attachments": {},
      "cell_type": "markdown",
      "metadata": {
        "id": "yOjmLQ7Wrs8p"
      },
      "source": [
        "## Scope <br>\n",
        "<p>Scope refers to the ability to access variables, different types of scope include:<br>a) Global<br>b) Function (local)<br>c) Class (local)</p>"
      ]
    },
    {
      "cell_type": "code",
      "execution_count": 101,
      "metadata": {
        "id": "Gnb7C0-4rs8p"
      },
      "outputs": [
        {
          "name": "stdout",
          "output_type": "stream",
          "text": [
            "2\n",
            "6\n",
            "2\n"
          ]
        }
      ],
      "source": [
        "num = 2 #Global Variable\n",
        "\n",
        "def fun_num():\n",
        "    print(num) #Referencing global variable, or global scope\n",
        "    num_new = 6 #Localized variable. This is now associated with my function an can only be accessed within the scope of that function\n",
        "    print(num_new)\n",
        "fun_num()\n",
        "print(num)"
      ]
    },
    {
      "cell_type": "code",
      "execution_count": null,
      "metadata": {},
      "outputs": [],
      "source": []
    }
  ],
  "metadata": {
    "colab": {
      "provenance": []
    },
    "kernelspec": {
      "display_name": "Python 3",
      "language": "python",
      "name": "python3"
    },
    "language_info": {
      "codemirror_mode": {
        "name": "ipython",
        "version": 3
      },
      "file_extension": ".py",
      "mimetype": "text/x-python",
      "name": "python",
      "nbconvert_exporter": "python",
      "pygments_lexer": "ipython3",
      "version": "3.11.3"
    },
    "vscode": {
      "interpreter": {
        "hash": "26de051ba29f2982a8de78e945f0abaf191376122a1563185a90213a26c5da77"
      }
    }
  },
  "nbformat": 4,
  "nbformat_minor": 0
}
