{
  "cells": [
    {
      "attachments": {},
      "cell_type": "markdown",
      "metadata": {
        "id": "57xaaz1EpigH"
      },
      "source": [
        "# Coding Temple's Data Analytics Course\n",
        "---\n",
        "## Python I: Variable Assignment, Loops, Lists\n",
        "---"
      ]
    },
    {
      "attachments": {},
      "cell_type": "markdown",
      "metadata": {
        "id": "DEMU__ZTpigK"
      },
      "source": [
        "## Tasks Today:\n",
        "\n",
        "1) Int & Float assignments <br>\n",
        " &nbsp;&nbsp;&nbsp;&nbsp; a) Assigning int <br>\n",
        " &nbsp;&nbsp;&nbsp;&nbsp; b) Assigning float <br>\n",
        " &nbsp;&nbsp;&nbsp;&nbsp; c) Performing Calculations on ints and floats <br>\n",
        " &nbsp;&nbsp;&nbsp;&nbsp;&nbsp;&nbsp;&nbsp;&nbsp; - Addition <br>\n",
        " &nbsp;&nbsp;&nbsp;&nbsp;&nbsp;&nbsp;&nbsp;&nbsp; - Subtraction <br>\n",
        " &nbsp;&nbsp;&nbsp;&nbsp;&nbsp;&nbsp;&nbsp;&nbsp; - Multiplication <br>\n",
        " &nbsp;&nbsp;&nbsp;&nbsp;&nbsp;&nbsp;&nbsp;&nbsp; - Division <br>\n",
        " &nbsp;&nbsp;&nbsp;&nbsp;&nbsp;&nbsp;&nbsp;&nbsp; - Floor Division <br>\n",
        " &nbsp;&nbsp;&nbsp;&nbsp;&nbsp;&nbsp;&nbsp;&nbsp; - Modulo <br>\n",
        " &nbsp;&nbsp;&nbsp;&nbsp;&nbsp;&nbsp;&nbsp;&nbsp; - Exponential <br>\n",
        "2) String Input-Output <br>\n",
        " &nbsp;&nbsp;&nbsp;&nbsp; a) String Assignment <br>\n",
        " &nbsp;&nbsp;&nbsp;&nbsp; b) print() <br>\n",
        " &nbsp;&nbsp;&nbsp;&nbsp; c) String Concatenation <br>\n",
        " &nbsp;&nbsp;&nbsp;&nbsp; d) Type Conversion <br>\n",
        " &nbsp;&nbsp;&nbsp;&nbsp; e) input() <br>\n",
        " &nbsp;&nbsp;&nbsp;&nbsp; f) format() <br>\n",
        " &nbsp;&nbsp;&nbsp;&nbsp; g) Old Way (python 2) <br>\n",
        "3) <b>In-Class Exercise #1</b> <br>\n",
        "4) If Statements <br>\n",
        " &nbsp;&nbsp;&nbsp;&nbsp; a) 'is' keyword <br>\n",
        " &nbsp;&nbsp;&nbsp;&nbsp; b) 'in' keyword <br>\n",
        " &nbsp;&nbsp;&nbsp;&nbsp; c) 'not in' keyword <br>\n",
        "5) <b>In-Class Exercise #2</b> <br>\n",
        "6) Elif Statements <br>\n",
        "7) Else Statements <br>\n",
        "8) <b>In-Class Exercise #3</b> <br>\n",
        "9) For Loops <br>\n",
        " &nbsp;&nbsp;&nbsp;&nbsp; a) Using 'in' keyword <br>\n",
        " &nbsp;&nbsp;&nbsp;&nbsp; b) Continue Statement <br>\n",
        " &nbsp;&nbsp;&nbsp;&nbsp; c) Break Statement <br>\n",
        " &nbsp;&nbsp;&nbsp;&nbsp; d) Pass Statement <br>\n",
        " &nbsp;&nbsp;&nbsp;&nbsp; e) Double For Loops <br>\n",
        "10) While Loops <br>\n",
        " &nbsp;&nbsp;&nbsp;&nbsp; a) Looping 'While True' <br>\n",
        " &nbsp;&nbsp;&nbsp;&nbsp; b) While and For Loops Used Together <br>\n",
        "11) Built-In Functions <br>\n",
        " &nbsp;&nbsp;&nbsp;&nbsp; a) range() <br>\n",
        " &nbsp;&nbsp;&nbsp;&nbsp; b) len() <br>\n",
        " &nbsp;&nbsp;&nbsp;&nbsp; c) help() <br>\n",
        " &nbsp;&nbsp;&nbsp;&nbsp; d) isinstance() <br>\n",
        " &nbsp;&nbsp;&nbsp;&nbsp; e) abs() <br>\n",
        "12) Try and Except <br>\n",
        "13) Lists <br>\n",
        " &nbsp;&nbsp;&nbsp;&nbsp; a) Declaring Lists <br>\n",
        " &nbsp;&nbsp;&nbsp;&nbsp; b) Indexing a List <br>\n",
        " &nbsp;&nbsp;&nbsp;&nbsp; c) .append() <br>\n",
        " &nbsp;&nbsp;&nbsp;&nbsp; d) .insert() <br>\n",
        " &nbsp;&nbsp;&nbsp;&nbsp; e) .pop() <br>\n",
        " &nbsp;&nbsp;&nbsp;&nbsp; f) .remove() <br>\n",
        " &nbsp;&nbsp;&nbsp;&nbsp; g) del() <br>\n",
        " &nbsp;&nbsp;&nbsp;&nbsp; h) Concatenating Two Lists <br>\n",
        " &nbsp;&nbsp;&nbsp;&nbsp; i) Lists Within Lists <br>\n",
        " &nbsp;&nbsp;&nbsp;&nbsp; j) Looping Through Lists <br>"
      ]
    },
    {
      "attachments": {},
      "cell_type": "markdown",
      "metadata": {
        "id": "9AQEnYwJpigM"
      },
      "source": [
        "### Int & Float Assignments"
      ]
    },
    {
      "attachments": {},
      "cell_type": "markdown",
      "metadata": {
        "id": "WbMsgFCDpigM"
      },
      "source": [
        "##### Assigning int"
      ]
    },
    {
      "cell_type": "code",
      "execution_count": 1,
      "metadata": {
        "id": "if4FWmqWpigN"
      },
      "outputs": [
        {
          "data": {
            "text/plain": [
              "6"
            ]
          },
          "execution_count": 1,
          "metadata": {},
          "output_type": "execute_result"
        }
      ],
      "source": [
        "number = 6\n",
        "number"
      ]
    },
    {
      "attachments": {},
      "cell_type": "markdown",
      "metadata": {
        "id": "BBX5w1FfpigO"
      },
      "source": [
        "##### Assinging float"
      ]
    },
    {
      "cell_type": "code",
      "execution_count": 2,
      "metadata": {
        "id": "w0KpCCeXpigO"
      },
      "outputs": [
        {
          "data": {
            "text/plain": [
              "2.3"
            ]
          },
          "execution_count": 2,
          "metadata": {},
          "output_type": "execute_result"
        }
      ],
      "source": [
        "number_float = 2.3\n",
        "number_float"
      ]
    },
    {
      "attachments": {},
      "cell_type": "markdown",
      "metadata": {
        "id": "hZkNTUDApigO"
      },
      "source": [
        "#### Performing Calculations on ints and floats"
      ]
    },
    {
      "attachments": {},
      "cell_type": "markdown",
      "metadata": {
        "id": "0OJrZLB_pigP"
      },
      "source": [
        "##### Addition"
      ]
    },
    {
      "cell_type": "code",
      "execution_count": 7,
      "metadata": {
        "id": "ZplFGDG-pigP"
      },
      "outputs": [
        {
          "name": "stdout",
          "output_type": "stream",
          "text": [
            "7.4\n",
            "12.8\n"
          ]
        }
      ],
      "source": [
        "num_1 = 2\n",
        "num_2 = 5.4\n",
        "\n",
        "#This is one way in which we can perform addition to two different numbers in Python\n",
        "result = num_1 + num_2\n",
        "print(result)\n",
        "\n",
        "#There is also a Pythonic way of doing this:\n",
        "result += num_2\n",
        "print(result)"
      ]
    },
    {
      "attachments": {},
      "cell_type": "markdown",
      "metadata": {
        "id": "XpRbDiqapigQ"
      },
      "source": [
        "##### Subtraction"
      ]
    },
    {
      "cell_type": "code",
      "execution_count": 10,
      "metadata": {
        "id": "4ty9SIlqpigQ"
      },
      "outputs": [
        {
          "name": "stdout",
          "output_type": "stream",
          "text": [
            "3.4000000000000004\n",
            "2.4000000000000004\n"
          ]
        }
      ],
      "source": [
        "#subtraction uses the (-) operand\n",
        "result_diff =num_2 - num_1\n",
        "print(result_diff)\n",
        "\n",
        "#Pythonic version\n",
        "result_diff -= 1 #result_diff = result_diff-1\n",
        "print(result_diff)"
      ]
    },
    {
      "attachments": {},
      "cell_type": "markdown",
      "metadata": {
        "id": "2l8PJyt1pigQ"
      },
      "source": [
        "##### Multiplication"
      ]
    },
    {
      "cell_type": "code",
      "execution_count": 11,
      "metadata": {
        "id": "ihgp2XUCpigQ"
      },
      "outputs": [
        {
          "name": "stdout",
          "output_type": "stream",
          "text": [
            "10.8\n",
            "21.6\n"
          ]
        }
      ],
      "source": [
        "result_mult = num_1 * num_2\n",
        "print(result_mult)\n",
        "\n",
        "#Pythonic version:\n",
        "result_mult *= 2\n",
        "print(result_mult)"
      ]
    },
    {
      "attachments": {},
      "cell_type": "markdown",
      "metadata": {
        "id": "BX9eRTAtpigQ"
      },
      "source": [
        "##### Division"
      ]
    },
    {
      "cell_type": "code",
      "execution_count": 13,
      "metadata": {
        "id": "xmH2irBvpigR"
      },
      "outputs": [
        {
          "name": "stdout",
          "output_type": "stream",
          "text": [
            "2.7\n",
            "1.35\n"
          ]
        }
      ],
      "source": [
        "result_div = num_2 /num_1\n",
        "print(result_div)\n",
        "\n",
        "result_div /= 2\n",
        "print(result_div)"
      ]
    },
    {
      "attachments": {},
      "cell_type": "markdown",
      "metadata": {
        "id": "wRDQbO74pigR"
      },
      "source": [
        "##### Floor Division"
      ]
    },
    {
      "cell_type": "code",
      "execution_count": 16,
      "metadata": {
        "id": "ug00LrlRpigR"
      },
      "outputs": [
        {
          "name": "stdout",
          "output_type": "stream",
          "text": [
            "1.0\n",
            "2.0\n"
          ]
        }
      ],
      "source": [
        "result_floor = num_2 // num_1\n",
        "\n",
        "result_floor //= 2\n",
        "print(result_floor)\n",
        "result_ceiling = result_floor + 1\n",
        "print(result_ceiling)"
      ]
    },
    {
      "attachments": {},
      "cell_type": "markdown",
      "metadata": {
        "id": "xrF0YNLRpigR"
      },
      "source": [
        "##### Modulo"
      ]
    },
    {
      "cell_type": "code",
      "execution_count": 18,
      "metadata": {
        "id": "KJbeV5W8pigR"
      },
      "outputs": [
        {
          "name": "stdout",
          "output_type": "stream",
          "text": [
            "1.4000000000000004\n",
            "1\n"
          ]
        }
      ],
      "source": [
        "result_mod = num_2 % num_1\n",
        "print(result_mod)\n",
        "print(round(result_mod))"
      ]
    },
    {
      "attachments": {},
      "cell_type": "markdown",
      "metadata": {
        "id": "mV3tz9_4pigS"
      },
      "source": [
        "##### Exponential"
      ]
    },
    {
      "cell_type": "code",
      "execution_count": 20,
      "metadata": {
        "id": "HkDfvywxpigS"
      },
      "outputs": [
        {
          "name": "stdout",
          "output_type": "stream",
          "text": [
            "25\n",
            "625\n"
          ]
        }
      ],
      "source": [
        "squared = 5**2\n",
        "print(squared)\n",
        "\n",
        "#pythonic\n",
        "squared **= 2\n",
        "print(squared)"
      ]
    },
    {
      "attachments": {},
      "cell_type": "markdown",
      "metadata": {
        "id": "dryy0pBFpigS"
      },
      "source": [
        "### String Input-Output"
      ]
    },
    {
      "attachments": {},
      "cell_type": "markdown",
      "metadata": {
        "id": "Xjfphv3UpigS"
      },
      "source": [
        "##### String Assignment"
      ]
    },
    {
      "cell_type": "code",
      "execution_count": 21,
      "metadata": {
        "id": "QQA_K7eppigS"
      },
      "outputs": [
        {
          "name": "stdout",
          "output_type": "stream",
          "text": [
            "This is Python.\n",
            "This is Python. It's great.\n"
          ]
        }
      ],
      "source": [
        "name = 'This is Python.'\n",
        "print(name)\n",
        "\n",
        "name = \"This is Python. It's great.\"\n",
        "print(name)\n",
        "\n",
        "name = 'This is Python. It\\'s great.'"
      ]
    },
    {
      "attachments": {},
      "cell_type": "markdown",
      "metadata": {
        "id": "x6Fx1auepigS"
      },
      "source": [
        "##### print() <br>\n",
        "<p>Don't forget about end=' '</p>"
      ]
    },
    {
      "cell_type": "code",
      "execution_count": 22,
      "metadata": {
        "id": "Z4SCUqIVpigS"
      },
      "outputs": [
        {
          "name": "stdout",
          "output_type": "stream",
          "text": [
            "This is my first name: \n",
            "Full name: Lisa \n"
          ]
        }
      ],
      "source": [
        "name = \"Lisa\"\n",
        "print(\"This is my first name: \")\n",
        "print(\"Full name:\", name , end=' \\n')"
      ]
    },
    {
      "attachments": {},
      "cell_type": "markdown",
      "metadata": {
        "id": "0rvl648hpigT"
      },
      "source": [
        "##### String Concatenation"
      ]
    },
    {
      "cell_type": "code",
      "execution_count": 25,
      "metadata": {
        "id": "S3Y5p6N8pigT"
      },
      "outputs": [
        {
          "name": "stdout",
          "output_type": "stream",
          "text": [
            "Lisa Tosti\n"
          ]
        }
      ],
      "source": [
        "first_name = 'lisa'\n",
        "last_name = 'tosti'\n",
        "full_name = first_name + ' ' + last_name\n",
        "print(full_name.title())\n",
        "\n",
        "#Pythonic\n",
        "full_name += ' Jr.'"
      ]
    },
    {
      "attachments": {},
      "cell_type": "markdown",
      "metadata": {
        "id": "XlQAnJBbpigT"
      },
      "source": [
        "##### Type Conversion"
      ]
    },
    {
      "cell_type": "code",
      "execution_count": 28,
      "metadata": {
        "id": "LczVxyFmpigT"
      },
      "outputs": [
        {
          "name": "stdout",
          "output_type": "stream",
          "text": [
            "<class 'str'>\n",
            "<class 'int'>\n",
            "55\n"
          ]
        }
      ],
      "source": [
        "number = '32'\n",
        "print(type(number))\n",
        "number = int(number)\n",
        "print(type(number))\n",
        "number += 23\n",
        "print(number)"
      ]
    },
    {
      "attachments": {},
      "cell_type": "markdown",
      "metadata": {
        "id": "D5r5bba4pigT"
      },
      "source": [
        "##### input()"
      ]
    },
    {
      "cell_type": "code",
      "execution_count": 3,
      "metadata": {
        "id": "93t1CFRdpigT"
      },
      "outputs": [
        {
          "name": "stdout",
          "output_type": "stream",
          "text": [
            "Lee\n",
            "38\n"
          ]
        }
      ],
      "source": [
        "#Input is a function. It asks for input in the terminal\n",
        "name = input(\"What is your name?\")\n",
        "print(name)\n",
        "\n",
        "#import thing to note:\n",
        "# Input always poutputs a stirng object!\n",
        "age = int(input(\"What is your age?\"))\n",
        "print(age)"
      ]
    },
    {
      "attachments": {},
      "cell_type": "markdown",
      "metadata": {
        "id": "TkEhAU61pigT"
      },
      "source": [
        "##### format()"
      ]
    },
    {
      "cell_type": "code",
      "execution_count": 4,
      "metadata": {
        "id": "T656F6u4pigU"
      },
      "outputs": [
        {
          "name": "stdout",
          "output_type": "stream",
          "text": [
            "You are 38 Lee and you are getting wiser!\n",
            "38 is a great time in life!\n"
          ]
        }
      ],
      "source": [
        "age = int(input(\"What is your age? \"))\n",
        "result_str = \"You are {} {} and you are getting wiser!\".format(age, name)\n",
        "print(result_str)\n",
        "\n",
        "#f-string\n",
        "result_again = f'{age} is a great time in life!'\n",
        "print(result_again)"
      ]
    },
    {
      "attachments": {},
      "cell_type": "markdown",
      "metadata": {
        "id": "7IOvBGXapigU"
      },
      "source": [
        "##### Old Way (python 2)"
      ]
    },
    {
      "cell_type": "code",
      "execution_count": null,
      "metadata": {
        "id": "x1NsLPo6pigU"
      },
      "outputs": [],
      "source": []
    },
    {
      "attachments": {},
      "cell_type": "markdown",
      "metadata": {
        "id": "Jfh2Y6qwpigU"
      },
      "source": [
        "# In-Class Exercise 1 <br>\n",
        "<p>Create a format statement that asks for color, year, make, model and prints out the results</p>"
      ]
    },
    {
      "cell_type": "code",
      "execution_count": 9,
      "metadata": {
        "id": "XEkCn2tHpigU"
      },
      "outputs": [
        {
          "name": "stdout",
          "output_type": "stream",
          "text": [
            "This is my car's information: Blue, 1995, Honda, Civic\n"
          ]
        }
      ],
      "source": [
        "# Uses input function to ask for color, year, make, and model of vehicle.\n",
        "# Then, you will use a .format() or f-string to print those values back to your user.\n",
        "#Understand\n",
        "#Input for color, year, make, model\n",
        "#Output is f-string that prints those values\n",
        "\n",
        "#Plan\n",
        "#Define function as def car(color, year, make, model)\n",
        "#Return f-string of values\n",
        "#Print function\n",
        "\n",
        "def car(color, year, make, model):\n",
        "    return f\"This is my car's information: {color.title()}, {int(year)}, {make.title()}, {model.title()}\"\n",
        "\n",
        "print(car('blue', '1995', 'Honda', 'Civic'))"
      ]
    },
    {
      "attachments": {},
      "cell_type": "markdown",
      "metadata": {
        "id": "7rBu-8S0pigU"
      },
      "source": [
        "### If Statements"
      ]
    },
    {
      "cell_type": "code",
      "execution_count": 14,
      "metadata": {
        "id": "mbHj2C8QpigV"
      },
      "outputs": [
        {
          "name": "stdout",
          "output_type": "stream",
          "text": [
            "Not Equal\n",
            "Low Number\n",
            "Pass\n"
          ]
        }
      ],
      "source": [
        "#Available operands: >, <, ==. >=, <=\n",
        "\n",
        "#Truth Tree\n",
        "# T & F = F\n",
        "# T && T = T\n",
        "# T || F = T\n",
        "# T | F = F\n",
        "\n",
        "num_1 = 5\n",
        "num_2 = 10\n",
        "\n",
        "if num_2 == num_1:\n",
        "    print('Equal Values')\n",
        "else:\n",
        "    print('Not Equal')\n",
        "\n",
        "if num_2 > num_1 & num_1 < 20:\n",
        "    print(\"Low Number\")\n",
        "\n",
        "if num_2 < num_1 | num_2 < 20:\n",
        "    print(\"Pass\")"
      ]
    },
    {
      "attachments": {},
      "cell_type": "markdown",
      "metadata": {
        "id": "qkYer6qtpigV"
      },
      "source": [
        "##### 'is' keyword"
      ]
    },
    {
      "cell_type": "code",
      "execution_count": 13,
      "metadata": {
        "id": "FHbOkfRJpigV",
        "scrolled": true
      },
      "outputs": [
        {
          "name": "stdout",
          "output_type": "stream",
          "text": [
            "This is the exact number/object.\n"
          ]
        },
        {
          "name": "stderr",
          "output_type": "stream",
          "text": [
            "<>:4: SyntaxWarning: \"is\" with a literal. Did you mean \"==\"?\n",
            "<>:4: SyntaxWarning: \"is\" with a literal. Did you mean \"==\"?\n",
            "/var/folders/wv/wddzdb5s2hb240fq0zrq7d240000gn/T/ipykernel_5467/1434128174.py:4: SyntaxWarning: \"is\" with a literal. Did you mean \"==\"?\n",
            "  if num_3 is 55:\n"
          ]
        }
      ],
      "source": [
        "# used when we check if something is the same/similar to an object.\n",
        "num_3 = 55\n",
        "\n",
        "if num_3 is 55:\n",
        "    print(\"This is the exact number/object.\")"
      ]
    },
    {
      "attachments": {},
      "cell_type": "markdown",
      "metadata": {
        "id": "GYrLnQv3pigW"
      },
      "source": [
        "##### 'in' keyword"
      ]
    },
    {
      "cell_type": "code",
      "execution_count": 15,
      "metadata": {
        "id": "0LglfRfDpigW"
      },
      "outputs": [
        {
          "name": "stdout",
          "output_type": "stream",
          "text": [
            "The character who lost everything.\n"
          ]
        }
      ],
      "source": [
        "char_name = \"Max Payne\"\n",
        "\n",
        "if 'Max' in char_name:\n",
        "    print('The character who lost everything.')"
      ]
    },
    {
      "attachments": {},
      "cell_type": "markdown",
      "metadata": {
        "id": "O3YwJKEgpigW"
      },
      "source": [
        "##### 'not in' keyword'"
      ]
    },
    {
      "cell_type": "code",
      "execution_count": 18,
      "metadata": {
        "id": "sgIzj-vopigW"
      },
      "outputs": [
        {
          "name": "stdout",
          "output_type": "stream",
          "text": [
            "Here is the character you asked for: Tails\n"
          ]
        }
      ],
      "source": [
        "char_list = [char_name, \"Sonic\", 'Tails', 'Knuckles']\n",
        "\n",
        "name = input('character name: ')\n",
        "if name not in char_list:\n",
        "    print(f\" The character named {name} is not present in this list.\")\n",
        "else: \n",
        "    print(f\"Here is the character you asked for: {name}\")"
      ]
    },
    {
      "attachments": {},
      "cell_type": "markdown",
      "metadata": {
        "id": "U064bQXGpigW"
      },
      "source": [
        "# In-Class Exercise 2 <br>\n",
        "<p>Ask a user for input, check to see if the letter 'p' is in the input</p>"
      ]
    },
    {
      "cell_type": "code",
      "execution_count": 26,
      "metadata": {
        "id": "IW9tVkRYpigW"
      },
      "outputs": [
        {
          "name": "stdout",
          "output_type": "stream",
          "text": [
            "True\n",
            "True\n",
            "True\n",
            "False\n",
            "True\n",
            "False\n"
          ]
        }
      ],
      "source": [
        "#U - Input - string, Output - whether p is in the string\n",
        "#P - Check if letter in string contains p\n",
        "\n",
        "def sol(string):\n",
        "    if 'p' in string.lower():\n",
        "        return True\n",
        "    else:\n",
        "        return False\n",
        "\n",
        "def city_p(city):\n",
        "    return 'p' in city.lower()\n",
        "    \n",
        "print(sol('Pie'))\n",
        "print(sol('apple'))\n",
        "print(sol('POMPOM'))\n",
        "print(sol('banana'))\n",
        "print(city_p('Philadelphia'))\n",
        "print(city_p(\"Chicago\"))"
      ]
    },
    {
      "attachments": {},
      "cell_type": "markdown",
      "metadata": {
        "id": "5-UuzohapigW"
      },
      "source": [
        "## Using 'and'/'or' with If Statements"
      ]
    },
    {
      "cell_type": "code",
      "execution_count": 27,
      "metadata": {
        "id": "LnxGb7aQpigW"
      },
      "outputs": [
        {
          "name": "stdout",
          "output_type": "stream",
          "text": [
            "True and True\n"
          ]
        }
      ],
      "source": [
        "num_1 = 15\n",
        "num_2 = 3\n",
        "num_3 = 10\n",
        "num_4 = 3\n",
        "\n",
        "if num_1 / 5 == num_2 & num_3 - 7 == num_4:\n",
        "    print(\"True and True\")\n",
        "\n"
      ]
    },
    {
      "attachments": {},
      "cell_type": "markdown",
      "metadata": {
        "id": "whxY1xwwpigX"
      },
      "source": [
        "### Elif Statements"
      ]
    },
    {
      "cell_type": "code",
      "execution_count": 29,
      "metadata": {
        "id": "Td62fi2FpigX"
      },
      "outputs": [
        {
          "name": "stdout",
          "output_type": "stream",
          "text": [
            "Your name is Lee\n"
          ]
        }
      ],
      "source": [
        "first_name = 'Lee'\n",
        "\n",
        "if first_name == 'Katie':\n",
        "    print(\"Your name is Katie!\")\n",
        "elif first_name != 'Lee':\n",
        "    print(\"Your name is not Lee.\")\n",
        "else:\n",
        "    print(\"Your name is Lee\")\n",
        "\n",
        "\n"
      ]
    },
    {
      "attachments": {},
      "cell_type": "markdown",
      "metadata": {
        "id": "ASN3ooropigX"
      },
      "source": [
        "### Else Statements"
      ]
    },
    {
      "cell_type": "code",
      "execution_count": null,
      "metadata": {
        "id": "PFNuu-vupigX"
      },
      "outputs": [],
      "source": [
        "#see above"
      ]
    },
    {
      "attachments": {},
      "cell_type": "markdown",
      "metadata": {
        "id": "Ck0z9vNipigX"
      },
      "source": [
        "### For Loops"
      ]
    },
    {
      "cell_type": "code",
      "execution_count": 33,
      "metadata": {
        "id": "d39ZrrARpigX"
      },
      "outputs": [
        {
          "name": "stdout",
          "output_type": "stream",
          "text": [
            "Max Payne\n",
            "Sonic\n",
            "Tails\n",
            "Knuckles\n",
            "L\n",
            "e\n",
            "e\n",
            " \n",
            "T\n",
            "o\n",
            "s\n",
            "t\n",
            "i\n"
          ]
        }
      ],
      "source": [
        "# Iterables: is anything that can be parsed over in smaller chuncks. \n",
        "# We can break a word down into individual letters.\n",
        "# We can break lists down into individual words\n",
        "\n",
        "name = 'Lee Tosti'\n",
        "\n",
        "for letter in char_list:\n",
        "    print(letter)\n",
        "\n",
        "for index_pos in range(len(name)):\n",
        "    print(name[index_pos])"
      ]
    },
    {
      "attachments": {},
      "cell_type": "markdown",
      "metadata": {
        "id": "5S0I8aINpigY"
      },
      "source": [
        "##### Continue Statement"
      ]
    },
    {
      "cell_type": "code",
      "execution_count": 38,
      "metadata": {
        "id": "J_kRqgj5pigY"
      },
      "outputs": [
        {
          "name": "stdout",
          "output_type": "stream",
          "text": [
            "0\n",
            "1\n",
            "2\n",
            "3\n",
            "4\n",
            "6\n",
            "7\n",
            "8\n",
            "9\n",
            "10\n",
            "11\n",
            "12\n",
            "13\n",
            "14\n",
            "15\n",
            "16\n",
            "17\n",
            "18\n",
            "19\n"
          ]
        }
      ],
      "source": [
        "# Continues to the next iteration, bypassing any other values or actions in which you would want to take\n",
        "for i in range(20):\n",
        "    if i == 5:\n",
        "        continue\n",
        "    print(i)"
      ]
    },
    {
      "attachments": {},
      "cell_type": "markdown",
      "metadata": {
        "id": "ayhahusHpigY"
      },
      "source": [
        "##### Break Statement"
      ]
    },
    {
      "cell_type": "code",
      "execution_count": 37,
      "metadata": {
        "id": "rVZD2dL1pigY"
      },
      "outputs": [
        {
          "name": "stdout",
          "output_type": "stream",
          "text": [
            "0\n",
            "1\n",
            "2\n",
            "3\n",
            "4\n"
          ]
        }
      ],
      "source": [
        "#Will break out of the current loop it is present in:\n",
        "for i in range(20):\n",
        "    if i == 5:\n",
        "        break\n",
        "    print(i)\n"
      ]
    },
    {
      "attachments": {},
      "cell_type": "markdown",
      "metadata": {
        "id": "TNq5R0MJpigY"
      },
      "source": [
        "##### Pass Statement"
      ]
    },
    {
      "cell_type": "code",
      "execution_count": 39,
      "metadata": {
        "id": "Z8IVvwtdpigY"
      },
      "outputs": [],
      "source": [
        "# mostly used as a placeholder and will contine on to the same iteration:\n",
        "for i in name:\n",
        "    pass # TODO: COME BACK AND FINISH\n",
        "\n",
        "def repleacement_rows_in_database(info):\n",
        "    # TODO Write out a function that can replace rows in DB\n",
        "    pass"
      ]
    },
    {
      "attachments": {},
      "cell_type": "markdown",
      "metadata": {
        "id": "aiccDYGIpigZ"
      },
      "source": [
        "##### Double For Loops"
      ]
    },
    {
      "cell_type": "code",
      "execution_count": 40,
      "metadata": {
        "id": "AfOZQ6CPpigZ"
      },
      "outputs": [
        {
          "name": "stdout",
          "output_type": "stream",
          "text": [
            "i =  j =  0\n",
            "i =  j =  1\n",
            "i =  j =  2\n",
            "i =  j =  3\n",
            "i =  j =  4\n",
            "i =  j =  0\n",
            "i =  j =  1\n",
            "i =  j =  2\n",
            "i =  j =  3\n",
            "i =  j =  4\n",
            "i =  j =  0\n",
            "i =  j =  1\n",
            "i =  j =  2\n",
            "i =  j =  3\n",
            "i =  j =  4\n",
            "i =  j =  0\n",
            "i =  j =  1\n",
            "i =  j =  2\n",
            "i =  j =  3\n",
            "i =  j =  4\n",
            "i =  j =  0\n",
            "i =  j =  1\n",
            "i =  j =  2\n",
            "i =  j =  3\n",
            "i =  j =  4\n"
          ]
        }
      ],
      "source": [
        "#Nest inside loops\n",
        "\n",
        "for i in range(5):\n",
        "    for j in range(5):\n",
        "        print('i = ', 'j = ', j)"
      ]
    },
    {
      "attachments": {},
      "cell_type": "markdown",
      "metadata": {
        "id": "YSJaEYX8pigZ"
      },
      "source": [
        "### While Loops"
      ]
    },
    {
      "cell_type": "code",
      "execution_count": 41,
      "metadata": {
        "id": "AanJpMEOpigZ"
      },
      "outputs": [
        {
          "name": "stdout",
          "output_type": "stream",
          "text": [
            "0\n",
            "1\n",
            "2\n",
            "3\n",
            "4\n",
            "5\n",
            "6\n",
            "7\n",
            "8\n",
            "9\n"
          ]
        }
      ],
      "source": [
        "# While keyword, conditional statement\n",
        "# Based on conditional statement, the lopp will either continue or stop\n",
        "\n",
        "num = 0\n",
        "while num < 10:\n",
        "    print(num)\n",
        "    num += 1"
      ]
    },
    {
      "attachments": {},
      "cell_type": "markdown",
      "metadata": {
        "id": "lKGkgn6npigZ"
      },
      "source": [
        "##### Looping 'While True'"
      ]
    },
    {
      "cell_type": "code",
      "execution_count": 42,
      "metadata": {
        "id": "q_7GHK21pigZ"
      },
      "outputs": [
        {
          "name": "stdout",
          "output_type": "stream",
          "text": [
            "Infinite Loop\n"
          ]
        }
      ],
      "source": [
        "game_over = False\n",
        "\n",
        "while True:\n",
        "    print('Infinite Loop')\n",
        "    if game_over == False:\n",
        "        break"
      ]
    },
    {
      "attachments": {},
      "cell_type": "markdown",
      "metadata": {
        "id": "mIR2glbrpigZ"
      },
      "source": [
        "##### While & For Loops Used Together"
      ]
    },
    {
      "cell_type": "code",
      "execution_count": 44,
      "metadata": {
        "id": "xVRDp4cspigZ"
      },
      "outputs": [
        {
          "name": "stdout",
          "output_type": "stream",
          "text": [
            "\n",
            "While Loop Iteration #: 0\n",
            "For Loop Iteration #: 0\n",
            "For Loop Iteration #: 1\n",
            "\n",
            "While Loop Iteration #: 1\n",
            "For Loop Iteration #: 0\n",
            "For Loop Iteration #: 1\n",
            "\n",
            "While Loop Iteration #: 2\n",
            "For Loop Iteration #: 0\n",
            "For Loop Iteration #: 1\n",
            "\n",
            "While Loop Iteration #: 3\n",
            "For Loop Iteration #: 0\n",
            "For Loop Iteration #: 1\n",
            "\n",
            "While Loop Iteration #: 4\n",
            "For Loop Iteration #: 0\n",
            "For Loop Iteration #: 1\n"
          ]
        }
      ],
      "source": [
        "num = 0\n",
        "\n",
        "while num < 5:\n",
        "    print(\"\\nWhile Loop Iteration #:\", num)\n",
        "\n",
        "    for i in range(2):\n",
        "        print('For Loop Iteration #:', i)\n",
        "    \n",
        "    num += 1"
      ]
    },
    {
      "attachments": {},
      "cell_type": "markdown",
      "metadata": {
        "id": "mdZEfa2ppiga"
      },
      "source": [
        "### Built-In Functions"
      ]
    },
    {
      "attachments": {},
      "cell_type": "markdown",
      "metadata": {
        "id": "TePeW8K4piga"
      },
      "source": [
        "##### range()"
      ]
    },
    {
      "cell_type": "code",
      "execution_count": 45,
      "metadata": {
        "id": "ic7Mz-e1piga"
      },
      "outputs": [
        {
          "name": "stdout",
          "output_type": "stream",
          "text": [
            "2\n",
            "4\n",
            "6\n",
            "8\n",
            "10\n",
            "12\n",
            "14\n",
            "16\n",
            "18\n"
          ]
        }
      ],
      "source": [
        "#Start, stop, step\n",
        "\n",
        "#The start is inferred at the value of 0, the step is inferred as the value of 1\n",
        "\n",
        "#range(5) -> [0, 1, 2, 3, 4]\n",
        "for i in range(2, 20, 2):\n",
        "    print(i)"
      ]
    },
    {
      "attachments": {},
      "cell_type": "markdown",
      "metadata": {
        "id": "A_grIbGIpiga"
      },
      "source": [
        "##### len()"
      ]
    },
    {
      "cell_type": "code",
      "execution_count": 46,
      "metadata": {
        "id": "s2CBPduMpiga"
      },
      "outputs": [
        {
          "name": "stdout",
          "output_type": "stream",
          "text": [
            "9\n",
            "4\n"
          ]
        }
      ],
      "source": [
        "name_length = len(name)\n",
        "print(len(name))\n",
        "\n",
        "char_list_len = len(char_list)\n",
        "print(char_list_len)"
      ]
    },
    {
      "attachments": {},
      "cell_type": "markdown",
      "metadata": {
        "id": "dFyB7vgSpiga"
      },
      "source": [
        "##### help()"
      ]
    },
    {
      "cell_type": "code",
      "execution_count": 47,
      "metadata": {
        "id": "AEMbQIlCpiga"
      },
      "outputs": [
        {
          "name": "stdout",
          "output_type": "stream",
          "text": [
            "Help on class range in module builtins:\n",
            "\n",
            "class range(object)\n",
            " |  range(stop) -> range object\n",
            " |  range(start, stop[, step]) -> range object\n",
            " |  \n",
            " |  Return an object that produces a sequence of integers from start (inclusive)\n",
            " |  to stop (exclusive) by step.  range(i, j) produces i, i+1, i+2, ..., j-1.\n",
            " |  start defaults to 0, and stop is omitted!  range(4) produces 0, 1, 2, 3.\n",
            " |  These are exactly the valid indices for a list of 4 elements.\n",
            " |  When step is given, it specifies the increment (or decrement).\n",
            " |  \n",
            " |  Methods defined here:\n",
            " |  \n",
            " |  __bool__(self, /)\n",
            " |      True if self else False\n",
            " |  \n",
            " |  __contains__(self, key, /)\n",
            " |      Return key in self.\n",
            " |  \n",
            " |  __eq__(self, value, /)\n",
            " |      Return self==value.\n",
            " |  \n",
            " |  __ge__(self, value, /)\n",
            " |      Return self>=value.\n",
            " |  \n",
            " |  __getattribute__(self, name, /)\n",
            " |      Return getattr(self, name).\n",
            " |  \n",
            " |  __getitem__(self, key, /)\n",
            " |      Return self[key].\n",
            " |  \n",
            " |  __gt__(self, value, /)\n",
            " |      Return self>value.\n",
            " |  \n",
            " |  __hash__(self, /)\n",
            " |      Return hash(self).\n",
            " |  \n",
            " |  __iter__(self, /)\n",
            " |      Implement iter(self).\n",
            " |  \n",
            " |  __le__(self, value, /)\n",
            " |      Return self<=value.\n",
            " |  \n",
            " |  __len__(self, /)\n",
            " |      Return len(self).\n",
            " |  \n",
            " |  __lt__(self, value, /)\n",
            " |      Return self<value.\n",
            " |  \n",
            " |  __ne__(self, value, /)\n",
            " |      Return self!=value.\n",
            " |  \n",
            " |  __reduce__(...)\n",
            " |      Helper for pickle.\n",
            " |  \n",
            " |  __repr__(self, /)\n",
            " |      Return repr(self).\n",
            " |  \n",
            " |  __reversed__(...)\n",
            " |      Return a reverse iterator.\n",
            " |  \n",
            " |  count(...)\n",
            " |      rangeobject.count(value) -> integer -- return number of occurrences of value\n",
            " |  \n",
            " |  index(...)\n",
            " |      rangeobject.index(value) -> integer -- return index of value.\n",
            " |      Raise ValueError if the value is not present.\n",
            " |  \n",
            " |  ----------------------------------------------------------------------\n",
            " |  Static methods defined here:\n",
            " |  \n",
            " |  __new__(*args, **kwargs) from builtins.type\n",
            " |      Create and return a new object.  See help(type) for accurate signature.\n",
            " |  \n",
            " |  ----------------------------------------------------------------------\n",
            " |  Data descriptors defined here:\n",
            " |  \n",
            " |  start\n",
            " |  \n",
            " |  step\n",
            " |  \n",
            " |  stop\n",
            "\n"
          ]
        }
      ],
      "source": [
        "help(range)"
      ]
    },
    {
      "attachments": {},
      "cell_type": "markdown",
      "metadata": {
        "id": "9OWMPi2cpiga"
      },
      "source": [
        "##### isinstance()"
      ]
    },
    {
      "cell_type": "code",
      "execution_count": 49,
      "metadata": {
        "id": "hdt_QRVlpigb"
      },
      "outputs": [
        {
          "name": "stdout",
          "output_type": "stream",
          "text": [
            "This number is definitely a floating point value.\n"
          ]
        }
      ],
      "source": [
        "# isinstance(var, type)\n",
        "\n",
        "isinstance(4.5, int)\n",
        "\n",
        "if isinstance(4.5, float):\n",
        "    print(\"This number is definitely a floating point value.\")"
      ]
    },
    {
      "attachments": {},
      "cell_type": "markdown",
      "metadata": {
        "id": "pFWkGjappigb"
      },
      "source": [
        "##### abs()"
      ]
    },
    {
      "cell_type": "code",
      "execution_count": 51,
      "metadata": {
        "id": "_--tP9mppigb"
      },
      "outputs": [
        {
          "name": "stdout",
          "output_type": "stream",
          "text": [
            "5\n",
            "-10\n"
          ]
        }
      ],
      "source": [
        "#absolute value which is the positive\n",
        "print(abs(-5))\n",
        "print(-abs(10))"
      ]
    },
    {
      "attachments": {},
      "cell_type": "markdown",
      "metadata": {
        "id": "BBW-bZlMpigb"
      },
      "source": [
        "### Try and Except"
      ]
    },
    {
      "cell_type": "code",
      "execution_count": 52,
      "metadata": {
        "id": "1D69EKPDpigb"
      },
      "outputs": [],
      "source": [
        "try:\n",
        "    number_test = 0\n",
        "    input_num = int(input(\"Guess a number!\"))\n",
        "    if input_num != number_test:\n",
        "        input_num = input_num + number_test\n",
        "        print(\"Your number is: \" + str(input_num))\n",
        "except:\n",
        "    print(\"Oh man! That didn't work...ERROR: Change your input value to a number!\")"
      ]
    },
    {
      "attachments": {},
      "cell_type": "markdown",
      "metadata": {
        "id": "KfNu45y9pigb"
      },
      "source": [
        "### Lists"
      ]
    },
    {
      "attachments": {},
      "cell_type": "markdown",
      "metadata": {
        "id": "_pQYGjf-pigb"
      },
      "source": [
        "##### Declaring Lists"
      ]
    },
    {
      "cell_type": "code",
      "execution_count": 53,
      "metadata": {
        "id": "DfaAbDkupigb"
      },
      "outputs": [
        {
          "name": "stdout",
          "output_type": "stream",
          "text": [
            "['Alex', 'Andy', 'Randall', 'Katie', 'Kali']\n"
          ]
        }
      ],
      "source": [
        "#1-D data structure. 1-D means that there is a magnitude, or a caliber of existence on the X-axis, however, there is no y.\n",
        "# Declare an empty using square brackets:\n",
        "list_1 = []\n",
        "\n",
        "#Alternateively, you can declare using a list() function:\n",
        "list_2 = list()\n",
        "\n",
        "names = ['Alex', 'Andy', 'Randall', 'Katie', 'Kali']\n",
        "print(names)"
      ]
    },
    {
      "attachments": {},
      "cell_type": "markdown",
      "metadata": {
        "id": "FRrW8cwkpigb"
      },
      "source": [
        "##### Indexing a List"
      ]
    },
    {
      "cell_type": "code",
      "execution_count": 57,
      "metadata": {
        "id": "G7dNYCC7pigc"
      },
      "outputs": [
        {
          "name": "stdout",
          "output_type": "stream",
          "text": [
            "Alex\n",
            "['Andy', 'Randall', 'Katie', 'Kali']\n",
            "['Alex', 'Andy']\n",
            "['Andy', 'Katie']\n",
            "['Kali', 'Katie', 'Randall', 'Andy', 'Alex']\n",
            "['Randall', 'Katie', 'Kali']\n"
          ]
        }
      ],
      "source": [
        "# [start: stop: step]\n",
        "\n",
        "print(names[0])\n",
        "\n",
        "print(names[1:])\n",
        "\n",
        "print(names[:2])\n",
        "\n",
        "print(names[1::2])\n",
        "\n",
        "print(names[::-1])\n",
        "\n",
        "print(names[-3:])"
      ]
    },
    {
      "attachments": {},
      "cell_type": "markdown",
      "metadata": {
        "id": "t__TV9J3pigc"
      },
      "source": [
        "##### .append()"
      ]
    },
    {
      "cell_type": "code",
      "execution_count": 58,
      "metadata": {
        "id": "WYNIdv2ppigc"
      },
      "outputs": [
        {
          "name": "stdout",
          "output_type": "stream",
          "text": [
            "['Alex', 'Andy', 'Randall', 'Katie', 'Kali', 'Lee']\n"
          ]
        }
      ],
      "source": [
        "names.append('Lee')\n",
        "print(names)"
      ]
    },
    {
      "attachments": {},
      "cell_type": "markdown",
      "metadata": {
        "id": "JqK9rNXipigc"
      },
      "source": [
        "##### .insert()"
      ]
    },
    {
      "cell_type": "code",
      "execution_count": 63,
      "metadata": {
        "id": "CUBDbaxHpigc"
      },
      "outputs": [
        {
          "data": {
            "text/plain": [
              "['Alex', 'Andy', 'James', 'James', 'Kali', 'Katie', 'Lee', 'Randall']"
            ]
          },
          "execution_count": 63,
          "metadata": {},
          "output_type": "execute_result"
        }
      ],
      "source": [
        "names.sort()\n",
        "names\n",
        "\n",
        "names.insert(2, \"James\")\n",
        "names"
      ]
    },
    {
      "attachments": {},
      "cell_type": "markdown",
      "metadata": {
        "id": "wrykYThKpigc"
      },
      "source": [
        "##### .pop()"
      ]
    },
    {
      "cell_type": "code",
      "execution_count": 65,
      "metadata": {
        "id": "M2vsYThtpigc"
      },
      "outputs": [
        {
          "name": "stdout",
          "output_type": "stream",
          "text": [
            "Lee\n",
            "['Alex', 'Andy', 'Kali', 'Katie', 'Randall']\n"
          ]
        }
      ],
      "source": [
        "names.pop(2)\n",
        "names\n",
        "\n",
        "removed_name = names.pop(4)\n",
        "print(removed_name)\n",
        "print(names)"
      ]
    },
    {
      "attachments": {},
      "cell_type": "markdown",
      "metadata": {
        "id": "f7HSgrpBpigc"
      },
      "source": [
        "\n",
        "##### .remove()"
      ]
    },
    {
      "cell_type": "code",
      "execution_count": 71,
      "metadata": {
        "id": "Yy1Fntqfpigc"
      },
      "outputs": [
        {
          "name": "stdout",
          "output_type": "stream",
          "text": [
            "['Alex', 'Andy', 'Kali', 'Katie', 'Randall']\n"
          ]
        }
      ],
      "source": [
        "#Remove all multiples out of this list:\n",
        "#By default, .remove() removes only the first instance of the value you give it\n",
        "#Values to be removed, not index positions!\n",
        "\n",
        "#use a while loop to take out all instances\n",
        "while 'bob' in names:\n",
        "    names.remove('bob')\n",
        "print(names)"
      ]
    },
    {
      "attachments": {},
      "cell_type": "markdown",
      "metadata": {
        "id": "lQmj8afmpigc"
      },
      "source": [
        "##### del()"
      ]
    },
    {
      "cell_type": "code",
      "execution_count": 72,
      "metadata": {
        "id": "bNzO04zgpigd"
      },
      "outputs": [
        {
          "name": "stdout",
          "output_type": "stream",
          "text": [
            "['Alex', 'Kali', 'Katie', 'Randall']\n"
          ]
        }
      ],
      "source": [
        "del(names[1])\n",
        "print(names)"
      ]
    },
    {
      "attachments": {},
      "cell_type": "markdown",
      "metadata": {
        "id": "gBmrIDmEpigd"
      },
      "source": [
        "##### Concatenating Two Lists"
      ]
    },
    {
      "cell_type": "code",
      "execution_count": 73,
      "metadata": {
        "id": "EhY6ViTgpigd"
      },
      "outputs": [
        {
          "data": {
            "text/plain": [
              "[0, 1, 2, 3, 4, 5]"
            ]
          },
          "execution_count": 73,
          "metadata": {},
          "output_type": "execute_result"
        }
      ],
      "source": [
        "#add values or list together\n",
        "list_2 = [0,1,2]\n",
        "list_3 = [3,4,5]\n",
        "list_2 + list_3"
      ]
    },
    {
      "attachments": {},
      "cell_type": "markdown",
      "metadata": {
        "id": "qFFI7yWvpigd"
      },
      "source": [
        "##### Lists Within Lists"
      ]
    },
    {
      "cell_type": "code",
      "execution_count": 74,
      "metadata": {
        "id": "kEdQnK2dpigd"
      },
      "outputs": [
        {
          "name": "stdout",
          "output_type": "stream",
          "text": [
            "['Max', 23, 2.4937489554, ['Sally', 28, 4.038295749, ['Nintendo']]]\n",
            "Max\n",
            "Sally\n",
            "Nintendo\n"
          ]
        }
      ],
      "source": [
        "# lists are able to house any and all data types at one time. This includes other data stores. Other lists, other dictionaries, sets, etc.\n",
        "# these can next as deep as you want\n",
        "names = [\"Max\", 23, 2.4937489554, ['Sally', 28, 4.038295749, ['Nintendo']]]\n",
        "print(names)\n",
        "print(names[0])\n",
        "print(names[3][0])\n",
        "print(names[3][3][0])\n"
      ]
    },
    {
      "attachments": {},
      "cell_type": "markdown",
      "metadata": {
        "id": "WtbhHB8Dpigd"
      },
      "source": [
        "##### Looping Through Lists"
      ]
    },
    {
      "cell_type": "code",
      "execution_count": 76,
      "metadata": {
        "id": "l-8Lv_6ipigd"
      },
      "outputs": [
        {
          "name": "stdout",
          "output_type": "stream",
          "text": [
            "Max\n",
            "23\n",
            "2.4937489554\n",
            "['Sally', 28, 4.038295749, ['Nintendo']]\n",
            "Max\n",
            "23\n",
            "2.4937489554\n",
            "['Sally', 28, 4.038295749, ['Nintendo']]\n"
          ]
        }
      ],
      "source": [
        "# We can loop through using the two methods we learned earlier: Index position, the values\n",
        "#Loop through with an index accessor:\n",
        "\n",
        "for index in range(len(names)):\n",
        "    print(names[index])\n",
        "\n",
        "#Loop through with a for loop, accessing each value individually:\n",
        "for value in names:\n",
        "    print(value)"
      ]
    },
    {
      "cell_type": "code",
      "execution_count": null,
      "metadata": {},
      "outputs": [],
      "source": []
    },
    {
      "cell_type": "code",
      "execution_count": null,
      "metadata": {},
      "outputs": [],
      "source": [
        "\n"
      ]
    },
    {
      "cell_type": "code",
      "execution_count": null,
      "metadata": {},
      "outputs": [],
      "source": []
    }
  ],
  "metadata": {
    "colab": {
      "provenance": []
    },
    "kernelspec": {
      "display_name": "Python 3",
      "language": "python",
      "name": "python3"
    },
    "language_info": {
      "codemirror_mode": {
        "name": "ipython",
        "version": 3
      },
      "file_extension": ".py",
      "mimetype": "text/x-python",
      "name": "python",
      "nbconvert_exporter": "python",
      "pygments_lexer": "ipython3",
      "version": "3.11.3"
    },
    "vscode": {
      "interpreter": {
        "hash": "26de051ba29f2982a8de78e945f0abaf191376122a1563185a90213a26c5da77"
      }
    }
  },
  "nbformat": 4,
  "nbformat_minor": 0
}
