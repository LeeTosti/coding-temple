{
  "cells": [
    {
      "attachments": {},
      "cell_type": "markdown",
      "metadata": {
        "id": "5KFNmEo6vVr7"
      },
      "source": [
        "# Coding Temple's Data Analytics Course\n",
        "---\n",
        "## Python I: Data Collections 2 (Dictionaries, Sets) and Importing Modules\n",
        "---"
      ]
    },
    {
      "attachments": {},
      "cell_type": "markdown",
      "metadata": {
        "id": "j9K-45kEvVr-"
      },
      "source": [
        "### Tasks Today:\n",
        "\n",
        "1) Dictionary <br>\n",
        " &nbsp;&nbsp;&nbsp;&nbsp; a) Declaring (key, value) <br>\n",
        " &nbsp;&nbsp;&nbsp;&nbsp; b) Accessing Values <br>\n",
        " &nbsp;&nbsp;&nbsp;&nbsp; ------ Exercise #1 - Print the eye color of each person in a double nested dict <br>\n",
        " &nbsp;&nbsp;&nbsp;&nbsp; c) Adding New Pairs <br>\n",
        " &nbsp;&nbsp;&nbsp;&nbsp; d) Modifying Values <br>\n",
        " &nbsp;&nbsp;&nbsp;&nbsp; e) Removing Key, Value Pairs <br>\n",
        " &nbsp;&nbsp;&nbsp;&nbsp; f) Looping a Dictionary <br>\n",
        " &nbsp;&nbsp;&nbsp;&nbsp; g) Looping Only Keys <br>\n",
        " &nbsp;&nbsp;&nbsp;&nbsp; h) Looping Only Values <br>\n",
        " &nbsp;&nbsp;&nbsp;&nbsp; ------ Exercise #2 - Create a Function that Prints All Key Value Pairs within a print .format()  <br>\n",
        " &nbsp;&nbsp;&nbsp;&nbsp; i) sorted() <br>\n",
        " &nbsp;&nbsp;&nbsp;&nbsp; j) Lists with Dictionaries <br>\n",
        " &nbsp;&nbsp;&nbsp;&nbsp; k) Dictionaries with Lists <br>\n",
        " &nbsp;&nbsp;&nbsp;&nbsp; l) Dictionaries with Dictionaries <br>\n",
        " &nbsp;&nbsp;&nbsp;&nbsp; ------ Exercise #3 - Write a Function that asks someone's name and address, and then stores that into a dictionary, which prints all names and addresses after they're done putting information in...  <br>\n",
        "2) Dictionaries vs. Lists (over time)<br>\n",
        "3) Set <br>\n",
        " &nbsp;&nbsp;&nbsp;&nbsp; a) Declaring <br>\n",
        " &nbsp;&nbsp;&nbsp;&nbsp; b) .add() <br>\n",
        " &nbsp;&nbsp;&nbsp;&nbsp; c) .remove() <br>\n",
        " &nbsp;&nbsp;&nbsp;&nbsp; d) .union() <br>\n",
        " &nbsp;&nbsp;&nbsp;&nbsp; e) .intersection() <br>\n",
        " &nbsp;&nbsp;&nbsp;&nbsp; f) .difference() <br>\n",
        " &nbsp;&nbsp;&nbsp;&nbsp; g) Frozen Set <br>\n",
        "4) Modules <br>\n",
        " &nbsp;&nbsp;&nbsp;&nbsp; a) Importing Entire Modules <br>\n",
        " &nbsp;&nbsp;&nbsp;&nbsp; b) Importing Methods Only <br>\n",
        " &nbsp;&nbsp;&nbsp;&nbsp; c) Using the 'as' Keyword <br>\n",
        " &nbsp;&nbsp;&nbsp;&nbsp; d) Creating a Module <br>\n",
        "5) Exercises <br>\n",
        " &nbsp;&nbsp;&nbsp;&nbsp; a) Build a Shopping Cart <br>\n",
        " &nbsp;&nbsp;&nbsp;&nbsp; b) Create Your Own Module <br>"
      ]
    },
    {
      "attachments": {},
      "cell_type": "markdown",
      "metadata": {
        "id": "tG2CnNg5vVr_"
      },
      "source": [
        "## Dictionary <br>\n",
        "<p>A collection of data with 'key:value' pairs. Dictionaries are ordered as of Python 3.6</p>"
      ]
    },
    {
      "attachments": {},
      "cell_type": "markdown",
      "metadata": {
        "id": "_ovzJpJ2vVr_"
      },
      "source": [
        "##### Declaring (key, value)"
      ]
    },
    {
      "cell_type": "code",
      "execution_count": 1,
      "metadata": {
        "id": "NmLqPHwvvVsA"
      },
      "outputs": [
        {
          "name": "stdout",
          "output_type": "stream",
          "text": [
            "{'Dave': '225 Main Street', 'Sean': '522 1st Street', 0: 'This is a value for the key of 0'}\n"
          ]
        }
      ],
      "source": [
        "#Declaring an empty dictionary\n",
        "d_1 = ()\n",
        "\n",
        "# We can use:\n",
        "d_2 = dict()\n",
        "\n",
        "#Keys should ten to be unique!\n",
        "#Can use most values as keys, but be careful when using int values!\n",
        "\n",
        "#Create our first dictionary!\n",
        "# (k:v, more...)\n",
        "d_3 = {\n",
        "    'Dave' : '225 Main Street',\n",
        "    'Sean' : '522 1st Street',\n",
        "    0 : 'This is a value for the key of 0'\n",
        "}\n",
        "\n",
        "print(d_3)"
      ]
    },
    {
      "attachments": {},
      "cell_type": "markdown",
      "metadata": {
        "id": "PmFu1v4CvVsA"
      },
      "source": [
        "##### Accessing Values"
      ]
    },
    {
      "cell_type": "code",
      "execution_count": 2,
      "metadata": {
        "id": "t1apypi_vVsB"
      },
      "outputs": [
        {
          "data": {
            "text/plain": [
              "'522 1st Street'"
            ]
          },
          "execution_count": 2,
          "metadata": {},
          "output_type": "execute_result"
        }
      ],
      "source": [
        "#dict[key]\n",
        "\n",
        "d_3['Sean']"
      ]
    },
    {
      "attachments": {},
      "cell_type": "markdown",
      "metadata": {
        "id": "CfVTqCdLvVsB"
      },
      "source": [
        "## In-Class Exercise #1 - Print a formatted statement from the dictionary below <br>\n",
        "<p>The output should be '2018 Chevrolet Silverado'</p>"
      ]
    },
    {
      "cell_type": "code",
      "execution_count": 6,
      "metadata": {
        "id": "purCoPGOvVsB"
      },
      "outputs": [
        {
          "name": "stdout",
          "output_type": "stream",
          "text": [
            "2018 Cheverolet Silverado\n",
            "Here is the information on my truck: 2018 Chevrolet Silverado\n"
          ]
        }
      ],
      "source": [
        "# use the dict below\n",
        "truck = {\n",
        "    'year': 2018,\n",
        "    'make': 'Chevrolet',\n",
        "    'model': 'Silverado'\n",
        "}\n",
        "#Statitic Programming:\n",
        "print('2018 Cheverolet Silverado')\n",
        "\n",
        "#Dynamic programming\n",
        "print(f\"Here is the information on my truck: {truck['year']} {truck['make']} {truck['model']}\")"
      ]
    },
    {
      "attachments": {},
      "cell_type": "markdown",
      "metadata": {
        "id": "duMuMkiHvVsC"
      },
      "source": [
        "##### Adding New Pairs"
      ]
    },
    {
      "cell_type": "code",
      "execution_count": 7,
      "metadata": {
        "id": "jviBrpR9vVsD"
      },
      "outputs": [
        {
          "data": {
            "text/plain": [
              "{'Dave': '225 Main Street',\n",
              " 'Sean': '522 1st Street',\n",
              " 0: 'This is a value for the key of 0',\n",
              " 'Bob': '151 Main Street'}"
            ]
          },
          "execution_count": 7,
          "metadata": {},
          "output_type": "execute_result"
        }
      ],
      "source": [
        "# dict[key] = new_value\n",
        "\n",
        "d_3['Bob'] = \"151 Main Street\"\n",
        "\n",
        "d_3"
      ]
    },
    {
      "attachments": {},
      "cell_type": "markdown",
      "metadata": {
        "id": "_Bbc0fFEvVsD"
      },
      "source": [
        "##### Modifying Values"
      ]
    },
    {
      "cell_type": "code",
      "execution_count": 8,
      "metadata": {
        "id": "b1Z6VnhMvVsE"
      },
      "outputs": [],
      "source": [
        "#dict[exist_key] = new_value\n",
        "\n",
        "d_3['Bob'] = d_3['Bob'] + \"Chicago, IL\""
      ]
    },
    {
      "attachments": {},
      "cell_type": "markdown",
      "metadata": {
        "id": "Wrbr3-yRvVsE"
      },
      "source": [
        "##### Removing Key, Value Pairs"
      ]
    },
    {
      "cell_type": "code",
      "execution_count": 9,
      "metadata": {
        "id": "dxzQ0qKLvVsE"
      },
      "outputs": [
        {
          "data": {
            "text/plain": [
              "{'Dave': '225 Main Street',\n",
              " 'Sean': '522 1st Street',\n",
              " 0: 'This is a value for the key of 0'}"
            ]
          },
          "execution_count": 9,
          "metadata": {},
          "output_type": "execute_result"
        }
      ],
      "source": [
        "#del dict[key] will delete the full KVP\n",
        "\n",
        "del d_3['Bob']\n",
        "\n",
        "d_3"
      ]
    },
    {
      "attachments": {},
      "cell_type": "markdown",
      "metadata": {
        "id": "pCmdguG9vVsE"
      },
      "source": [
        "##### Looping a Dictionary"
      ]
    },
    {
      "cell_type": "code",
      "execution_count": 12,
      "metadata": {
        "id": "cFnSnZX4vVsE"
      },
      "outputs": [
        {
          "name": "stdout",
          "output_type": "stream",
          "text": [
            "Dave\n",
            "225 Main Street\n",
            "Sean\n",
            "522 1st Street\n",
            "0\n",
            "This is a value for the key of 0\n",
            "('Dave', '225 Main Street')\n",
            "('Sean', '522 1st Street')\n",
            "(0, 'This is a value for the key of 0')\n",
            "dict_items([('Dave', '225 Main Street'), ('Sean', '522 1st Street'), (0, 'This is a value for the key of 0')])\n"
          ]
        }
      ],
      "source": [
        "#.items()\n",
        "#a, b, c = 1,2,3\n",
        "#print(a)\n",
        "#print(b)\n",
        "#print(c)\n",
        "\n",
        "for key, value in d_3.items():\n",
        "    print(key)\n",
        "    print(value)\n",
        "\n",
        "#this returns tuples of each KVP\n",
        "for obj in d_3.items():\n",
        "    print(obj)\n",
        "\n",
        "print(d_3.items())"
      ]
    },
    {
      "attachments": {},
      "cell_type": "markdown",
      "metadata": {
        "id": "upAeCEWzvVsF"
      },
      "source": [
        "##### Looping Only Keys"
      ]
    },
    {
      "cell_type": "code",
      "execution_count": 14,
      "metadata": {
        "id": "n9nNnOVAvVsF"
      },
      "outputs": [
        {
          "name": "stdout",
          "output_type": "stream",
          "text": [
            "Dave\n",
            "Sean\n",
            "0\n",
            "Dave\n",
            "Sean\n",
            "0\n",
            "225 Main Street\n",
            "522 1st Street\n",
            "This is a value for the key of 0\n"
          ]
        }
      ],
      "source": [
        "# .keys() Accesses the keys in a dictionary, using the built in method\n",
        "\n",
        "for key in d_3.keys():\n",
        "    print(key)\n",
        "\n",
        "#Grab these without a built-in method:\n",
        "for key in d_3:\n",
        "    print(key)\n",
        "\n",
        "for key in d_3:\n",
        "    print(d_3[key])"
      ]
    },
    {
      "attachments": {},
      "cell_type": "markdown",
      "metadata": {
        "id": "ZgKwXNn4vVsF"
      },
      "source": [
        "##### Looping Only Values"
      ]
    },
    {
      "cell_type": "code",
      "execution_count": 16,
      "metadata": {
        "id": "1CkDVB8xvVsF"
      },
      "outputs": [
        {
          "name": "stdout",
          "output_type": "stream",
          "text": [
            "225 Main Street\n",
            "522 1st Street\n",
            "This is a value for the key of 0\n",
            "225 Main Street\n",
            "522 1st Street\n",
            "This is a value for the key of 0\n"
          ]
        }
      ],
      "source": [
        "# .values()\n",
        "\n",
        "for value in d_3.values():\n",
        "    print(value)\n",
        "\n",
        "for value in d_3:\n",
        "    print(d_3[value])"
      ]
    },
    {
      "attachments": {},
      "cell_type": "markdown",
      "metadata": {
        "id": "SqvChRcVvVsF"
      },
      "source": [
        "## In-Class Exercise #2 - Create a Function that Prints All Key Value Pairs within a print .format() <br>\n",
        "<p><b>Output should be:</b><br>\n",
        "Max has blue eyes<br>\n",
        "Lilly has brown eyes<br>\n",
        "Barney has blue eyes<br>\n",
        "etc.\n",
        "</p>"
      ]
    },
    {
      "cell_type": "code",
      "execution_count": 19,
      "metadata": {
        "id": "gquKolGWvVsG"
      },
      "outputs": [
        {
          "name": "stdout",
          "output_type": "stream",
          "text": [
            "Max has blue eyes\n",
            "Lilly has brown eyes\n",
            "Barney has blue eyes\n",
            "Larney has brown eyes\n",
            "Ted has purple eyes\n"
          ]
        }
      ],
      "source": [
        "# use the dict below\n",
        "\n",
        "people = {\n",
        "    'Max': 'blue',\n",
        "    'Lilly': 'brown',\n",
        "    'Barney': 'blue',\n",
        "    'Larney': 'brown',\n",
        "    'Ted': 'purple'\n",
        "}\n",
        "def peoples(d):\n",
        "    for key, value in d.items():\n",
        "        print(f\"{key} has {value} eyes\")\n",
        "\n",
        "peoples(people)"
      ]
    },
    {
      "attachments": {},
      "cell_type": "markdown",
      "metadata": {
        "id": "29N6BueGvVsG"
      },
      "source": [
        "##### sorted()"
      ]
    },
    {
      "cell_type": "code",
      "execution_count": 20,
      "metadata": {
        "id": "UYqYM0RUvVsG"
      },
      "outputs": [
        {
          "name": "stdout",
          "output_type": "stream",
          "text": [
            "['Barney', 'Larney', 'Lilly', 'Max', 'Ted']\n",
            "['blue', 'blue', 'brown', 'brown', 'purple']\n",
            "[('Barney', 'blue'), ('Larney', 'brown'), ('Lilly', 'brown'), ('Max', 'blue'), ('Ted', 'purple')]\n"
          ]
        }
      ],
      "source": [
        "# Sort variables in order\n",
        "# sorted(dict.values()), dict.keys(), or dict.items()\n",
        "\n",
        "print(sorted(people.keys()))\n",
        "print(sorted(people.values()))\n",
        "print(sorted(people.items()))"
      ]
    },
    {
      "attachments": {},
      "cell_type": "markdown",
      "metadata": {
        "id": "4GJZ_rO-vVsG"
      },
      "source": [
        "##### List with Dictionaries"
      ]
    },
    {
      "cell_type": "code",
      "execution_count": 22,
      "metadata": {
        "id": "y-4KUYz6vVsG"
      },
      "outputs": [
        {
          "name": "stdout",
          "output_type": "stream",
          "text": [
            "Barbara\n",
            "Austin\n"
          ]
        }
      ],
      "source": [
        "names = ['Dave', 'Randy', 'Greg', {'random_guy' : 'Robert', 'random_girl': 'Barbara', 'assorted_randos': ['Steve', 'Austin', 'Ten']}]\n",
        "\n",
        "print(names[3]['random_girl'])\n",
        "print(names[3]['assorted_randos'][1])\n"
      ]
    },
    {
      "attachments": {},
      "cell_type": "markdown",
      "metadata": {
        "id": "Sa_0SbhSvVsG"
      },
      "source": [
        "##### Dictionaries with Lists"
      ]
    },
    {
      "cell_type": "code",
      "execution_count": 23,
      "metadata": {
        "id": "DadZ8fsuvVsH"
      },
      "outputs": [
        {
          "name": "stdout",
          "output_type": "stream",
          "text": [
            "Smith\n",
            "McGee\n",
            "Smitty\n",
            "Raul\n",
            "Raul\n"
          ]
        }
      ],
      "source": [
        "random_data = {\n",
        "    'list1' : [54, 7, 11],\n",
        "    'list2' : ['Smith', 'McGee', 'Smitty', 'Raul']\n",
        "}\n",
        "for value in random_data['list2']:\n",
        "    print(value)\n",
        "\n",
        "print(random_data['list2'][3])"
      ]
    },
    {
      "attachments": {},
      "cell_type": "markdown",
      "metadata": {
        "id": "XGAjke_TvVsH"
      },
      "source": [
        "##### Dictionaries with Dictionaries"
      ]
    },
    {
      "cell_type": "code",
      "execution_count": 30,
      "metadata": {
        "id": "XVhbUSUrvVsH"
      },
      "outputs": [
        {
          "name": "stdout",
          "output_type": "stream",
          "text": [
            "3.99\n"
          ]
        }
      ],
      "source": [
        "# To get values, you traverse through the keys:\n",
        "food_dict = {\n",
        "    'ice_cream' : {\n",
        "        'CHO' : {\n",
        "            'Schrodingers Farms' : 2.99,\n",
        "            'Walmart' : 1.99\n",
        "        },\n",
        "        'VA' : {\n",
        "            'Schrodingers Farm' : 3.99,\n",
        "            'Walmart' : 1.99\n",
        "        },\n",
        "        'Oreo' : {\n",
        "            'Walmart' : 2.99,\n",
        "            'Baskin Robbins' : 4.99        \n",
        "        }\n",
        "    }\n",
        "}\n",
        "\n",
        "print(food_dict['ice_cream']['VA'][\"Schrodingers Farm\"])"
      ]
    },
    {
      "attachments": {},
      "cell_type": "markdown",
      "metadata": {
        "id": "6ZhjLk9rvVsH"
      },
      "source": [
        "## Dictionaries vs. Lists (over time) Example of RUNTIME\n",
        "### When inputting values in a Dictionary vs List"
      ]
    },
    {
      "cell_type": "code",
      "execution_count": 32,
      "metadata": {
        "id": "GCtOL0TyvVsH"
      },
      "outputs": [],
      "source": [
        "import time\n",
        "\n",
        "d = {}\n",
        "\n",
        "for i in range(10000000):\n",
        "    d[i] = 'value'\n",
        "\n",
        "big_list = [x for x in range(10000000)]"
      ]
    },
    {
      "cell_type": "code",
      "execution_count": 33,
      "metadata": {
        "id": "wRkH9LcEvVsH"
      },
      "outputs": [
        {
          "name": "stdout",
          "output_type": "stream",
          "text": [
            "value\n",
            "Elapsed time for a dictionary: 0.00010585784912109375\n"
          ]
        }
      ],
      "source": [
        "start_time = time.time()\n",
        "\n",
        "print(d[9999999])\n",
        "\n",
        "end_time = time.time() - start_time\n",
        "print('Elapsed time for a dictionary: {}'.format(end_time))\n"
      ]
    },
    {
      "attachments": {},
      "cell_type": "markdown",
      "metadata": {
        "id": "A0JtLQk2vVsI"
      },
      "source": [
        "## Exercise #3 - Write a Function that asks someone's name and address, and then stores that into a dictionary, and continues to do so until they choose to 'quit'. Once they quit, the program should print all names and addresses. <br>\n",
        "<p>\n",
        "<b>Proper steps:</b><br>\n",
        "step 1: write a function that takes in information and stores it in a dictionary<br>\n",
        "step 2: define an empty dictionary to work with<br>\n",
        "step 3: create our loop, which asks the user for information until they quit<br>\n",
        "step 4: ask for the information, and store it into variables<br>\n",
        "step 5: check if the user types quit<br>\n",
        "step 5a: print out all information<br>\n",
        "step 5b: break out of the loop<br>\n",
        "step 6: if they didn't quit, add the information to the dictionary<br>\n",
        "step 7: invoke the function by calling it\n",
        "</p>"
      ]
    },
    {
      "cell_type": "code",
      "execution_count": 34,
      "metadata": {
        "id": "EooQW0lJvVsI"
      },
      "outputs": [
        {
          "name": "stdout",
          "output_type": "stream",
          "text": [
            "The address for Lisa is 33 Sunrise Terrace.\n",
            "The address for Matt is 4532 N Claremont Ave.\n"
          ]
        }
      ],
      "source": [
        "def store_info():\n",
        "    d = {}\n",
        "    while True:\n",
        "        name = input(\"Enter a name to be stored or say 'quit':\")\n",
        "        address = input(\"Enter an address to be stored or say 'quit'\")\n",
        "\n",
        "        if name.lower() == 'quit' or address.lower() == 'quit':\n",
        "            for key, value in d.items():\n",
        "                print(f'The address for {key} is {value}.')\n",
        "            break\n",
        "        d[name] = address\n",
        "\n",
        "store_info()"
      ]
    },
    {
      "attachments": {},
      "cell_type": "markdown",
      "metadata": {
        "id": "4t2mRyx8vVsI"
      },
      "source": [
        "## Set <br>\n",
        "<p>A Set is an unordered collection data type that is iterable (loop), mutable, and has no duplicate elements.<br>Major advantage is that it is highly optimized in checking if something is in the set, as opposed to checking if something is in a list.</p>"
      ]
    },
    {
      "attachments": {},
      "cell_type": "markdown",
      "metadata": {
        "id": "ZP2IKs3HvVsI"
      },
      "source": [
        "##### Declaring"
      ]
    },
    {
      "cell_type": "code",
      "execution_count": 36,
      "metadata": {
        "id": "xr0Vv_fUvVsI"
      },
      "outputs": [
        {
          "name": "stdout",
          "output_type": "stream",
          "text": [
            "{1, 4, 6}\n",
            "{1, 4, 6}\n"
          ]
        }
      ],
      "source": [
        "# set() or {,}\n",
        "# no order {3, 2, 1} outputs {1, 2, 3}\n",
        "\n",
        "nums = {4, 1, 6, 4}\n",
        "print(nums)\n",
        "\n",
        "nums = set([4, 1, 6, 4])\n",
        "#brackets show that numbers are all on object in the set\n",
        "print(nums)"
      ]
    },
    {
      "attachments": {},
      "cell_type": "markdown",
      "metadata": {
        "id": "HQObphljvVsI"
      },
      "source": [
        "##### .add()"
      ]
    },
    {
      "cell_type": "code",
      "execution_count": 37,
      "metadata": {
        "id": "YFDHFSAxvVsI"
      },
      "outputs": [
        {
          "name": "stdout",
          "output_type": "stream",
          "text": [
            "{56, 1, 4, 6}\n"
          ]
        }
      ],
      "source": [
        "nums.add(56)\n",
        "print(nums)\n",
        "\n"
      ]
    },
    {
      "attachments": {},
      "cell_type": "markdown",
      "metadata": {
        "id": "PRcw-9h8vVsJ"
      },
      "source": [
        "##### .remove()"
      ]
    },
    {
      "cell_type": "code",
      "execution_count": 38,
      "metadata": {
        "id": "OzWMbZtcvVsJ"
      },
      "outputs": [
        {
          "name": "stdout",
          "output_type": "stream",
          "text": [
            "{1, 4, 6}\n"
          ]
        }
      ],
      "source": [
        "# removes by value\n",
        "# set.remove()\n",
        "\n",
        "nums.remove(56)\n",
        "print(nums)\n"
      ]
    },
    {
      "attachments": {},
      "cell_type": "markdown",
      "metadata": {
        "id": "8peDkJYDvVsJ"
      },
      "source": [
        "##### .union() "
      ]
    },
    {
      "cell_type": "code",
      "execution_count": 39,
      "metadata": {
        "id": "kszS-rNkvVsJ"
      },
      "outputs": [
        {
          "name": "stdout",
          "output_type": "stream",
          "text": [
            "{1, 2, 3, 4, 5, 6}\n",
            "{1, 2, 3, 4, 5, 6}\n"
          ]
        }
      ],
      "source": [
        "# Returns a union of two sets, can also use the '|' or set.union(set2)\n",
        "# Joing all values in the sets and get rid of any dup values\n",
        "\n",
        "s1 = {1,2,3,4}\n",
        "s2 = {3,4,5,6}\n",
        "\n",
        "s3 = s1.union(s2)\n",
        "print(s3)\n",
        "\n",
        "s4 = s1 | s2\n",
        "print(s4)"
      ]
    },
    {
      "attachments": {},
      "cell_type": "markdown",
      "metadata": {
        "id": "7Pkmgy1bvVsJ"
      },
      "source": [
        "##### .intersection()"
      ]
    },
    {
      "cell_type": "code",
      "execution_count": 40,
      "metadata": {
        "id": "QcThuZRavVsJ"
      },
      "outputs": [
        {
          "name": "stdout",
          "output_type": "stream",
          "text": [
            "{3, 4}\n",
            "{3, 4}\n"
          ]
        }
      ],
      "source": [
        "# Returns the intersection of the two sets (where they match)\n",
        "# Uses the set.intersection() or &\n",
        "# Only takes elements that are similar between both sets\n",
        "\n",
        "s5 = s1.intersection(s2)\n",
        "\n",
        "s6 = s2 & s1 #order for intersection does not matter\n",
        "\n",
        "print(s5)\n",
        "print(s6)"
      ]
    },
    {
      "attachments": {},
      "cell_type": "markdown",
      "metadata": {
        "id": "myOE3tfRvVsJ"
      },
      "source": [
        "##### .difference()"
      ]
    },
    {
      "cell_type": "code",
      "execution_count": 42,
      "metadata": {
        "id": "UrVBrL_-vVsK"
      },
      "outputs": [
        {
          "name": "stdout",
          "output_type": "stream",
          "text": [
            "{5, 6}\n",
            "{1, 2}\n"
          ]
        }
      ],
      "source": [
        "# Returns a set containing all the elements of the invoking set that are not present with the secondary set\n",
        "# We can call this using invoking_set.difference(secondary_set) or (-)\n",
        "# Only takes values from the invoking set that are not in the secondary set\n",
        "# ORDER MATTERS\n",
        "\n",
        "s7 = s2 - s1\n",
        "\n",
        "s8 = s1.difference(s2)\n",
        "\n",
        "print(s7)\n",
        "print(s8)"
      ]
    },
    {
      "attachments": {},
      "cell_type": "markdown",
      "metadata": {
        "id": "tsio_H7MvVsK"
      },
      "source": [
        "##### .clear()"
      ]
    },
    {
      "cell_type": "code",
      "execution_count": 43,
      "metadata": {
        "id": "caPfgjjfvVsK"
      },
      "outputs": [
        {
          "name": "stdout",
          "output_type": "stream",
          "text": [
            "set()\n"
          ]
        }
      ],
      "source": [
        "#Empty the set\n",
        "s8.clear()\n",
        "\n",
        "print(s8)"
      ]
    },
    {
      "attachments": {},
      "cell_type": "markdown",
      "metadata": {
        "id": "9q2ZAWJhvVsK"
      },
      "source": [
        "##### Frozenset <br>\n",
        "<p>Frozen sets are immutable objects that only support methods and operators that produce a result without affecting the frozen set or sets to which they are applied.</p><br><b>Unique & Immutable</b>"
      ]
    },
    {
      "cell_type": "code",
      "execution_count": null,
      "metadata": {
        "id": "GY03_VgRvVsK"
      },
      "outputs": [],
      "source": [
        "# frozenset(set)\n",
        "# cannot alter or change anything in the set\n",
        "my_frozen_set = frozenset(s3)\n",
        "\n",
        "print(my_frozen_set)\n",
        "\n",
        "#If you try to add to this set, it will throw an error\n"
      ]
    },
    {
      "cell_type": "code",
      "execution_count": 45,
      "metadata": {},
      "outputs": [
        {
          "name": "stdout",
          "output_type": "stream",
          "text": [
            "[1, 4, 9, 16, 25]\n"
          ]
        }
      ],
      "source": [
        "new_list = []\n",
        "prev_list = [1,2,3,4,5]\n",
        "for val in prev_list:\n",
        "    new_list.append(val**2)\n",
        "\n",
        "new_list = [val ** 2 for val in prev_list]\n",
        "\n",
        "print(new_list)"
      ]
    },
    {
      "cell_type": "code",
      "execution_count": 51,
      "metadata": {},
      "outputs": [
        {
          "name": "stdout",
          "output_type": "stream",
          "text": [
            "{'a': 1, 'b': 2, 'c': 3, 'd': 4}\n",
            "{'a': 1, 'b': 4, 'c': 9, 'd': 16}\n"
          ]
        },
        {
          "data": {
            "text/plain": [
              "{'b': 16, 'c': 81, 'd': 256}"
            ]
          },
          "execution_count": 51,
          "metadata": {},
          "output_type": "execute_result"
        }
      ],
      "source": [
        "dict_1 = {'a' : 1, 'b' : 2, 'c' : 3, 'd' : 4}\n",
        "print(dict_1)\n",
        "\n",
        "for key in dict_1.keys():\n",
        "    dict_1[key] = dict_1[key] ** 2\n",
        "print(dict_1)\n",
        "\n",
        "#dictionary comprehension\n",
        "# key: value iterator conditional\n",
        "{k:v**2 for (k,v) in dict_1.items() if v > 2}"
      ]
    },
    {
      "cell_type": "code",
      "execution_count": 52,
      "metadata": {},
      "outputs": [
        {
          "name": "stdout",
          "output_type": "stream",
          "text": [
            "{'b': 2.0, 'd': 8.0}\n"
          ]
        }
      ],
      "source": [
        "dict_comp = {key:value / 2 for key, value in dict_1.items() if value % 2 == 0}\n",
        "print(dict_comp)"
      ]
    },
    {
      "cell_type": "code",
      "execution_count": 54,
      "metadata": {},
      "outputs": [
        {
          "ename": "AttributeError",
          "evalue": "'dict' object has no attribute 'item'",
          "output_type": "error",
          "traceback": [
            "\u001b[0;31m---------------------------------------------------------------------------\u001b[0m",
            "\u001b[0;31mAttributeError\u001b[0m                            Traceback (most recent call last)",
            "\u001b[1;32m/Users/lisatosti/Documents/GitHub/coding-temple/week-2/lecture_notes/Python I Day 3.ipynb Cell 57\u001b[0m line \u001b[0;36m8\n\u001b[1;32m      <a href='vscode-notebook-cell:/Users/lisatosti/Documents/GitHub/coding-temple/week-2/lecture_notes/Python%20I%20Day%203.ipynb#Y122sZmlsZQ%3D%3D?line=0'>1</a>\u001b[0m temps \u001b[39m=\u001b[39m {\n\u001b[1;32m      <a href='vscode-notebook-cell:/Users/lisatosti/Documents/GitHub/coding-temple/week-2/lecture_notes/Python%20I%20Day%203.ipynb#Y122sZmlsZQ%3D%3D?line=1'>2</a>\u001b[0m     \u001b[39m'\u001b[39m\u001b[39mtemp1\u001b[39m\u001b[39m'\u001b[39m : \u001b[39m0\u001b[39m,\n\u001b[1;32m      <a href='vscode-notebook-cell:/Users/lisatosti/Documents/GitHub/coding-temple/week-2/lecture_notes/Python%20I%20Day%203.ipynb#Y122sZmlsZQ%3D%3D?line=2'>3</a>\u001b[0m     \u001b[39m'\u001b[39m\u001b[39mtemp2\u001b[39m\u001b[39m'\u001b[39m : \u001b[39m17\u001b[39m,\n\u001b[1;32m      <a href='vscode-notebook-cell:/Users/lisatosti/Documents/GitHub/coding-temple/week-2/lecture_notes/Python%20I%20Day%203.ipynb#Y122sZmlsZQ%3D%3D?line=3'>4</a>\u001b[0m     \u001b[39m'\u001b[39m\u001b[39mtemp3\u001b[39m\u001b[39m'\u001b[39m : \u001b[39m32\u001b[39m,\n\u001b[1;32m      <a href='vscode-notebook-cell:/Users/lisatosti/Documents/GitHub/coding-temple/week-2/lecture_notes/Python%20I%20Day%203.ipynb#Y122sZmlsZQ%3D%3D?line=4'>5</a>\u001b[0m     \u001b[39m'\u001b[39m\u001b[39mtemp4\u001b[39m\u001b[39m'\u001b[39m : \u001b[39m-\u001b[39m\u001b[39m7\u001b[39m\n\u001b[1;32m      <a href='vscode-notebook-cell:/Users/lisatosti/Documents/GitHub/coding-temple/week-2/lecture_notes/Python%20I%20Day%203.ipynb#Y122sZmlsZQ%3D%3D?line=5'>6</a>\u001b[0m }\n\u001b[1;32m      <a href='vscode-notebook-cell:/Users/lisatosti/Documents/GitHub/coding-temple/week-2/lecture_notes/Python%20I%20Day%203.ipynb#Y122sZmlsZQ%3D%3D?line=6'>7</a>\u001b[0m \u001b[39m#5/9 * (value -32)\u001b[39;00m\n\u001b[0;32m----> <a href='vscode-notebook-cell:/Users/lisatosti/Documents/GitHub/coding-temple/week-2/lecture_notes/Python%20I%20Day%203.ipynb#Y122sZmlsZQ%3D%3D?line=7'>8</a>\u001b[0m {k:((\u001b[39m5\u001b[39m\u001b[39m/\u001b[39m\u001b[39m9\u001b[39m) \u001b[39m*\u001b[39m (v \u001b[39m-\u001b[39m \u001b[39m32\u001b[39m)) \u001b[39mfor\u001b[39;00m k, v \u001b[39min\u001b[39;00m temps\u001b[39m.\u001b[39;49mitem()}\n",
            "\u001b[0;31mAttributeError\u001b[0m: 'dict' object has no attribute 'item'"
          ]
        }
      ],
      "source": [
        "temps = {\n",
        "    'temp1' : 0,\n",
        "    'temp2' : 17,\n",
        "    'temp3' : 32,\n",
        "    'temp4' : -7\n",
        "}\n",
        "#5/9 * (value -32)\n",
        "{k:((5/9) * (v - 32)) for k, v in temps.item()}"
      ]
    },
    {
      "attachments": {},
      "cell_type": "markdown",
      "metadata": {
        "id": "S7ZqL_E5vVsK"
      },
      "source": [
        "## Modules"
      ]
    },
    {
      "attachments": {},
      "cell_type": "markdown",
      "metadata": {
        "id": "Eg6fu-i9vVsK"
      },
      "source": [
        "##### Importing Entire Modules"
      ]
    },
    {
      "cell_type": "code",
      "execution_count": null,
      "metadata": {
        "id": "jsdZ2lSZvVsK"
      },
      "outputs": [],
      "source": [
        "# import keyword\n",
        "# import x, from x import y, import x as y\n",
        "import math"
      ]
    },
    {
      "attachments": {},
      "cell_type": "markdown",
      "metadata": {
        "id": "w11uTaPhvVsL"
      },
      "source": [
        "##### Importing Methods Only"
      ]
    },
    {
      "cell_type": "code",
      "execution_count": null,
      "metadata": {
        "id": "GKE5653UvVsL"
      },
      "outputs": [],
      "source": [
        "from math import pi, floor\n",
        "\n",
        "print(pi)\n",
        "print(floor(pi))"
      ]
    },
    {
      "attachments": {},
      "cell_type": "markdown",
      "metadata": {
        "id": "5Mcnl9suvVsL"
      },
      "source": [
        "##### Using the 'as' Keyword"
      ]
    },
    {
      "cell_type": "code",
      "execution_count": null,
      "metadata": {
        "id": "zq2EA5QBvVsL"
      },
      "outputs": [],
      "source": [
        "from math import pi as p, floor as fsum\n",
        "#this is know as aliasing\n",
        "\n",
        "print(p)\n",
        "print(f(p))"
      ]
    },
    {
      "attachments": {},
      "cell_type": "markdown",
      "metadata": {
        "id": "pCXWER3zvVsL"
      },
      "source": [
        "##### Creating a Module"
      ]
    },
    {
      "cell_type": "code",
      "execution_count": null,
      "metadata": {
        "id": "selfDfXhvVsL"
      },
      "outputs": [],
      "source": [
        "#module should be saved in the same folder/directory as the notebook you are in\n",
        "#directory - importing a module will call all functions associated with the module file\n",
        "#module.py\n",
        "#print_name is a function within module.py\n",
        "#help(module.print_name) will call up print_name docstring from module.py\n"
      ]
    },
    {
      "cell_type": "code",
      "execution_count": 3,
      "metadata": {},
      "outputs": [
        {
          "name": "stdout",
          "output_type": "stream",
          "text": [
            "9\n",
            "{8, 9, 2, 4}\n",
            "0\n",
            "1\n",
            "2\n",
            "3\n",
            "4\n",
            "5\n"
          ]
        },
        {
          "data": {
            "text/plain": [
              "3.141592653589793"
            ]
          },
          "execution_count": 3,
          "metadata": {},
          "output_type": "execute_result"
        }
      ],
      "source": [
        "from my_module import length, my_set, range_funct\n",
        "\n",
        "print(length('Lee Tosti'))\n",
        "numbers = [2,4,4,8,9,9]\n",
        "print(my_set(numbers))\n",
        "\n",
        "range_funct(6)\n",
        "\n",
        "import math\n",
        "math.pi\n"
      ]
    }
  ],
  "metadata": {
    "colab": {
      "provenance": []
    },
    "kernelspec": {
      "display_name": "Python 3",
      "language": "python",
      "name": "python3"
    },
    "language_info": {
      "codemirror_mode": {
        "name": "ipython",
        "version": 3
      },
      "file_extension": ".py",
      "mimetype": "text/x-python",
      "name": "python",
      "nbconvert_exporter": "python",
      "pygments_lexer": "ipython3",
      "version": "3.11.3"
    },
    "vscode": {
      "interpreter": {
        "hash": "26de051ba29f2982a8de78e945f0abaf191376122a1563185a90213a26c5da77"
      }
    }
  },
  "nbformat": 4,
  "nbformat_minor": 0
}
