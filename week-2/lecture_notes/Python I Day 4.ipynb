{
 "cells": [
  {
   "attachments": {},
   "cell_type": "markdown",
   "metadata": {
    "id": "giAbN1rzE1Ai"
   },
   "source": [
    "# Coding Temple's Data Analytics Program                                        \n",
    "---\n",
    "## Python I: Object-Oriented-Programming (OOP)\n",
    "---"
   ]
  },
  {
   "attachments": {},
   "cell_type": "markdown",
   "metadata": {
    "id": "gEt2hxqGE1An"
   },
   "source": [
    "## Tasks Today:\n",
    "\n",
    "   \n",
    "\n",
    "1) <b>Creating a Class (Initializing/Declaring)</b> <br>\n",
    "2) <b>Using a Class (Instantiating)</b> <br>\n",
    " &nbsp;&nbsp;&nbsp;&nbsp; a) Creating One Instance <br>\n",
    " &nbsp;&nbsp;&nbsp;&nbsp; b) Creating Multiple Instances <br>\n",
    " &nbsp;&nbsp;&nbsp;&nbsp; c) In-Class Exercise #1 - Create a Class 'Car' and instantiate three different makes of cars <br>\n",
    "3) <b>The \\__init\\__() Method</b> <br>\n",
    " &nbsp;&nbsp;&nbsp;&nbsp; a) The 'self' Attribute <br>\n",
    "4) <b>Class Attributes</b> <br>\n",
    " &nbsp;&nbsp;&nbsp;&nbsp; a) Initializing Attributes <br>\n",
    " &nbsp;&nbsp;&nbsp;&nbsp; b) Setting an Attribute Outside of the \\__init\\__() Method <br>\n",
    " &nbsp;&nbsp;&nbsp;&nbsp; c) Setting Defaults for Attributes <br>\n",
    " &nbsp;&nbsp;&nbsp;&nbsp; d) Accessing Class Attributes <br>\n",
    " &nbsp;&nbsp;&nbsp;&nbsp; e) Changing Class Attributes <br>\n",
    " &nbsp;&nbsp;&nbsp;&nbsp; f) In-Class Exercise #2 - Add a color and wheels attribute to your 'Car' class <br>\n",
    "5) <b>Class Methods</b> <br>\n",
    " &nbsp;&nbsp;&nbsp;&nbsp; a) Creating <br>\n",
    " &nbsp;&nbsp;&nbsp;&nbsp; b) Calling <br>\n",
    " &nbsp;&nbsp;&nbsp;&nbsp; c) Modifying an Attribute's Value Through a Method <br>\n",
    " &nbsp;&nbsp;&nbsp;&nbsp; d) Incrementing an Attribute's Value Through a Method <br>\n",
    " &nbsp;&nbsp;&nbsp;&nbsp; e) In-Class Exercise #3 - Add a method that prints the cars color and wheel number, then call them <br>"
   ]
  },
  {
   "attachments": {},
   "cell_type": "markdown",
   "metadata": {
    "id": "qgEWxaC0E1Ao"
   },
   "source": [
    "## Creating a Class (Initializing/Declaring)\n",
    "<p>When creating a class, function, or even a variable you are initializing that object. Initializing and Declaring occur at the same time in Python, whereas in lower level languages you have to declare an object before initializing it. This is the first step in the process of using a class.</p>"
   ]
  },
  {
   "cell_type": "code",
   "execution_count": 1,
   "metadata": {
    "id": "KSw6qoU4E1Ap"
   },
   "outputs": [],
   "source": [
    "# We use the class keyword when declaring a class object\n",
    "class Car:\n",
    "    #When we create a variable inside of a class, we call this an attribute.\n",
    "    wheels = 4\n",
    "    color = 'blue'\n",
    "    engine = 'front'"
   ]
  },
  {
   "attachments": {},
   "cell_type": "markdown",
   "metadata": {
    "id": "Y0lj3nB3E1Aq"
   },
   "source": [
    "## Using a Class (Instantiating)\n",
    "<p>The process of creating a class is called <i>Instantiating</i>. Each time you create a variable of that type of class, it is referred to as an <i>Instance</i> of that class. This is the second step in the process of using a class.</p>"
   ]
  },
  {
   "attachments": {},
   "cell_type": "markdown",
   "metadata": {
    "id": "vc-gH2E1E1Ar"
   },
   "source": [
    "##### Creating One Instance"
   ]
  },
  {
   "cell_type": "code",
   "execution_count": 2,
   "metadata": {
    "id": "rxPg5dy9E1As"
   },
   "outputs": [],
   "source": [
    "ford = Car()\n",
    "#You can then call any of the attributes of a class"
   ]
  },
  {
   "cell_type": "code",
   "execution_count": 3,
   "metadata": {},
   "outputs": [
    {
     "data": {
      "text/plain": [
       "4"
      ]
     },
     "execution_count": 3,
     "metadata": {},
     "output_type": "execute_result"
    }
   ],
   "source": [
    "#Accessed using dot notation (.)\n",
    "ford.wheels\n"
   ]
  },
  {
   "attachments": {},
   "cell_type": "markdown",
   "metadata": {},
   "source": [
    "#### Difference between a method/function and an attribute"
   ]
  },
  {
   "cell_type": "code",
   "execution_count": 9,
   "metadata": {},
   "outputs": [],
   "source": [
    "\n",
    "class Car:\n",
    "    #Attribute is a characteristic of the object we are refering to\n",
    "    color = 'blue'\n",
    "    wheels = 4\n",
    "\n",
    "    #An action that the object can make\n",
    "    def honk():\n",
    "        return \"HOOOOOOOOOONNNNNNNNKKKKKK\"\n",
    "    \n",
    "    def start_up():\n",
    "        pass\n",
    "\n",
    "    "
   ]
  },
  {
   "attachments": {},
   "cell_type": "markdown",
   "metadata": {
    "id": "mwkSVukCE1As"
   },
   "source": [
    "##### Creating Multiple Instances"
   ]
  },
  {
   "cell_type": "code",
   "execution_count": 14,
   "metadata": {
    "id": "J-NBGcc1E1At"
   },
   "outputs": [
    {
     "name": "stdout",
     "output_type": "stream",
     "text": [
      "green\n"
     ]
    }
   ],
   "source": [
    "chevy = Car\n",
    "honda = Car\n",
    "porshe = Car\n",
    "\n",
    "print(porshe.color)"
   ]
  },
  {
   "attachments": {},
   "cell_type": "markdown",
   "metadata": {
    "id": "orHPhAdCE1At"
   },
   "source": [
    "##### In-Class Exercise #1 - Create a Class 'Car' and Instantiate three different makes of cars"
   ]
  },
  {
   "cell_type": "code",
   "execution_count": 15,
   "metadata": {
    "id": "aSsTqQAFE1Au"
   },
   "outputs": [
    {
     "name": "stdout",
     "output_type": "stream",
     "text": [
      "6\n",
      "STOP!\n"
     ]
    }
   ],
   "source": [
    "#two different attributes and 1 method\n",
    "class Car:\n",
    "    color = 'green'\n",
    "    trunk = 'back'\n",
    "    windows = 6\n",
    "    wheels = 'spokes'\n",
    "\n",
    "    def brake():\n",
    "        return \"STOP!\"\n",
    "    \n",
    "toyota = Car\n",
    "hyundai = Car\n",
    "mazda = Car\n",
    "\n",
    "print(mazda.windows)\n",
    "print(toyota.brake())\n",
    "\n",
    "    "
   ]
  },
  {
   "attachments": {},
   "cell_type": "markdown",
   "metadata": {},
   "source": [
    "#### Object ID's and Class Instantiations"
   ]
  },
  {
   "cell_type": "code",
   "execution_count": 16,
   "metadata": {},
   "outputs": [
    {
     "name": "stdout",
     "output_type": "stream",
     "text": [
      "green\n",
      "green\n"
     ]
    }
   ],
   "source": [
    "# One things to note is that each class is independent of one another. \n",
    "#Meanding that each class instantiation is a separate instantaion from one made previously.\n",
    "#All static or global attributes of the calss will howere be shared between ALL instance of the class. Meaning if the default value for one changes,\n",
    "#the default value for ALL changes.\n",
    "\n",
    "print(chevy.color)\n",
    "color = 'red'\n",
    "print(chevy.color)"
   ]
  },
  {
   "attachments": {},
   "cell_type": "markdown",
   "metadata": {
    "id": "lJh0fFLME1Au"
   },
   "source": [
    "## The \\__init\\__() Method <br>\n",
    "<p>This method is used in almost every created class, and called only once upon the creation of the class instance. This method will initialize all variables needed for the object.</p>"
   ]
  },
  {
   "cell_type": "code",
   "execution_count": null,
   "metadata": {
    "id": "ef5s6vbaE1Au"
   },
   "outputs": [],
   "source": [
    "class Car:\n",
    "    engine = '4.7L' #constants or static attribute. shared between each instance of the class and predefined in a way that requires instantiation before we change this value\n",
    "\n",
    "    def __init__(self, wheels, color): #Self keyword keeping track of each unique instances attributes\n",
    "        self.wheels = wheels #Dynamic attribute and is unique to each instance of the class and requires an input from the user when they instantiate the class\n",
    "        self.color = color\n",
    "\n",
    "    class Cup:\n",
    "        def __init__(self, color, size, volume, handles, material):\n",
    "            self.color = color\n",
    "            self.size = size\n",
    "            self.volume = volume\n",
    "            self.handles = handles\n",
    "\n",
    "ford = Car(4, 'red')\n",
    "print(ford.wheels)\n",
    "chevy = Car(6, 'black')\n",
    "print(chevy.wheels)"
   ]
  },
  {
   "attachments": {},
   "cell_type": "markdown",
   "metadata": {
    "id": "YSCUixxTE1Av"
   },
   "source": [
    "##### The 'self' Attribute <br>\n",
    "<p>This attribute is required to keep track of specific instance's attributes. Without the self attribute, the program would not know how to reference or keep track of an instance's attributes.</p>"
   ]
  },
  {
   "cell_type": "code",
   "execution_count": null,
   "metadata": {
    "id": "8rfFnKp3E1Av"
   },
   "outputs": [],
   "source": [
    "# see above where we create the self.attributes"
   ]
  },
  {
   "attachments": {},
   "cell_type": "markdown",
   "metadata": {
    "id": "FHAW6utmE1Av"
   },
   "source": [
    "## Class Attributes <br>\n",
    "<p>While variables are inside of a class, they are referred to as attributes and not variables. When someone says 'attribute' you know they're speaking about a class. Attributes can be initialized through the init method, or outside of it.</p>"
   ]
  },
  {
   "attachments": {},
   "cell_type": "markdown",
   "metadata": {
    "id": "sf-B77pbE1Av"
   },
   "source": [
    "##### Initializing Attributes"
   ]
  },
  {
   "cell_type": "code",
   "execution_count": 17,
   "metadata": {
    "id": "D2L5_hVdE1Av"
   },
   "outputs": [],
   "source": [
    "class Toy:\n",
    "    kind = 'car' #static attribute - constant or changes extremely infrequently\n",
    "\n",
    "    #__init__ method: These will be all dynamic attribues. We expect every toy to have differeing values for these attributes, or need a way to uniquely track them.\n",
    "    # in programming, most of you attributes will be defined this way.\n",
    "    def __init__(self, rooftop: int, horn: bool, wheels: int):\n",
    "        self.rooftop = rooftop\n",
    "        self.horn = horn\n",
    "        self.wheels = wheels\n",
    "    \n",
    "tonka_truck = Toy(1, True, 8) #1 roof, has horn, 8 wheels\n",
    "hotwheels_car = Toy(1, False, 4) #1 roof, no horn, 4 wheels"
   ]
  },
  {
   "attachments": {},
   "cell_type": "markdown",
   "metadata": {
    "id": "8k0rnG1dE1Av"
   },
   "source": [
    "##### Accessing Class Attributes"
   ]
  },
  {
   "cell_type": "code",
   "execution_count": 19,
   "metadata": {
    "id": "_PKUR78BE1Av",
    "scrolled": true
   },
   "outputs": [
    {
     "data": {
      "text/plain": [
       "True"
      ]
     },
     "execution_count": 19,
     "metadata": {},
     "output_type": "execute_result"
    }
   ],
   "source": [
    "tonka_truck.horn"
   ]
  },
  {
   "cell_type": "code",
   "execution_count": 21,
   "metadata": {},
   "outputs": [
    {
     "data": {
      "text/plain": [
       "128"
      ]
     },
     "execution_count": 21,
     "metadata": {},
     "output_type": "execute_result"
    }
   ],
   "source": [
    "class Phone:\n",
    "    #Carrier, company, phone type, storage, color, network type\n",
    "    def __init__(self, company, carrier, phone_type, color, network_type, storage: int):\n",
    "        self.company = company\n",
    "        self.carrier = carrier\n",
    "        self.phone_type = phone_type\n",
    "        self.color = color\n",
    "        self.network_type = network_type\n",
    "        self.storage = storage\n",
    "\n",
    "my_phone = Phone('Google', 'Google Fi', 'Pixel 7', 'Black', '5G', 128)\n",
    "my_phone.carrier\n",
    "my_phone.storage"
   ]
  },
  {
   "attachments": {},
   "cell_type": "markdown",
   "metadata": {
    "id": "0LG1jwWcE1Aw"
   },
   "source": [
    "##### Setting Defaults for Attributes"
   ]
  },
  {
   "attachments": {},
   "cell_type": "markdown",
   "metadata": {},
   "source": [
    "##### **INIT STANDS FOR INITIALIZATION!**\n",
    "When we call the class, we end up having to provide the values for the attributes of the init function. Which means, that this run AS SOON as we call the class"
   ]
  },
  {
   "cell_type": "code",
   "execution_count": 26,
   "metadata": {
    "id": "jz0KEMHDE1Aw"
   },
   "outputs": [
    {
     "data": {
      "text/plain": [
       "'Black'"
      ]
     },
     "execution_count": 26,
     "metadata": {},
     "output_type": "execute_result"
    }
   ],
   "source": [
    "class Car:\n",
    "    engine = '4.7L'\n",
    "\n",
    "    def __init__(self, wheels):\n",
    "        self.wheels = wheels\n",
    "        self.color = 'Blue'\n",
    "\n",
    "honda = Car(4)\n",
    "honda.color = 'White'\n",
    "honda.color\n",
    "\n",
    "\n",
    "class Car:\n",
    "    engine = '4.7L'\n",
    "\n",
    "    def __init__(self, wheels, color = 'Blue'):\n",
    "        self.wheels = wheels\n",
    "        self.color = color\n",
    "\n",
    "honda = Car(4, 'Black')\n",
    "honda.color"
   ]
  },
  {
   "cell_type": "code",
   "execution_count": null,
   "metadata": {},
   "outputs": [],
   "source": []
  },
  {
   "attachments": {},
   "cell_type": "markdown",
   "metadata": {
    "id": "P7zeGxM0E1Aw"
   },
   "source": [
    "##### Changing Class Attributes <br>\n",
    "<p>Keep in mind there are global class attributes and then there are attributes only available to each class instance which won't effect other classes.</p>"
   ]
  },
  {
   "cell_type": "code",
   "execution_count": 28,
   "metadata": {
    "id": "PJBegn_JE1Aw"
   },
   "outputs": [
    {
     "name": "stdout",
     "output_type": "stream",
     "text": [
      "BEFORE THE CHANGE: 4.7L\n",
      "AFTER THE CHANGE: 1.4 L\n"
     ]
    }
   ],
   "source": [
    "honda = Car(4)\n",
    "print(f\"BEFORE THE CHANGE: {honda.engine}\")\n",
    "honda.engine = '1.4 L'\n",
    "print(f\"AFTER THE CHANGE: {honda.engine}\")"
   ]
  },
  {
   "attachments": {},
   "cell_type": "markdown",
   "metadata": {
    "id": "dUUbmR3SE1Aw"
   },
   "source": [
    "##### In-Class Exercise #2 - Add a doors and seats attribute to your 'Car' class then print out two different instances with different doors and seats"
   ]
  },
  {
   "cell_type": "code",
   "execution_count": 34,
   "metadata": {
    "id": "ol8-7dFJE1Aw"
   },
   "outputs": [
    {
     "name": "stdout",
     "output_type": "stream",
     "text": [
      "4\n",
      "5\n",
      "2\n",
      "2\n",
      "My Toyota has 2 doors and 2 seats.\n",
      "My Honda has 4 doors and 5 seats.\n"
     ]
    }
   ],
   "source": [
    "class Car:\n",
    "    def __init__(self, doors, seats):\n",
    "        self.doors = doors\n",
    "        self.seats = seats\n",
    "\n",
    "honda = Car(4, 5)\n",
    "print(honda.doors)\n",
    "print(honda.seats)\n",
    "\n",
    "toyota = Car(2, 2)\n",
    "print(toyota.doors)\n",
    "print(toyota.seats)\n",
    "\n",
    "print(f\"My Toyota has {toyota.doors} doors and {toyota.seats} seats.\")\n",
    "print(f\"My Honda has {honda.doors} doors and {honda.seats} seats.\")"
   ]
  },
  {
   "attachments": {},
   "cell_type": "markdown",
   "metadata": {
    "id": "fIN43CNqE1Aw"
   },
   "source": [
    "## Class Methods <br>\n",
    "<p>While inside of a class, functions are referred to as 'methods'. If you hear someone mention methods, they're speaking about classes. Methods are essentially functions, but only callable on the instances of a class.</p>"
   ]
  },
  {
   "attachments": {},
   "cell_type": "markdown",
   "metadata": {
    "id": "C4t23Xw-E1Aw"
   },
   "source": [
    "##### Creating"
   ]
  },
  {
   "cell_type": "code",
   "execution_count": 35,
   "metadata": {
    "id": "nxJWEyQeE1Ax"
   },
   "outputs": [],
   "source": [
    "#When it is stand alone, it is called a fucntion\n",
    "#When it is attached to a Class it is called a method\n",
    "\n",
    "class Printer:\n",
    "    #An action that the object could take or could be taken against it\n",
    "    def print_string(stri):\n",
    "        return stri\n",
    "    \n",
    "class ShoppingBag:\n",
    "    \"\"\"The ShoppingBag class will have atrributes such as: handles, capactiy, and items to place inside.\n",
    "    Attributes for this class:\n",
    "    - handles: expected as in input, denotes number of handles on bag\n",
    "    -capacity: expected to be an int or stirng, denotes the overall size of the bag\n",
    "    - items: expected to be in a list, denotes all items to be added to the bag\n",
    "\n",
    "    Methods of this class:\n",
    "    - shows_shopping_bag: print all items within the bag\n",
    "    - show_capactiy: print the overall capacity of the bag\n",
    "    - add_to_shopping_bag: Allow users to input an item in the bag\n",
    "    change_bag_capacity: Allow us to change the overall capcity\n",
    "    -increase_capacity: Allow us to increase overall capacity by a specified int input\n",
    "    \"\"\"\n",
    "    #Initialize the attributes of our class dynamically\n",
    "    def __init__(self, handles, capacity, items):\n",
    "        self.handles = handles\n",
    "        self.capacity = capacity\n",
    "        self.items = items\n",
    "    \n",
    "    #Define all our class methods\n",
    "    # Method that shows the shopping bag items:\n",
    "    def show_shopping_bag(self):\n",
    "        \"\"\"Prings off curent shoping bag list.\"\"\"\n",
    "        print(\"You have items in your bag.\")\n",
    "        for item in self.items: \n",
    "            print(item)\n",
    "\n",
    "    # Method to show capacity of the shopping bag\n",
    "    def show_capacity(self):\n",
    "        \"\"\"Prints current overall capacity limit\"\"\"\n",
    "        print(f\"Your current capactiy is: {self.capacity}.\")\n",
    "\n",
    "    #Method to add items(s) to the item list for the shopping bag\n",
    "    def add_to_shopping_bag(self):\n",
    "        \"\"\"Allows user to input items into shopping bag\"\"\"\n",
    "        products = input(\"What would you like to add?\")\n",
    "        self.items.append(products)\n",
    "\n",
    "    #Method to change the capacity of the shopping bag (dynamically)\n",
    "    def change_bag_capacity(self, capacity):\n",
    "        \"\"\"Dynamically changes bag capacity for unique instance of class instantiation\"\"\"\n",
    "        self.capacity = capacity\n",
    "    \n",
    "    #Method to increase the capacity, default to increase to 10\n",
    "    def increase_capacity(self, changed_capacity = 10):\n",
    "        \"\"\"Increase the capacity of the bag by a specificied increment. If no increment is specified, will increase by 10\"\"\"\n",
    "        self.capacity += changed_capacity\n",
    "    "
   ]
  },
  {
   "attachments": {},
   "cell_type": "markdown",
   "metadata": {
    "id": "kJ4mLPg5E1Ax"
   },
   "source": [
    "##### Calling"
   ]
  },
  {
   "cell_type": "code",
   "execution_count": 39,
   "metadata": {
    "id": "D_I5p-aTE1Ax"
   },
   "outputs": [
    {
     "name": "stdout",
     "output_type": "stream",
     "text": [
      "You have items in your bag.\n",
      "Fruit\n",
      "Thanks for shopping at Whole Foods today!\n"
     ]
    }
   ],
   "source": [
    "#Create an instance of our class from above!\n",
    "whole_foods_bag = ShoppingBag(2, 10, [])\n",
    "\n",
    "#Create another function to RUN my class:\n",
    "def run():\n",
    "    while True:\n",
    "        response = input(\"What would you like to do? Add/Show/Delete or Quit?\")\n",
    "\n",
    "        if response.lower() == 'quit':\n",
    "            whole_foods_bag.show_shopping_bag()\n",
    "            print('Thanks for shopping at Whole Foods today!')\n",
    "            break\n",
    "        elif response.lower() == 'show':\n",
    "            whole_foods_bag.show_shopping_bag()\n",
    "        elif response.lower() == 'add':\n",
    "            whole_foods_bag.add_to_shopping_bag()\n",
    "run()"
   ]
  },
  {
   "attachments": {},
   "cell_type": "markdown",
   "metadata": {
    "id": "0ZllA5keE1Ax"
   },
   "source": [
    "##### Modifying an Attribute's Value Through a Method"
   ]
  },
  {
   "cell_type": "code",
   "execution_count": 40,
   "metadata": {
    "id": "jT_iOoUcE1Ax"
   },
   "outputs": [
    {
     "name": "stdout",
     "output_type": "stream",
     "text": [
      "Capacity BEFORE the change: 10\n",
      "Capacity AFTER the change: <__main__.ShoppingBag object at 0x1035be450>\n"
     ]
    }
   ],
   "source": [
    "#Show our capacity:\n",
    "print(f\"Capacity BEFORE the change: {whole_foods_bag.capacity}\")\n",
    "whole_foods_bag.change_bag_capacity(40)\n",
    "print(f\"Capacity AFTER the change: {whole_foods_bag.capacity}\")"
   ]
  },
  {
   "attachments": {},
   "cell_type": "markdown",
   "metadata": {
    "id": "pV9obOHAE1Ax"
   },
   "source": [
    "##### Incrementing an Attribute's Value Through a Method"
   ]
  },
  {
   "cell_type": "code",
   "execution_count": 42,
   "metadata": {
    "id": "-usVaZplE1Ax"
   },
   "outputs": [
    {
     "name": "stdout",
     "output_type": "stream",
     "text": [
      "Capacity BEFORE the change: 55\n",
      "Capacity AFTER the change: 40\n"
     ]
    }
   ],
   "source": [
    "# show our capacity\n",
    "print(f\"Capacity BEFORE the change: {whole_foods_bag.capacity}\")\n",
    "whole_foods_bag.increase_capacity(15)\n",
    "print(f\"Capacity AFTER the change: {whole_foods_bag.capacity}\")"
   ]
  },
  {
   "attachments": {},
   "cell_type": "markdown",
   "metadata": {
    "id": "d5P9d_B7E1Ax"
   },
   "source": [
    "##### In-Class Exercise #3 - Add a method that takes in three parameters of year, doors and seats and prints out a formatted print statement with make, model, year, seats, and doors"
   ]
  },
  {
   "cell_type": "code",
   "execution_count": 45,
   "metadata": {
    "id": "u5Tjs1foE1Ax"
   },
   "outputs": [
    {
     "data": {
      "text/plain": [
       "Here is the information on my car: 2023, 5, 4, Honda Accord"
      ]
     },
     "execution_count": 45,
     "metadata": {},
     "output_type": "execute_result"
    }
   ],
   "source": [
    "class Car:\n",
    "    def __init__(self, make, model):\n",
    "        #attributes\n",
    "        self.make = make\n",
    "        self.model = model\n",
    "    #method    \n",
    "    def car_info(self, year: int, doors: int, seats: int):\n",
    "        return f\"Here is the information on my car: {year}, {doors}, {seats}, {self.make} {self.model}\"\n",
    "\n",
    "#instance = class(attribute parameters)\n",
    "my_car = Car('Honda', 'Accord')\n",
    "#instance.method(parameters)\n",
    "my_car.car_info(2011, 4, 5)\n",
    "\n",
    "\n",
    "\n",
    "#__repr__method - returns a string representation of your class object\n",
    "\n",
    "class Car:\n",
    "    def __init__(self, make, model, year, seats, doors):\n",
    "        #attributes\n",
    "        self.make = make\n",
    "        self.model = model\n",
    "        self.year = year\n",
    "        self.doors = doors\n",
    "        self.seats = seats\n",
    "\n",
    "    #method    \n",
    "    def __repr__(self):\n",
    "        return f\"Here is the information on my car: {self.year}, {self.doors}, {self.seats}, {self.make} {self.model}\"\n",
    "    \n",
    "my_car = Car(\"Honda\", 'Accord', 2023, 4, 5)\n",
    "my_car"
   ]
  },
  {
   "attachments": {},
   "cell_type": "markdown",
   "metadata": {},
   "source": [
    "### Class Inheritance"
   ]
  },
  {
   "attachments": {},
   "cell_type": "markdown",
   "metadata": {},
   "source": [
    "When we program in OOP(Object Oriented Programming), we create classes that encompass the entirety of a group or populous. For example, car. Cars come in many shapes and forms, however, we are generalizing each into a class named car, based off of attributes and methods that are similar. What happens when we have something that is technically a car, but is so unique, it should have it's own class, with it's own attributes and methods, yet still retain information that it is a car?\n",
    "\n",
    "This is where inheritance comes into play. Just like how we inherit features and attributes from our parents (skin tone, eye shape, body composition), we can have classes inherit from one another. When we talk about inheritance, we typically talk about a child class and a parent class, where the parent class is the class giving attributes and the child class is the one inheriting those attributes.\n",
    "\n",
    "There are multiple types of inheritance:\n",
    "\n",
    "* **Single Inheritance**\n",
    "    * One child-class inherits the features of one parent-class\n",
    "    \n",
    "    ![](https://www.softwaretestinghelp.com/wp-content/qa/uploads/2019/06/Single-inheritance.png)"
   ]
  },
  {
   "cell_type": "code",
   "execution_count": 47,
   "metadata": {},
   "outputs": [
    {
     "data": {
      "text/plain": [
       "The Dog has 15mph in speed and 9.8 in acceleration."
      ]
     },
     "execution_count": 47,
     "metadata": {},
     "output_type": "execute_result"
    }
   ],
   "source": [
    "#Creation of parent class:\n",
    "class Animal:\n",
    "    acceleration = 9.8 #Attribute\n",
    "\n",
    "    def __init__(self, name, species, legs = 4):\n",
    "        self.name = name\n",
    "        self.species = species\n",
    "        self.legs = legs\n",
    "\n",
    "    def make_some_noise(self):\n",
    "        return \"Some Generic Sound\"\n",
    "    \n",
    "#Create a child class that will inherit from my parent class:\n",
    "class Dog(Animal): #Subclass(Class)\n",
    "    speed = 15\n",
    "    #You can overwrite the attribute from parent class as well\n",
    "    #\n",
    "\n",
    "    def __repr__(self):\n",
    "        return f'The Dog has {self.speed}mph in speed and {self.acceleration} in acceleration.'\n",
    "    \n",
    "horse = Animal('Seabuiscit', 'Horse')\n",
    "horse.legs\n",
    "\n",
    "lassie = Dog('Lassie', 'Doge')\n",
    "lassie"
   ]
  },
  {
   "attachments": {},
   "cell_type": "markdown",
   "metadata": {},
   "source": [
    "* **Multiple Inheritance**\n",
    "    * One child-class inherits from from multiple parent-classes\n",
    "\n",
    "    ![](https://media.geeksforgeeks.org/wp-content/uploads/sc1-1.png)"
   ]
  },
  {
   "cell_type": "code",
   "execution_count": 49,
   "metadata": {},
   "outputs": [
    {
     "ename": "AttributeError",
     "evalue": "'Dog' object has no attribute 'lays_eggs'",
     "output_type": "error",
     "traceback": [
      "\u001b[0;31m---------------------------------------------------------------------------\u001b[0m",
      "\u001b[0;31mAttributeError\u001b[0m                            Traceback (most recent call last)",
      "File \u001b[0;32m~/Library/Python/3.11/lib/python/site-packages/IPython/core/formatters.py:708\u001b[0m, in \u001b[0;36mPlainTextFormatter.__call__\u001b[0;34m(self, obj)\u001b[0m\n\u001b[1;32m    701\u001b[0m stream \u001b[39m=\u001b[39m StringIO()\n\u001b[1;32m    702\u001b[0m printer \u001b[39m=\u001b[39m pretty\u001b[39m.\u001b[39mRepresentationPrinter(stream, \u001b[39mself\u001b[39m\u001b[39m.\u001b[39mverbose,\n\u001b[1;32m    703\u001b[0m     \u001b[39mself\u001b[39m\u001b[39m.\u001b[39mmax_width, \u001b[39mself\u001b[39m\u001b[39m.\u001b[39mnewline,\n\u001b[1;32m    704\u001b[0m     max_seq_length\u001b[39m=\u001b[39m\u001b[39mself\u001b[39m\u001b[39m.\u001b[39mmax_seq_length,\n\u001b[1;32m    705\u001b[0m     singleton_pprinters\u001b[39m=\u001b[39m\u001b[39mself\u001b[39m\u001b[39m.\u001b[39msingleton_printers,\n\u001b[1;32m    706\u001b[0m     type_pprinters\u001b[39m=\u001b[39m\u001b[39mself\u001b[39m\u001b[39m.\u001b[39mtype_printers,\n\u001b[1;32m    707\u001b[0m     deferred_pprinters\u001b[39m=\u001b[39m\u001b[39mself\u001b[39m\u001b[39m.\u001b[39mdeferred_printers)\n\u001b[0;32m--> 708\u001b[0m printer\u001b[39m.\u001b[39;49mpretty(obj)\n\u001b[1;32m    709\u001b[0m printer\u001b[39m.\u001b[39mflush()\n\u001b[1;32m    710\u001b[0m \u001b[39mreturn\u001b[39;00m stream\u001b[39m.\u001b[39mgetvalue()\n",
      "File \u001b[0;32m~/Library/Python/3.11/lib/python/site-packages/IPython/lib/pretty.py:410\u001b[0m, in \u001b[0;36mRepresentationPrinter.pretty\u001b[0;34m(self, obj)\u001b[0m\n\u001b[1;32m    407\u001b[0m                         \u001b[39mreturn\u001b[39;00m meth(obj, \u001b[39mself\u001b[39m, cycle)\n\u001b[1;32m    408\u001b[0m                 \u001b[39mif\u001b[39;00m \u001b[39mcls\u001b[39m \u001b[39mis\u001b[39;00m \u001b[39mnot\u001b[39;00m \u001b[39mobject\u001b[39m \\\n\u001b[1;32m    409\u001b[0m                         \u001b[39mand\u001b[39;00m \u001b[39mcallable\u001b[39m(\u001b[39mcls\u001b[39m\u001b[39m.\u001b[39m\u001b[39m__dict__\u001b[39m\u001b[39m.\u001b[39mget(\u001b[39m'\u001b[39m\u001b[39m__repr__\u001b[39m\u001b[39m'\u001b[39m)):\n\u001b[0;32m--> 410\u001b[0m                     \u001b[39mreturn\u001b[39;00m _repr_pprint(obj, \u001b[39mself\u001b[39;49m, cycle)\n\u001b[1;32m    412\u001b[0m     \u001b[39mreturn\u001b[39;00m _default_pprint(obj, \u001b[39mself\u001b[39m, cycle)\n\u001b[1;32m    413\u001b[0m \u001b[39mfinally\u001b[39;00m:\n",
      "File \u001b[0;32m~/Library/Python/3.11/lib/python/site-packages/IPython/lib/pretty.py:778\u001b[0m, in \u001b[0;36m_repr_pprint\u001b[0;34m(obj, p, cycle)\u001b[0m\n\u001b[1;32m    776\u001b[0m \u001b[39m\u001b[39m\u001b[39m\"\"\"A pprint that just redirects to the normal repr function.\"\"\"\u001b[39;00m\n\u001b[1;32m    777\u001b[0m \u001b[39m# Find newlines and replace them with p.break_()\u001b[39;00m\n\u001b[0;32m--> 778\u001b[0m output \u001b[39m=\u001b[39m \u001b[39mrepr\u001b[39m(obj)\n\u001b[1;32m    779\u001b[0m lines \u001b[39m=\u001b[39m output\u001b[39m.\u001b[39msplitlines()\n\u001b[1;32m    780\u001b[0m \u001b[39mwith\u001b[39;00m p\u001b[39m.\u001b[39mgroup():\n",
      "\u001b[1;32m/Users/lisatosti/Documents/GitHub/coding-temple/week-2/lecture_notes/Python I Day 4.ipynb Cell 50\u001b[0m line \u001b[0;36m2\n\u001b[1;32m     <a href='vscode-notebook-cell:/Users/lisatosti/Documents/GitHub/coding-temple/week-2/lecture_notes/Python%20I%20Day%204.ipynb#Y100sZmlsZQ%3D%3D?line=23'>24</a>\u001b[0m \u001b[39mdef\u001b[39;00m \u001b[39m__repr__\u001b[39m(\u001b[39mself\u001b[39m):\n\u001b[0;32m---> <a href='vscode-notebook-cell:/Users/lisatosti/Documents/GitHub/coding-temple/week-2/lecture_notes/Python%20I%20Day%204.ipynb#Y100sZmlsZQ%3D%3D?line=24'>25</a>\u001b[0m     \u001b[39mreturn\u001b[39;00m \u001b[39mf\u001b[39m\u001b[39m'\u001b[39m\u001b[39mThe Dog has \u001b[39m\u001b[39m{\u001b[39;00m\u001b[39mself\u001b[39m\u001b[39m.\u001b[39mspeed\u001b[39m}\u001b[39;00m\u001b[39mmph in speed and \u001b[39m\u001b[39m{\u001b[39;00m\u001b[39mself\u001b[39m\u001b[39m.\u001b[39macceleration\u001b[39m}\u001b[39;00m\u001b[39m in acceleration and the capacity to lay eggs is considered: \u001b[39m\u001b[39m{\u001b[39;00m\u001b[39mself\u001b[39;49m\u001b[39m.\u001b[39;49mlays_eggs\u001b[39m}\u001b[39;00m\u001b[39m.\u001b[39m\u001b[39m'\u001b[39m\n",
      "\u001b[0;31mAttributeError\u001b[0m: 'Dog' object has no attribute 'lays_eggs'"
     ]
    }
   ],
   "source": [
    "#Creation of parent class:\n",
    "class Animal:\n",
    "    acceleration = 9.8 #Attribute\n",
    "\n",
    "    def __init__(self, name, species, legs = 4):\n",
    "        self.name = name\n",
    "        self.species = species\n",
    "        self.legs = legs\n",
    "\n",
    "    def make_some_noise(self):\n",
    "        return \"Some Generic Sound\"\n",
    "\n",
    "class Mammal:\n",
    "    def __init__(self, lays_eggs=False, warm_blooded=True):\n",
    "        self.lays_eggs = lays_eggs\n",
    "        self.warm_blooded = warm_blooded\n",
    "\n",
    "#Create a child class that will inherit from my parent class:\n",
    "class Dog(Animal, Mammal): #Subclass(Class)\n",
    "    speed = 15\n",
    "    #You can overwrite the attribute from parent class as well\n",
    "    #\n",
    "\n",
    "    def __repr__(self):\n",
    "        return f'The Dog has {self.speed}mph in speed and {self.acceleration} in acceleration and the capacity to lay eggs is considered: {self.lays_eggs}.'\n",
    "    \n",
    "lassie = Dog('Lassie', 'Doge')\n",
    "lassie\n",
    "        "
   ]
  },
  {
   "attachments": {},
   "cell_type": "markdown",
   "metadata": {},
   "source": [
    "* **Multi-level Inheritance**\n",
    "    * A base class provides inheritance to a parent class, which provides inheritance to a child class, just like lineage is passed down from generation to generation\n",
    "    * This allows the child class to be derived of the base, without ever accessing the base class.\n",
    "\n",
    "     ![](https://upload.wikimedia.org/wikipedia/en/0/0e/Multilevel_Inheritance.jpg)"
   ]
  },
  {
   "cell_type": "code",
   "execution_count": 50,
   "metadata": {},
   "outputs": [
    {
     "ename": "NameError",
     "evalue": "name 'dog' is not defined",
     "output_type": "error",
     "traceback": [
      "\u001b[0;31m---------------------------------------------------------------------------\u001b[0m",
      "\u001b[0;31mNameError\u001b[0m                                 Traceback (most recent call last)",
      "\u001b[1;32m/Users/lisatosti/Documents/GitHub/coding-temple/week-2/lecture_notes/Python I Day 4.ipynb Cell 52\u001b[0m line \u001b[0;36m3\n\u001b[1;32m     <a href='vscode-notebook-cell:/Users/lisatosti/Documents/GitHub/coding-temple/week-2/lecture_notes/Python%20I%20Day%204.ipynb#W0sZmlsZQ%3D%3D?line=30'>31</a>\u001b[0m     \u001b[39mdef\u001b[39;00m \u001b[39m__repr__\u001b[39m(\u001b[39mself\u001b[39m):\n\u001b[1;32m     <a href='vscode-notebook-cell:/Users/lisatosti/Documents/GitHub/coding-temple/week-2/lecture_notes/Python%20I%20Day%204.ipynb#W0sZmlsZQ%3D%3D?line=31'>32</a>\u001b[0m         \u001b[39mreturn\u001b[39;00m \u001b[39mf\u001b[39m\u001b[39m\"\u001b[39m\u001b[39mThis Mutt has \u001b[39m\u001b[39m{\u001b[39;00m\u001b[39mself\u001b[39m\u001b[39m.\u001b[39mspeed\u001b[39m}\u001b[39;00m\u001b[39m in speed, \u001b[39m\u001b[39m{\u001b[39;00m\u001b[39mself\u001b[39m\u001b[39m.\u001b[39macceleration\u001b[39m}\u001b[39;00m\u001b[39m in acceleration, and can make soem really awesome \u001b[39m\u001b[39m{\u001b[39;00m\u001b[39mself\u001b[39m\u001b[39m.\u001b[39mmake_some_noise()\u001b[39m}\u001b[39;00m\u001b[39m noises.\u001b[39m\u001b[39m\"\u001b[39m\n\u001b[0;32m---> <a href='vscode-notebook-cell:/Users/lisatosti/Documents/GitHub/coding-temple/week-2/lecture_notes/Python%20I%20Day%204.ipynb#W0sZmlsZQ%3D%3D?line=33'>34</a>\u001b[0m butter \u001b[39m=\u001b[39m Mutt(\u001b[39m'\u001b[39;49m\u001b[39mBuster\u001b[39;49m\u001b[39m'\u001b[39;49m, \u001b[39m'\u001b[39;49m\u001b[39mMutt\u001b[39;49m\u001b[39m'\u001b[39;49m, \u001b[39m'\u001b[39;49m\u001b[39mBlack\u001b[39;49m\u001b[39m'\u001b[39;49m)\n",
      "\u001b[1;32m/Users/lisatosti/Documents/GitHub/coding-temple/week-2/lecture_notes/Python I Day 4.ipynb Cell 52\u001b[0m line \u001b[0;36m2\n\u001b[1;32m     <a href='vscode-notebook-cell:/Users/lisatosti/Documents/GitHub/coding-temple/week-2/lecture_notes/Python%20I%20Day%204.ipynb#W0sZmlsZQ%3D%3D?line=23'>24</a>\u001b[0m \u001b[39mdef\u001b[39;00m \u001b[39m__init__\u001b[39m(\u001b[39mself\u001b[39m, name, species, color \u001b[39m=\u001b[39m \u001b[39m'\u001b[39m\u001b[39mblack & brown\u001b[39m\u001b[39m'\u001b[39m, legs \u001b[39m=\u001b[39m \u001b[39m4\u001b[39m):\n\u001b[0;32m---> <a href='vscode-notebook-cell:/Users/lisatosti/Documents/GitHub/coding-temple/week-2/lecture_notes/Python%20I%20Day%204.ipynb#W0sZmlsZQ%3D%3D?line=24'>25</a>\u001b[0m     dog\u001b[39m.\u001b[39m\u001b[39m__init__\u001b[39m(\u001b[39mself\u001b[39m, name, species)\n\u001b[1;32m     <a href='vscode-notebook-cell:/Users/lisatosti/Documents/GitHub/coding-temple/week-2/lecture_notes/Python%20I%20Day%204.ipynb#W0sZmlsZQ%3D%3D?line=25'>26</a>\u001b[0m     \u001b[39mself\u001b[39m\u001b[39m.\u001b[39mcolor \u001b[39m=\u001b[39m color\n",
      "\u001b[0;31mNameError\u001b[0m: name 'dog' is not defined"
     ]
    }
   ],
   "source": [
    "#Creation of parent class:\n",
    "class Animal:\n",
    "    acceleration = 9.8 #Attribute\n",
    "\n",
    "    def __init__(self, name, species, legs = 4):\n",
    "        self.name = name\n",
    "        self.species = species\n",
    "        self.legs = legs\n",
    "\n",
    "    def make_some_noise(self):\n",
    "        return \"Some Generic Sound\"\n",
    "\n",
    "#Create a child class that will inherit from my parent class:\n",
    "class Dog(Animal, Mammal): #Subclass(Class)\n",
    "    speed = 15\n",
    "    #You can overwrite the attribute from parent class as well\n",
    "    #\n",
    "    def __init__(self, species= 'dog'):\n",
    "        \n",
    "        \n",
    "    def __repr__(self):\n",
    "        return f'The Dog has {self.speed}mph in speed and {self.acceleration} in acceleration and the capacity to lay eggs is considered: {self.lays_eggs}.'\n",
    "    \n",
    "class Mutt(Dog):\n",
    "\n",
    "    def __init__(self, name, species, color = 'black & brown', legs = 4):\n",
    "        dog.__init__(self, name, species)\n",
    "        self.color = color\n",
    "\n",
    "    def make_some_noise(self):\n",
    "        return \"BORK\"\n",
    "    \n",
    "    def __repr__(self):\n",
    "        return f\"This Mutt has {self.speed} in speed, {self.acceleration} in acceleration, and can make soem really awesome {self.make_some_noise()} noises.\"\n",
    "\n",
    "butter = Mutt('Buster', 'Mutt', 'Black')"
   ]
  }
 ],
 "metadata": {
  "colab": {
   "provenance": [
    {
     "file_id": "1wDmopKqYDjbH4FtK1wEWVsTIdqRGRJYq",
     "timestamp": 1675696515120
    }
   ]
  },
  "kernelspec": {
   "display_name": "Python 3 (ipykernel)",
   "language": "python",
   "name": "python3"
  },
  "language_info": {
   "codemirror_mode": {
    "name": "ipython",
    "version": 3
   },
   "file_extension": ".py",
   "mimetype": "text/x-python",
   "name": "python",
   "nbconvert_exporter": "python",
   "pygments_lexer": "ipython3",
   "version": "3.11.3"
  },
  "vscode": {
   "interpreter": {
    "hash": "26de051ba29f2982a8de78e945f0abaf191376122a1563185a90213a26c5da77"
   }
  }
 },
 "nbformat": 4,
 "nbformat_minor": 1
}
