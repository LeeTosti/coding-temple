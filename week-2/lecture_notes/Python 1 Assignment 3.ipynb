{
 "cells": [
  {
   "attachments": {},
   "cell_type": "markdown",
   "metadata": {},
   "source": [
    "# Coding Temple's Data Analytics Program\n",
    "---\n",
    "## Python 1 Assignment 3\n",
    "---"
   ]
  },
  {
   "attachments": {},
   "cell_type": "markdown",
   "metadata": {},
   "source": [
    "### **Task 1: Build a Shopping Cart**\n",
    "**You can use either lists or dictionaries. The program should have the following capabilites:**\n",
    "* Takes a string as an input\n",
    "* Stores user input in a dictionary or list\n",
    "* Users should be able to:\n",
    "    * Add Items\n",
    "    * Delete Items\n",
    "    * See current shopping cart\n",
    "* The program should loop until user 'quits'\n",
    "* Upon quitting the program, print out all items in the user's list"
   ]
  },
  {
   "cell_type": "code",
   "execution_count": null,
   "metadata": {},
   "outputs": [],
   "source": [
    "from IPython.display import clear_output\n",
    "\n",
    "# Ask the user 5 bits of input: Do you want to : Show/Add/Delete/clear or Quit?\n",
    "# YOUR CODE HERE"
   ]
  },
  {
   "attachments": {},
   "cell_type": "markdown",
   "metadata": {},
   "source": [
    "### **Task 2: Create a Module and Import it**\n",
    "Create a Module in VS Code and import it into a Notebook. Use each of the functions you build in your module\n",
    "\n",
    "**Your module should have the following capabilities:**\n",
    "* Has a function to calculate the square footage of a house\n",
    "* Has a function to calculate the circumference of a circle\n",
    "* Has a function to change feet to inches"
   ]
  },
  {
   "cell_type": "code",
   "execution_count": 5,
   "metadata": {},
   "outputs": [
    {
     "name": "stdout",
     "output_type": "stream",
     "text": [
      "The square footage of the house is 2600.\n",
      "The circumference of the circle is 100.\n",
      "The conversion of feet to inches is 36.\n"
     ]
    }
   ],
   "source": [
    "from assignment_3_mod import sf_house, circumference, feet_to_inches\n",
    "\n",
    "print(f\"The square footage of the house is {sf_house(40, 65)}.\")\n",
    "print(f\"The circumference of the circle is {circumference(16)}.\")\n",
    "print(f\"The conversion of feet to inches is {feet_to_inches(3)}.\")\n"
   ]
  },
  {
   "attachments": {},
   "cell_type": "markdown",
   "metadata": {},
   "source": [
    "### **Task 3.1: Lists**\n",
    "Create 4 lists. Two of these lists should be keys, two of these lists should be values"
   ]
  },
  {
   "cell_type": "code",
   "execution_count": 1,
   "metadata": {},
   "outputs": [],
   "source": [
    "key_1 = ['Name', 'Age', 'Hair Color', 'Eye Color']\n",
    "key_2 = ['City', 'State', 'Country']\n",
    "val_1 = ['Lee', 38, 'Brown', 'Brown']\n",
    "val_2 = ['Chicago', 'IL', 'Country']\n"
   ]
  },
  {
   "attachments": {},
   "cell_type": "markdown",
   "metadata": {},
   "source": [
    "### **Task 3.2: Create a function that converts two lists into a dictionary, then merges two dictionaries into one.**\n",
    "\n",
    "Using your 4 lists, create a function which combines the keys lists with the values lists into a dictionary, then merges and returns the two dictionaries together."
   ]
  },
  {
   "cell_type": "code",
   "execution_count": 3,
   "metadata": {},
   "outputs": [
    {
     "ename": "TypeError",
     "evalue": "unsupported operand type(s) for +: 'dict' and 'dict'",
     "output_type": "error",
     "traceback": [
      "\u001b[0;31m---------------------------------------------------------------------------\u001b[0m",
      "\u001b[0;31mTypeError\u001b[0m                                 Traceback (most recent call last)",
      "\u001b[1;32m/Users/lisatosti/Documents/GitHub/coding-temple/week-2/assignments/Python 1 Assignment 3.ipynb Cell 9\u001b[0m line \u001b[0;36m8\n\u001b[1;32m      <a href='vscode-notebook-cell:/Users/lisatosti/Documents/GitHub/coding-temple/week-2/assignments/Python%201%20Assignment%203.ipynb#X11sZmlsZQ%3D%3D?line=4'>5</a>\u001b[0m     dict_2 \u001b[39m=\u001b[39m \u001b[39mdict\u001b[39m(tuple_2)\n\u001b[1;32m      <a href='vscode-notebook-cell:/Users/lisatosti/Documents/GitHub/coding-temple/week-2/assignments/Python%201%20Assignment%203.ipynb#X11sZmlsZQ%3D%3D?line=5'>6</a>\u001b[0m     \u001b[39mreturn\u001b[39;00m \u001b[39mdict\u001b[39m(dict_1 \u001b[39m+\u001b[39m dict_2)\n\u001b[0;32m----> <a href='vscode-notebook-cell:/Users/lisatosti/Documents/GitHub/coding-temple/week-2/assignments/Python%201%20Assignment%203.ipynb#X11sZmlsZQ%3D%3D?line=7'>8</a>\u001b[0m \u001b[39mprint\u001b[39m(sol())\n",
      "\u001b[1;32m/Users/lisatosti/Documents/GitHub/coding-temple/week-2/assignments/Python 1 Assignment 3.ipynb Cell 9\u001b[0m line \u001b[0;36m6\n\u001b[1;32m      <a href='vscode-notebook-cell:/Users/lisatosti/Documents/GitHub/coding-temple/week-2/assignments/Python%201%20Assignment%203.ipynb#X11sZmlsZQ%3D%3D?line=3'>4</a>\u001b[0m dict_1 \u001b[39m=\u001b[39m \u001b[39mdict\u001b[39m(tuple_1)\n\u001b[1;32m      <a href='vscode-notebook-cell:/Users/lisatosti/Documents/GitHub/coding-temple/week-2/assignments/Python%201%20Assignment%203.ipynb#X11sZmlsZQ%3D%3D?line=4'>5</a>\u001b[0m dict_2 \u001b[39m=\u001b[39m \u001b[39mdict\u001b[39m(tuple_2)\n\u001b[0;32m----> <a href='vscode-notebook-cell:/Users/lisatosti/Documents/GitHub/coding-temple/week-2/assignments/Python%201%20Assignment%203.ipynb#X11sZmlsZQ%3D%3D?line=5'>6</a>\u001b[0m \u001b[39mreturn\u001b[39;00m \u001b[39mdict\u001b[39m(dict_1 \u001b[39m+\u001b[39;49m dict_2)\n",
      "\u001b[0;31mTypeError\u001b[0m: unsupported operand type(s) for +: 'dict' and 'dict'"
     ]
    }
   ],
   "source": [
    "def merge():\n",
    "    \n",
    "\n",
    "    tuple_1 = [(key, value) for i, (key, value) in enumerate(zip(key_1, val_1))]\n",
    "    tuple_2 = [(key, value) for i, (key, value) in enumerate(zip(key_1, val_1))]\n",
    "    dict_1 = dict(tuple_1)\n",
    "    dict_2 = dict(tuple_2)\n",
    "    return dict(dict_1 + dict_2)\n",
    "\n",
    "print(sol())\n",
    "        "
   ]
  }
 ],
 "metadata": {
  "kernelspec": {
   "display_name": "Python 3",
   "language": "python",
   "name": "python3"
  },
  "language_info": {
   "codemirror_mode": {
    "name": "ipython",
    "version": 3
   },
   "file_extension": ".py",
   "mimetype": "text/x-python",
   "name": "python",
   "nbconvert_exporter": "python",
   "pygments_lexer": "ipython3",
   "version": "3.11.3"
  },
  "orig_nbformat": 4,
  "vscode": {
   "interpreter": {
    "hash": "26de051ba29f2982a8de78e945f0abaf191376122a1563185a90213a26c5da77"
   }
  }
 },
 "nbformat": 4,
 "nbformat_minor": 2
}
