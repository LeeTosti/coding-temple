{
 "cells": [
  {
   "attachments": {},
   "cell_type": "markdown",
   "metadata": {},
   "source": [
    "# Coding Temple's Data Analytics Program\n",
    "---\n",
    "## Python 1 Assignment 3\n",
    "---"
   ]
  },
  {
   "attachments": {},
   "cell_type": "markdown",
   "metadata": {},
   "source": [
    "### **Task 1: Build a Shopping Cart**\n",
    "**You can use either lists or dictionaries. The program should have the following capabilites:**\n",
    "* Takes a string as an input\n",
    "* Stores user input in a dictionary or list\n",
    "* Users should be able to:\n",
    "    * Add Items\n",
    "    * Delete Items\n",
    "    * See current shopping cart\n",
    "* The program should loop until user 'quits'\n",
    "* Upon quitting the program, print out all items in the user's list"
   ]
  },
  {
   "cell_type": "code",
   "execution_count": 1,
   "metadata": {},
   "outputs": [
    {
     "data": {
      "text/plain": [
       "['Shirt']"
      ]
     },
     "execution_count": 1,
     "metadata": {},
     "output_type": "execute_result"
    }
   ],
   "source": [
    "#from IPython.display import clear_output\n",
    "\n",
    "# Ask the user 5 bits of input: Do you want to : Show/Add/Delete/clear or Quit?\n",
    "def shopping_cart():\n",
    "    cart = []\n",
    "    while True:\n",
    "        ask = input(\"Do you want to Show/Add/Delete/Clear or Quit?\")\n",
    "        \n",
    "        if ask.lower() == 'quit':\n",
    "            break\n",
    "        elif ask.lower() == 'show':\n",
    "            return cart\n",
    "        elif ask.lower() == 'add':\n",
    "            add = input(\"What would you like to add to your cart?\")\n",
    "            cart.append(add)\n",
    "            return cart\n",
    "        elif ask.lower() == 'delete':\n",
    "            delete = input(\"What would you like to delete from your cart?\")\n",
    "            cart.pop(delete)\n",
    "            return f\"{delete.title()} has been removed from your cart. Here is your updated cart: {cart}\"\n",
    "        else:\n",
    "            cart.clear()\n",
    "            return f\"Your cart is now empty.\"\n",
    "    return cart\n",
    "    \n",
    "shopping_cart()"
   ]
  },
  {
   "attachments": {},
   "cell_type": "markdown",
   "metadata": {},
   "source": [
    "### **Task 2: Create a Module and Import it**\n",
    "Create a Module in VS Code and import it into a Notebook. Use each of the functions you build in your module\n",
    "\n",
    "**Your module should have the following capabilities:**\n",
    "* Has a function to calculate the square footage of a house\n",
    "* Has a function to calculate the circumference of a circle\n",
    "* Has a function to change feet to inches"
   ]
  },
  {
   "cell_type": "code",
   "execution_count": 5,
   "metadata": {},
   "outputs": [
    {
     "name": "stdout",
     "output_type": "stream",
     "text": [
      "The square footage of the house is 2600.\n",
      "The circumference of the circle is 100.\n",
      "The conversion of feet to inches is 36.\n"
     ]
    }
   ],
   "source": [
    "from assignment_3_mod import sf_house, circumference, feet_to_inches\n",
    "\n",
    "print(f\"The square footage of the house is {sf_house(40, 65)}.\")\n",
    "print(f\"The circumference of the circle is {circumference(16)}.\")\n",
    "print(f\"The conversion of feet to inches is {feet_to_inches(3)}.\")\n"
   ]
  },
  {
   "attachments": {},
   "cell_type": "markdown",
   "metadata": {},
   "source": [
    "### **Task 3.1: Lists**\n",
    "Create 4 lists. Two of these lists should be keys, two of these lists should be values"
   ]
  },
  {
   "cell_type": "code",
   "execution_count": 4,
   "metadata": {},
   "outputs": [],
   "source": [
    "key_1 = ['Name', 'Age', 'Hair Color', 'Eye Color']\n",
    "key_2 = ['City', 'State', 'Country']\n",
    "val_1 = ['Lee', 38, 'Brown', 'Brown']\n",
    "val_2 = ['Chicago', 'IL', 'United States']\n"
   ]
  },
  {
   "attachments": {},
   "cell_type": "markdown",
   "metadata": {},
   "source": [
    "### **Task 3.2: Create a function that converts two lists into a dictionary, then merges two dictionaries into one.**\n",
    "\n",
    "Using your 4 lists, create a function which combines the keys lists with the values lists into a dictionary, then merges and returns the two dictionaries together."
   ]
  },
  {
   "cell_type": "code",
   "execution_count": 6,
   "metadata": {},
   "outputs": [
    {
     "name": "stdout",
     "output_type": "stream",
     "text": [
      "{'Name': 'Lee', 'Age': 38, 'Hair Color': 'Brown', 'Eye Color': 'Brown', 'City': 'Chicago', 'State': 'IL', 'Country': 'United States'}\n"
     ]
    }
   ],
   "source": [
    "def merge():\n",
    "    dict_1 = dict(zip(key_1, val_1))\n",
    "    dict_2 = dict(zip(key_2, val_2))\n",
    "    dict_3 = {**dict_1, **dict_2}\n",
    "    return(dict_3)\n",
    "\n",
    "print(merge())\n",
    "\n"
   ]
  }
 ],
 "metadata": {
  "kernelspec": {
   "display_name": "Python 3",
   "language": "python",
   "name": "python3"
  },
  "language_info": {
   "codemirror_mode": {
    "name": "ipython",
    "version": 3
   },
   "file_extension": ".py",
   "mimetype": "text/x-python",
   "name": "python",
   "nbconvert_exporter": "python",
   "pygments_lexer": "ipython3",
   "version": "3.11.3"
  },
  "orig_nbformat": 4,
  "vscode": {
   "interpreter": {
    "hash": "26de051ba29f2982a8de78e945f0abaf191376122a1563185a90213a26c5da77"
   }
  }
 },
 "nbformat": 4,
 "nbformat_minor": 2
}
