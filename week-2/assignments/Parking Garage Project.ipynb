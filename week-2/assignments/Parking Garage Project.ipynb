{
 "cells": [
  {
   "cell_type": "markdown",
   "metadata": {},
   "source": [
    "# Parking Garage Project\n",
    "\n",
    "Your assignment for today is to create a parking garage class to get more familiar with Object Oriented Programming(OOP). \n",
    "\n",
    "Your parking gargage class should have the following methods:\n",
    "- takeTicket\n",
    "   - This should decrease the amount of tickets available by 1\n",
    "   - This should decrease the amount of parkingSpaces available by 1\n",
    "- payForParking\n",
    "   - Display an input that waits for an amount from the user and store it in a variable\n",
    "   - If the payment variable is not empty then ->  display a message to the user that their ticket has been paid and they have 15mins to leave\n",
    "   - This should update the \"currentTicket\" dictionary key \"paid\" to True\n",
    "-leaveGarage\n",
    "   - If the ticket has been paid, display a message of \"Thank You, have a nice day\"\n",
    "   - If the ticket has not been paid, display an input prompt for payment\n",
    "      - Once paid, display message \"Thank you, have a nice day!\"\n",
    "   - Update parkingSpaces list to increase by 1\n",
    "   - Update tickets list to increase by 1\n",
    "\n",
    "You will need a few attributes as well:\n",
    "- tickets -> list\n",
    "- parkingSpaces -> list\n",
    "- currentTicket -> dictionary"
   ]
  },
  {
   "cell_type": "code",
   "execution_count": 1,
   "metadata": {},
   "outputs": [],
   "source": [
    "class Garage:\n",
    "    \"\"\"Attributes for the class Garage:\n",
    "    - parking spaces: denotes number of parking spaces available for usage in the garage\n",
    "    - tickets: denotes number of tickets available for empty parking spaces\n",
    "    - current tickets: denotes current user information for ticket in a dictionary\n",
    "\n",
    "    Methods of this class:\n",
    "    - take ticket: subtracts a parking space and ticket from total number of parking spaces and tickets\n",
    "    - pay for parking: takes input of hours vehicle has been in garage allowing user to option to pay for their ticket\n",
    "    \"\"\"\n",
    "\n",
    "    def __init__(self):\n",
    "        #Number of parking spaces in parking garage\n",
    "        self.parking_spaces = 50\n",
    "        #Number of tickets available to be taken\n",
    "        self.tickets = 50\n",
    "        #Dictionary to hold values for ticket information\n",
    "        self.current_tickets = {}\n",
    "\n",
    "    def __repr__(self):\n",
    "        \"\"\"\n",
    "        Returns the number of spaces available \n",
    "        \"\"\"\n",
    "        return f\"The number of parking spaces available is {self.parking_spaces}.\"\n",
    "    \n",
    "    def take_ticket(self):\n",
    "        \"\"\"\n",
    "        Subtracts 1 space from parking spaces and 1 ticket from tickets, returns parking spaces now available\n",
    "        \"\"\"\n",
    "        self.parking_spaces -= 1\n",
    "        self.tickets -= 1\n",
    "        return self.parking_spaces\n",
    "    \n",
    "    def pay_for_parking(self):\n",
    "        \"\"\"\n",
    "        Assigns price per hour of parking, asks user for input for of hours vehicle has been in garage and assigns it to a variable\n",
    "        Variable is multiplied by price per hour and prints a message to user for price owed\n",
    "        Asks user for input if they would like to pay\n",
    "        If user pays, changes value of paid to True, increases the number of parking spaces and tickets and prints message thanking the user\n",
    "        If user does not pay, prints message asking them to try again.        \n",
    "        \"\"\"\n",
    "        price_per_hour = 8.00\n",
    "        parkign_time =input('How many hours has your vehicle been here?')\n",
    "        self.current_tickets['Amount'] =float(parkign_time) * price_per_hour\n",
    "        print(f\"Your amount due is {self.current_tickets['Amount']}\")\n",
    "        pay = input(\"Would you like to pay this amount? Y/N\")\n",
    "        if pay.lower() == 'y':\n",
    "            self.current_tickets['Paid'] = True\n",
    "            self.tickets += 1\n",
    "            self.parking_spaces += 1\n",
    "            print(\"Thank you for parking with us!\")\n",
    "        else:\n",
    "            print(\"You will not be able to exit without paying. Please try again.\")\n"
   ]
  },
  {
   "cell_type": "code",
   "execution_count": 10,
   "metadata": {},
   "outputs": [],
   "source": [
    "user = Garage()"
   ]
  },
  {
   "cell_type": "code",
   "execution_count": 3,
   "metadata": {},
   "outputs": [
    {
     "data": {
      "text/plain": [
       "The number of parking spaces available is 50."
      ]
     },
     "execution_count": 3,
     "metadata": {},
     "output_type": "execute_result"
    }
   ],
   "source": [
    "user"
   ]
  },
  {
   "cell_type": "code",
   "execution_count": 11,
   "metadata": {},
   "outputs": [
    {
     "data": {
      "text/plain": [
       "49"
      ]
     },
     "execution_count": 11,
     "metadata": {},
     "output_type": "execute_result"
    }
   ],
   "source": [
    "user.take_ticket()"
   ]
  },
  {
   "cell_type": "code",
   "execution_count": 12,
   "metadata": {},
   "outputs": [
    {
     "name": "stdout",
     "output_type": "stream",
     "text": [
      "Your amount due is 64.0\n",
      "Thank you for parking with us!\n"
     ]
    }
   ],
   "source": [
    "user.pay_for_parking()"
   ]
  }
 ],
 "metadata": {
  "kernelspec": {
   "display_name": "Python 3",
   "language": "python",
   "name": "python3"
  },
  "language_info": {
   "codemirror_mode": {
    "name": "ipython",
    "version": 3
   },
   "file_extension": ".py",
   "mimetype": "text/x-python",
   "name": "python",
   "nbconvert_exporter": "python",
   "pygments_lexer": "ipython3",
   "version": "3.11.3"
  }
 },
 "nbformat": 4,
 "nbformat_minor": 2
}
