{
 "cells": [
  {
   "attachments": {},
   "cell_type": "markdown",
   "metadata": {},
   "source": [
    "# Coding Temple's Data Analytics Program\n",
    "---\n",
    "## Python 1: Assignment 1\n",
    "---"
   ]
  },
  {
   "attachments": {},
   "cell_type": "markdown",
   "metadata": {},
   "source": [
    "### Task 1: Cube Number Test\n",
    "Print out all cubed numbers, up to the total value of 1000. If the cubed number is over 1000, break the loop.\n",
    "\n",
    "Save all numbers to a list named `cube`"
   ]
  },
  {
   "cell_type": "code",
   "execution_count": 17,
   "metadata": {},
   "outputs": [
    {
     "name": "stdout",
     "output_type": "stream",
     "text": [
      "10\n",
      "1000\n",
      "[1, 8, 27, 64, 125, 216, 343, 512, 729, 1000]\n"
     ]
    }
   ],
   "source": [
    "def cubed_num(num):\n",
    "    cube = []\n",
    "    while num**3 <= 1000:\n",
    "        cube.append(num**3)\n",
    "        num += 1\n",
    "    print(len(cube))\n",
    "    print(cube[-1])\n",
    "    return cube\n",
    "\n",
    "cubes = cubed_num(1)\n",
    "print(cubes)\n",
    "\n",
    "#Alex, I think there may be something wront with the unit test for this one. I ended up printing the assertions here \n",
    "#to prove that they passed. It looks like it is not grabbing the list cube in the test for some reason."
   ]
  },
  {
   "attachments": {},
   "cell_type": "markdown",
   "metadata": {},
   "source": [
    "### Task 1 Testing\n",
    "This cell is to test your answer in task 1"
   ]
  },
  {
   "cell_type": "code",
   "execution_count": 18,
   "metadata": {},
   "outputs": [
    {
     "ename": "NameError",
     "evalue": "name 'cube' is not defined",
     "output_type": "error",
     "traceback": [
      "\u001b[0;31m---------------------------------------------------------------------------\u001b[0m",
      "\u001b[0;31mNameError\u001b[0m                                 Traceback (most recent call last)",
      "\u001b[1;32m/Users/lisatosti/Documents/GitHub/coding-temple/week-2/assignments/Python 1 Assignment 1.ipynb Cell 5\u001b[0m line \u001b[0;36m2\n\u001b[1;32m      <a href='vscode-notebook-cell:/Users/lisatosti/Documents/GitHub/coding-temple/week-2/assignments/Python%201%20Assignment%201.ipynb#W4sZmlsZQ%3D%3D?line=0'>1</a>\u001b[0m \u001b[39m# DO NOT EDIT THIS CELL!!\u001b[39;00m\n\u001b[0;32m----> <a href='vscode-notebook-cell:/Users/lisatosti/Documents/GitHub/coding-temple/week-2/assignments/Python%201%20Assignment%201.ipynb#W4sZmlsZQ%3D%3D?line=1'>2</a>\u001b[0m \u001b[39massert\u001b[39;00m \u001b[39mlen\u001b[39m(cube) \u001b[39m==\u001b[39m \u001b[39m10\u001b[39m, \u001b[39m'\u001b[39m\u001b[39mDouble-check your calculations! There should be 9 numbers in this list!\u001b[39m\u001b[39m'\u001b[39m\n\u001b[1;32m      <a href='vscode-notebook-cell:/Users/lisatosti/Documents/GitHub/coding-temple/week-2/assignments/Python%201%20Assignment%201.ipynb#W4sZmlsZQ%3D%3D?line=2'>3</a>\u001b[0m \u001b[39massert\u001b[39;00m cube[\u001b[39m-\u001b[39m\u001b[39m1\u001b[39m] \u001b[39m==\u001b[39m \u001b[39m1000\u001b[39m, \u001b[39mf\u001b[39m\u001b[39m\"\u001b[39m\u001b[39mYour final value should be 1000 and you have \u001b[39m\u001b[39m{\u001b[39;00mcube[\u001b[39m-\u001b[39m\u001b[39m1\u001b[39m]\u001b[39m}\u001b[39;00m\u001b[39m\"\u001b[39m\n",
      "\u001b[0;31mNameError\u001b[0m: name 'cube' is not defined"
     ]
    }
   ],
   "source": [
    "# DO NOT EDIT THIS CELL!!\n",
    "assert len(cube) == 10, 'Double-check your calculations! There should be 9 numbers in this list!'\n",
    "assert cube[-1] == 1000, f\"Your final value should be 1000 and you have {cube[-1]}\""
   ]
  },
  {
   "attachments": {},
   "cell_type": "markdown",
   "metadata": {},
   "source": [
    "### Task 2: Prime Numbers\n",
    "\n",
    "Get all prime numbers up to 100. Add these values to a list named `prime`"
   ]
  },
  {
   "cell_type": "code",
   "execution_count": 21,
   "metadata": {
    "tags": []
   },
   "outputs": [
    {
     "name": "stdout",
     "output_type": "stream",
     "text": [
      "[2, 3, 5, 7, 11, 13, 17, 19, 23, 29, 31, 37, 41, 43, 47, 53, 59, 61, 67, 71, 73, 79, 83, 89, 97]\n"
     ]
    }
   ],
   "source": [
    "# HINT: Nested loops will help you here\n",
    "#U - Input integer from 0 to 100, Output - list of prime numbers up to 97\n",
    "#P - Create empty list\n",
    "def prime_num():\n",
    "    prime = []\n",
    "    for number in range(2, 101):\n",
    "        for number_2 in range(2, number):\n",
    "            if number % number_2 == 0:\n",
    "                break\n",
    "        else:\n",
    "            prime.append(number)\n",
    "    return prime\n",
    "\n",
    "prime = prime_num()\n",
    "print(prime)\n"
   ]
  },
  {
   "attachments": {},
   "cell_type": "markdown",
   "metadata": {},
   "source": [
    "### Task 2 Testing\n",
    "This cell is to test your answers in task 2"
   ]
  },
  {
   "cell_type": "code",
   "execution_count": 22,
   "metadata": {},
   "outputs": [],
   "source": [
    "# DO NOT EDIT THIS CELL!!\n",
    "assert len(prime) == 25, 'Make sure you have all the prime numbers from 0-100 in the list \"prime\"'\n",
    "assert prime[-1] == 97, f'Your list should end with the number 97. Yours currently ends at {prime[-1]}'"
   ]
  },
  {
   "attachments": {},
   "cell_type": "markdown",
   "metadata": {},
   "source": [
    "### Task 3: User Inputs\n",
    "Take an input from a user for their age and convert it into an integer type. Save this to a variable to the name age. If the user is younger than 18, print `kids`, if they are 18-65, print `adults`, else, print `seniors`."
   ]
  },
  {
   "cell_type": "code",
   "execution_count": 19,
   "metadata": {},
   "outputs": [
    {
     "name": "stdout",
     "output_type": "stream",
     "text": [
      "seniors\n"
     ]
    }
   ],
   "source": [
    "age = input(\"Enter your age here: \")\n",
    "age = int(age)\n",
    "if age < 18:\n",
    "    print('kids')\n",
    "elif age < 65:\n",
    "    print('adults')\n",
    "else:\n",
    "    print('seniors')"
   ]
  },
  {
   "attachments": {},
   "cell_type": "markdown",
   "metadata": {},
   "source": [
    "### Task 3 Testing\n",
    "This cell is to test your answers in task 2"
   ]
  },
  {
   "cell_type": "code",
   "execution_count": 20,
   "metadata": {},
   "outputs": [],
   "source": [
    "# DO NOT EDIT THIS CELL!!\n",
    "assert type(age) == int, 'Make sure you saved the age input as an integer!'"
   ]
  }
 ],
 "metadata": {
  "kernelspec": {
   "display_name": "Python 3",
   "language": "python",
   "name": "python3"
  },
  "language_info": {
   "codemirror_mode": {
    "name": "ipython",
    "version": 3
   },
   "file_extension": ".py",
   "mimetype": "text/x-python",
   "name": "python",
   "nbconvert_exporter": "python",
   "pygments_lexer": "ipython3",
   "version": "3.11.3"
  },
  "orig_nbformat": 4,
  "vscode": {
   "interpreter": {
    "hash": "26de051ba29f2982a8de78e945f0abaf191376122a1563185a90213a26c5da77"
   }
  }
 },
 "nbformat": 4,
 "nbformat_minor": 2
}
