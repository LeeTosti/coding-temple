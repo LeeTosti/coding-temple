{
 "cells": [
  {
   "attachments": {},
   "cell_type": "markdown",
   "metadata": {},
   "source": [
    "# Coding Temple's Data Analytics Program\n",
    "---\n",
    "## Python Basics Assignment 4\n",
    "---"
   ]
  },
  {
   "attachments": {},
   "cell_type": "markdown",
   "metadata": {},
   "source": [
    "### **Task 1: Update Shopping Cart**\n",
    "Using the shopping cart you created yesterday as a blueprint, create a shopping cart using object-oriented programming. This shopping cart should maintain all functionality that you currently have in your blueprint."
   ]
  },
  {
   "cell_type": "code",
   "execution_count": 3,
   "metadata": {},
   "outputs": [
    {
     "name": "stdout",
     "output_type": "stream",
     "text": [
      "Dress has been added to your cart.\n",
      "Your cart is now empty.\n",
      "Sweater has been added to your cart.\n",
      "Jeans has been added to your cart.\n",
      "Sneakers has been added to your cart.\n",
      "Hat has been added to your cart.\n",
      "Hat has been removed from your cart.\n",
      "Here are the items in your cart:\n",
      "Sweater\n",
      "Jeans\n",
      "Sneakers\n",
      "Here are the items in your cart:\n",
      "Sweater\n",
      "Jeans\n",
      "Sneakers\n",
      "Woops, somthing went wrong! Try again.\n"
     ]
    }
   ],
   "source": [
    "class ShoppingCart:\n",
    "    def __init__(self, items):\n",
    "        self.items = items\n",
    "\n",
    "    def show_cart(self):\n",
    "        \"\"\"Prints all items in cart\"\"\"\n",
    "        print(f\"Here are the items in your cart:\")\n",
    "        for item in self.items:\n",
    "            print(item)\n",
    "\n",
    "    def add_to_cart(self):\n",
    "        \"\"\"Adds item to cart\"\"\"\n",
    "        added_item = input(\"What would you like to add to your cart?\")\n",
    "        self.items.append(added_item.title())\n",
    "        print(f\"{added_item.title()} has been added to your cart.\")\n",
    "\n",
    "    def delete_cart(self):\n",
    "        \"\"\"Deletes item from cart\"\"\"\n",
    "        deleted_item = input(\"What would you like to delete from your cart?\")\n",
    "        self.items.remove(deleted_item.title())\n",
    "        print(f\"{deleted_item.title()} has been removed from your cart.\")\n",
    "\n",
    "    def clear_cart(self):\n",
    "        self.items.clear()\n",
    "        print(f\"Your cart is now empty.\")\n",
    "\n",
    "my_cart = ShoppingCart([])\n",
    "\n",
    "def run_program():\n",
    "    while True:\n",
    "        ask = input(\"Do you want to Show/Add/Delete/Clear or Quit?\")\n",
    "        \n",
    "        if ask.lower() == 'quit':\n",
    "            break\n",
    "        elif ask.lower() == 'show':\n",
    "            my_cart.show_cart()\n",
    "        elif ask.lower() == 'add':\n",
    "            my_cart.add_to_cart()\n",
    "        elif ask.lower() == 'delete':\n",
    "            my_cart.delete_cart()\n",
    "        elif ask.lower() == 'clear':\n",
    "            my_cart.clear_cart()\n",
    "        else:\n",
    "            print(f\"Woops, somthing went wrong! Try again.\")\n",
    "run_program()\n"
   ]
  },
  {
   "attachments": {},
   "cell_type": "markdown",
   "metadata": {},
   "source": [
    "### **Task 2: String Class**\n",
    "Write a class which has the following two methods:\n",
    "* `get_string`: Accepts a string input from the user\n",
    "* `print_string`: Prints the string all in upper-case"
   ]
  },
  {
   "cell_type": "code",
   "execution_count": 2,
   "metadata": {},
   "outputs": [
    {
     "data": {
      "text/plain": [
       "'hi'"
      ]
     },
     "execution_count": 2,
     "metadata": {},
     "output_type": "execute_result"
    }
   ],
   "source": [
    "class StringClass:\n",
    "\n",
    "    def get_string(self, s):\n",
    "        self.my_string = s\n",
    "    \n",
    "    def print_string(self):\n",
    "        return f\"{self.my_string}\"\n",
    "\n",
    "ask_for_string = StringClass()\n",
    "ask_for_string.get_string('hi')\n",
    "ask_for_string.print_string()"
   ]
  },
  {
   "attachments": {},
   "cell_type": "markdown",
   "metadata": {},
   "source": [
    "### **Task 3: Activities**\n",
    "Create a class that depicts your favorite activity. Add in attributes that are associated with that activity in you `__init__` call. Also, create three functions that are associated with the activity.\n",
    "\n",
    "**Example:**\n",
    "If I chose football, I may have a FootballPlayer class with attributes such as:\n",
    "* `self.speed`\n",
    "* `self.strength`\n",
    "* `self.position`\n",
    "\n",
    "and methods such as:\n",
    "* `def pass_ball`\n",
    "* `def run`\n",
    "* `def faster_than_x`"
   ]
  },
  {
   "cell_type": "code",
   "execution_count": 1,
   "metadata": {},
   "outputs": [],
   "source": [
    "class Books:\n",
    "    def __init__(self, book_title, author, book_format):\n",
    "        self.book_title = book_title\n",
    "        self.author = author\n",
    "        self.book_format = book_format\n",
    "        \n",
    "    \n",
    "    def borrowing(self):\n",
    "        return f\"You are currently borrowing {self.book_title.title()} by {self.author.title()} from your local library.\"\n",
    "    \n",
    "    def reading(self):\n",
    "        if self.book_format.lower() == 'ebook':\n",
    "            return f\"You are reading an ebook version of {self.book_title.title()} by {self.author.title()}.\"\n",
    "        elif self.book_format.lower() == 'paperback':\n",
    "            return f\"You are reading {self.book_title.title()} by {self.author.title()} in paperback.\"\n",
    "        elif self.book_format.lower() == 'hardcover':\n",
    "            return f\"You are reading a hardcarover version of {self.book_title.title()} by {self.author.title()}.\"\n",
    "        elif self.book_format.lower() == 'audiobook':\n",
    "            return f\"You are listening to {self.book_title.title()} by {self.author.title()} on audiobook.\"\n",
    "        else:\n",
    "            return f\"You are reading to {self.book_title.title()} by {self.author.title()}.\"\n",
    "    \n",
    "    def dnf(self):\n",
    "        return f\"You have decided to DNF this book. I'm sorry you didn't like this one.\""
   ]
  },
  {
   "attachments": {},
   "cell_type": "markdown",
   "metadata": {},
   "source": [
    "### **Task 4: Test Your Class!**\n",
    "Now that you created your class, let's create an instance of your class. In the cell below, instantiate a Class Object, then test each of your class methods on that object."
   ]
  },
  {
   "cell_type": "code",
   "execution_count": 2,
   "metadata": {},
   "outputs": [
    {
     "name": "stdout",
     "output_type": "stream",
     "text": [
      "You are reading an ebook version of A Court Of Thorns And Roses by Sarah J. Maas.\n",
      "You are currently borrowing The Dead Romantics by Ashley Poston from your local library.\n",
      "You have decided to DNF this book. I'm sorry you didn't like this one.\n"
     ]
    }
   ],
   "source": [
    "acotar = Books(\"A Court of Thorns and Roses\", 'Sarah J. Maas', 'ebook')\n",
    "dead_romantics = Books('The Dead Romantics', 'Ashley Poston', 'hardcover')\n",
    "husband_material = Books('Husband Material', 'Alexis Hall', 'audiobook')\n",
    "\n",
    "print(acotar.reading())\n",
    "print(dead_romantics.borrowing())\n",
    "print(husband_material.dnf())\n",
    "\n",
    "\n"
   ]
  }
 ],
 "metadata": {
  "kernelspec": {
   "display_name": "Python 3",
   "language": "python",
   "name": "python3"
  },
  "language_info": {
   "codemirror_mode": {
    "name": "ipython",
    "version": 3
   },
   "file_extension": ".py",
   "mimetype": "text/x-python",
   "name": "python",
   "nbconvert_exporter": "python",
   "pygments_lexer": "ipython3",
   "version": "3.11.3"
  },
  "orig_nbformat": 4,
  "vscode": {
   "interpreter": {
    "hash": "26de051ba29f2982a8de78e945f0abaf191376122a1563185a90213a26c5da77"
   }
  }
 },
 "nbformat": 4,
 "nbformat_minor": 2
}
