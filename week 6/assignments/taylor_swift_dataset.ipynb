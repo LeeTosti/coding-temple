{
 "cells": [
  {
   "cell_type": "markdown",
   "metadata": {},
   "source": [
    "## Import Libraries and Data"
   ]
  },
  {
   "cell_type": "code",
   "execution_count": 1,
   "metadata": {},
   "outputs": [],
   "source": [
    "import pandas as pd\n",
    "import plotly.express as px\n",
    "import sqlalchemy"
   ]
  },
  {
   "cell_type": "code",
   "execution_count": 2,
   "metadata": {},
   "outputs": [
    {
     "data": {
      "text/html": [
       "<div>\n",
       "<style scoped>\n",
       "    .dataframe tbody tr th:only-of-type {\n",
       "        vertical-align: middle;\n",
       "    }\n",
       "\n",
       "    .dataframe tbody tr th {\n",
       "        vertical-align: top;\n",
       "    }\n",
       "\n",
       "    .dataframe thead th {\n",
       "        text-align: right;\n",
       "    }\n",
       "</style>\n",
       "<table border=\"1\" class=\"dataframe\">\n",
       "  <thead>\n",
       "    <tr style=\"text-align: right;\">\n",
       "      <th></th>\n",
       "      <th>City</th>\n",
       "      <th>Country</th>\n",
       "      <th>Venue</th>\n",
       "      <th>Opening act(s)</th>\n",
       "      <th>Attendance (tickets sold / available)</th>\n",
       "      <th>Revenue</th>\n",
       "      <th>Tour</th>\n",
       "    </tr>\n",
       "  </thead>\n",
       "  <tbody>\n",
       "    <tr>\n",
       "      <th>0</th>\n",
       "      <td>Evansville</td>\n",
       "      <td>United States</td>\n",
       "      <td>Roberts Municipal Stadium</td>\n",
       "      <td>Gloriana\\r\\nKellie Pickler</td>\n",
       "      <td>7,463 / 7,463</td>\n",
       "      <td>$360,617</td>\n",
       "      <td>Fearless_Tour</td>\n",
       "    </tr>\n",
       "    <tr>\n",
       "      <th>1</th>\n",
       "      <td>Jonesboro</td>\n",
       "      <td>United States</td>\n",
       "      <td>Convocation Center</td>\n",
       "      <td>Gloriana\\r\\nKellie Pickler</td>\n",
       "      <td>7,822 / 7,822</td>\n",
       "      <td>$340,328</td>\n",
       "      <td>Fearless_Tour</td>\n",
       "    </tr>\n",
       "    <tr>\n",
       "      <th>2</th>\n",
       "      <td>St. Louis</td>\n",
       "      <td>United States</td>\n",
       "      <td>Scottrade Center</td>\n",
       "      <td>Gloriana\\r\\nKellie Pickler</td>\n",
       "      <td>13,764 / 13,764</td>\n",
       "      <td>$650,420</td>\n",
       "      <td>Fearless_Tour</td>\n",
       "    </tr>\n",
       "    <tr>\n",
       "      <th>3</th>\n",
       "      <td>Alexandria</td>\n",
       "      <td>United States</td>\n",
       "      <td>Bishop Ireton High School</td>\n",
       "      <td>Gloriana\\r\\nKellie Pickler</td>\n",
       "      <td></td>\n",
       "      <td></td>\n",
       "      <td>Fearless_Tour</td>\n",
       "    </tr>\n",
       "    <tr>\n",
       "      <th>4</th>\n",
       "      <td>North Charleston</td>\n",
       "      <td>United States</td>\n",
       "      <td>North Charleston Coliseum</td>\n",
       "      <td>Gloriana\\r\\nKellie Pickler</td>\n",
       "      <td>8,751 / 8,751</td>\n",
       "      <td>$398,154</td>\n",
       "      <td>Fearless_Tour</td>\n",
       "    </tr>\n",
       "    <tr>\n",
       "      <th>...</th>\n",
       "      <td>...</td>\n",
       "      <td>...</td>\n",
       "      <td>...</td>\n",
       "      <td>...</td>\n",
       "      <td>...</td>\n",
       "      <td>...</td>\n",
       "      <td>...</td>\n",
       "    </tr>\n",
       "    <tr>\n",
       "      <th>440</th>\n",
       "      <td>Sydney</td>\n",
       "      <td>Australia</td>\n",
       "      <td>ANZ Stadium</td>\n",
       "      <td>Charli XCX\\r\\nBroods</td>\n",
       "      <td>72,805 / 72,805</td>\n",
       "      <td>$7,686,564</td>\n",
       "      <td>Reputation_Stadium_Tour</td>\n",
       "    </tr>\n",
       "    <tr>\n",
       "      <th>441</th>\n",
       "      <td>Brisbane</td>\n",
       "      <td>Australia</td>\n",
       "      <td>The Gabba</td>\n",
       "      <td>Charli XCX\\r\\nBroods</td>\n",
       "      <td>43,907 / 43,907</td>\n",
       "      <td>$4,338,127</td>\n",
       "      <td>Reputation_Stadium_Tour</td>\n",
       "    </tr>\n",
       "    <tr>\n",
       "      <th>442</th>\n",
       "      <td>Auckland</td>\n",
       "      <td>New Zealand</td>\n",
       "      <td>Mount Smart Stadium</td>\n",
       "      <td>Charli XCX\\r\\nBroods</td>\n",
       "      <td>35,749 / 35,749</td>\n",
       "      <td>$3,617,593</td>\n",
       "      <td>Reputation_Stadium_Tour</td>\n",
       "    </tr>\n",
       "    <tr>\n",
       "      <th>443</th>\n",
       "      <td>Tokyo</td>\n",
       "      <td>Japan</td>\n",
       "      <td>Tokyo Dome</td>\n",
       "      <td>Charli XCX</td>\n",
       "      <td>100,109 / 100,109</td>\n",
       "      <td>$14,859,847</td>\n",
       "      <td>Reputation_Stadium_Tour</td>\n",
       "    </tr>\n",
       "    <tr>\n",
       "      <th>444</th>\n",
       "      <td>Tokyo</td>\n",
       "      <td>Japan</td>\n",
       "      <td>Tokyo Dome</td>\n",
       "      <td>Charli XCX</td>\n",
       "      <td>100,109 / 100,109</td>\n",
       "      <td>$14,859,847</td>\n",
       "      <td>Reputation_Stadium_Tour</td>\n",
       "    </tr>\n",
       "  </tbody>\n",
       "</table>\n",
       "<p>445 rows × 7 columns</p>\n",
       "</div>"
      ],
      "text/plain": [
       "                 City        Country                      Venue  \\\n",
       "0          Evansville  United States  Roberts Municipal Stadium   \n",
       "1           Jonesboro  United States         Convocation Center   \n",
       "2           St. Louis  United States           Scottrade Center   \n",
       "3          Alexandria  United States  Bishop Ireton High School   \n",
       "4    North Charleston  United States  North Charleston Coliseum   \n",
       "..                ...            ...                        ...   \n",
       "440            Sydney      Australia                ANZ Stadium   \n",
       "441          Brisbane      Australia                  The Gabba   \n",
       "442          Auckland    New Zealand        Mount Smart Stadium   \n",
       "443             Tokyo          Japan                 Tokyo Dome   \n",
       "444             Tokyo          Japan                 Tokyo Dome   \n",
       "\n",
       "                 Opening act(s) Attendance (tickets sold / available)  \\\n",
       "0    Gloriana\\r\\nKellie Pickler                         7,463 / 7,463   \n",
       "1    Gloriana\\r\\nKellie Pickler                         7,822 / 7,822   \n",
       "2    Gloriana\\r\\nKellie Pickler                       13,764 / 13,764   \n",
       "3    Gloriana\\r\\nKellie Pickler                                        \n",
       "4    Gloriana\\r\\nKellie Pickler                         8,751 / 8,751   \n",
       "..                          ...                                   ...   \n",
       "440        Charli XCX\\r\\nBroods                       72,805 / 72,805   \n",
       "441        Charli XCX\\r\\nBroods                       43,907 / 43,907   \n",
       "442        Charli XCX\\r\\nBroods                       35,749 / 35,749   \n",
       "443                  Charli XCX                     100,109 / 100,109   \n",
       "444                  Charli XCX                     100,109 / 100,109   \n",
       "\n",
       "         Revenue                     Tour  \n",
       "0       $360,617            Fearless_Tour  \n",
       "1       $340,328            Fearless_Tour  \n",
       "2       $650,420            Fearless_Tour  \n",
       "3                          Fearless_Tour  \n",
       "4       $398,154            Fearless_Tour  \n",
       "..           ...                      ...  \n",
       "440   $7,686,564  Reputation_Stadium_Tour  \n",
       "441   $4,338,127  Reputation_Stadium_Tour  \n",
       "442   $3,617,593  Reputation_Stadium_Tour  \n",
       "443  $14,859,847  Reputation_Stadium_Tour  \n",
       "444  $14,859,847  Reputation_Stadium_Tour  \n",
       "\n",
       "[445 rows x 7 columns]"
      ]
     },
     "execution_count": 2,
     "metadata": {},
     "output_type": "execute_result"
    }
   ],
   "source": [
    "df = pd.read_csv('/Users/lisatosti/Documents/GitHub/coding-temple/week 6/assignments/Taylor_Train.csv', encoding='unicode_escape')\n",
    "df"
   ]
  },
  {
   "cell_type": "markdown",
   "metadata": {},
   "source": [
    "## Tidy Data"
   ]
  },
  {
   "cell_type": "markdown",
   "metadata": {},
   "source": [
    "* PEP 8 Compliance"
   ]
  },
  {
   "cell_type": "code",
   "execution_count": 3,
   "metadata": {},
   "outputs": [
    {
     "data": {
      "text/plain": [
       "Index(['city', 'country', 'venue', 'opening_acts',\n",
       "       'attendance_tickets_sold__available', 'revenue', 'tour'],\n",
       "      dtype='object')"
      ]
     },
     "execution_count": 3,
     "metadata": {},
     "output_type": "execute_result"
    }
   ],
   "source": [
    "df.columns = df.columns.str.replace('(', '')\n",
    "df.columns = df.columns.str.replace(')', '')\n",
    "df.columns = df.columns.str.replace('/', '')\n",
    "df.columns = df.columns.str.lower().str.strip().str.replace(' ', '_')\n",
    "\n",
    "df.columns"
   ]
  },
  {
   "cell_type": "markdown",
   "metadata": {},
   "source": [
    "## Exploratory Data Analysis"
   ]
  },
  {
   "cell_type": "code",
   "execution_count": 4,
   "metadata": {},
   "outputs": [
    {
     "data": {
      "text/html": [
       "<div>\n",
       "<style scoped>\n",
       "    .dataframe tbody tr th:only-of-type {\n",
       "        vertical-align: middle;\n",
       "    }\n",
       "\n",
       "    .dataframe tbody tr th {\n",
       "        vertical-align: top;\n",
       "    }\n",
       "\n",
       "    .dataframe thead th {\n",
       "        text-align: right;\n",
       "    }\n",
       "</style>\n",
       "<table border=\"1\" class=\"dataframe\">\n",
       "  <thead>\n",
       "    <tr style=\"text-align: right;\">\n",
       "      <th></th>\n",
       "      <th>city</th>\n",
       "      <th>country</th>\n",
       "      <th>venue</th>\n",
       "      <th>opening_acts</th>\n",
       "      <th>attendance_tickets_sold__available</th>\n",
       "      <th>revenue</th>\n",
       "      <th>tour</th>\n",
       "    </tr>\n",
       "  </thead>\n",
       "  <tbody>\n",
       "    <tr>\n",
       "      <th>count</th>\n",
       "      <td>445</td>\n",
       "      <td>445</td>\n",
       "      <td>445</td>\n",
       "      <td>444</td>\n",
       "      <td>442</td>\n",
       "      <td>442</td>\n",
       "      <td>445</td>\n",
       "    </tr>\n",
       "    <tr>\n",
       "      <th>unique</th>\n",
       "      <td>143</td>\n",
       "      <td>24</td>\n",
       "      <td>206</td>\n",
       "      <td>41</td>\n",
       "      <td>295</td>\n",
       "      <td>296</td>\n",
       "      <td>5</td>\n",
       "    </tr>\n",
       "    <tr>\n",
       "      <th>top</th>\n",
       "      <td>Los Angeles</td>\n",
       "      <td>United States</td>\n",
       "      <td>Staples Center</td>\n",
       "      <td>Gloriana\\r\\nKellie Pickler</td>\n",
       "      <td></td>\n",
       "      <td></td>\n",
       "      <td>Fearless_Tour</td>\n",
       "    </tr>\n",
       "    <tr>\n",
       "      <th>freq</th>\n",
       "      <td>16</td>\n",
       "      <td>314</td>\n",
       "      <td>16</td>\n",
       "      <td>85</td>\n",
       "      <td>35</td>\n",
       "      <td>36</td>\n",
       "      <td>111</td>\n",
       "    </tr>\n",
       "  </tbody>\n",
       "</table>\n",
       "</div>"
      ],
      "text/plain": [
       "               city        country           venue  \\\n",
       "count           445            445             445   \n",
       "unique          143             24             206   \n",
       "top     Los Angeles  United States  Staples Center   \n",
       "freq             16            314              16   \n",
       "\n",
       "                      opening_acts attendance_tickets_sold__available revenue  \\\n",
       "count                          444                                442     442   \n",
       "unique                          41                                295     296   \n",
       "top     Gloriana\\r\\nKellie Pickler                                            \n",
       "freq                            85                                 35      36   \n",
       "\n",
       "                 tour  \n",
       "count             445  \n",
       "unique              5  \n",
       "top     Fearless_Tour  \n",
       "freq              111  "
      ]
     },
     "execution_count": 4,
     "metadata": {},
     "output_type": "execute_result"
    }
   ],
   "source": [
    "df.describe()"
   ]
  },
  {
   "cell_type": "code",
   "execution_count": 5,
   "metadata": {},
   "outputs": [
    {
     "name": "stdout",
     "output_type": "stream",
     "text": [
      "<class 'pandas.core.frame.DataFrame'>\n",
      "RangeIndex: 445 entries, 0 to 444\n",
      "Data columns (total 7 columns):\n",
      " #   Column                              Non-Null Count  Dtype \n",
      "---  ------                              --------------  ----- \n",
      " 0   city                                445 non-null    object\n",
      " 1   country                             445 non-null    object\n",
      " 2   venue                               445 non-null    object\n",
      " 3   opening_acts                        444 non-null    object\n",
      " 4   attendance_tickets_sold__available  442 non-null    object\n",
      " 5   revenue                             442 non-null    object\n",
      " 6   tour                                445 non-null    object\n",
      "dtypes: object(7)\n",
      "memory usage: 24.5+ KB\n"
     ]
    }
   ],
   "source": [
    "df.info()"
   ]
  },
  {
   "cell_type": "code",
   "execution_count": 6,
   "metadata": {},
   "outputs": [
    {
     "data": {
      "text/plain": [
       "(445, 7)"
      ]
     },
     "execution_count": 6,
     "metadata": {},
     "output_type": "execute_result"
    }
   ],
   "source": [
    "df.shape"
   ]
  },
  {
   "cell_type": "code",
   "execution_count": 7,
   "metadata": {},
   "outputs": [
    {
     "data": {
      "text/plain": [
       "attendance_tickets_sold__available\n",
       "                  35\n",
       "70,563 / 70,563     5\n",
       "54,900 / 54,900     4\n",
       "55,829 / 55,829     4\n",
       "51,487 / 51,487     4\n",
       "                   ..\n",
       "17,003 / 17,003     1\n",
       "48,265 / 48,265     1\n",
       "15,135 / 15,135     1\n",
       "14,267 / 14,267     1\n",
       "7,463 / 7,463       1\n",
       "Name: count, Length: 295, dtype: int64"
      ]
     },
     "execution_count": 7,
     "metadata": {},
     "output_type": "execute_result"
    }
   ],
   "source": [
    "df['attendance_tickets_sold__available'].value_counts()"
   ]
  },
  {
   "cell_type": "code",
   "execution_count": 8,
   "metadata": {},
   "outputs": [
    {
     "data": {
      "text/html": [
       "<div>\n",
       "<style scoped>\n",
       "    .dataframe tbody tr th:only-of-type {\n",
       "        vertical-align: middle;\n",
       "    }\n",
       "\n",
       "    .dataframe tbody tr th {\n",
       "        vertical-align: top;\n",
       "    }\n",
       "\n",
       "    .dataframe thead th {\n",
       "        text-align: right;\n",
       "    }\n",
       "</style>\n",
       "<table border=\"1\" class=\"dataframe\">\n",
       "  <thead>\n",
       "    <tr style=\"text-align: right;\">\n",
       "      <th></th>\n",
       "      <th>city</th>\n",
       "      <th>country</th>\n",
       "      <th>venue</th>\n",
       "      <th>opening_acts</th>\n",
       "      <th>attendance_tickets_sold__available</th>\n",
       "      <th>revenue</th>\n",
       "      <th>tour</th>\n",
       "      <th>attendance_tickets_sold</th>\n",
       "    </tr>\n",
       "  </thead>\n",
       "  <tbody>\n",
       "    <tr>\n",
       "      <th>0</th>\n",
       "      <td>Evansville</td>\n",
       "      <td>United States</td>\n",
       "      <td>Roberts Municipal Stadium</td>\n",
       "      <td>Gloriana\\r\\nKellie Pickler</td>\n",
       "      <td>7,463 / 7,463</td>\n",
       "      <td>$360,617</td>\n",
       "      <td>Fearless_Tour</td>\n",
       "      <td>7,463</td>\n",
       "    </tr>\n",
       "    <tr>\n",
       "      <th>1</th>\n",
       "      <td>Jonesboro</td>\n",
       "      <td>United States</td>\n",
       "      <td>Convocation Center</td>\n",
       "      <td>Gloriana\\r\\nKellie Pickler</td>\n",
       "      <td>7,822 / 7,822</td>\n",
       "      <td>$340,328</td>\n",
       "      <td>Fearless_Tour</td>\n",
       "      <td>7,822</td>\n",
       "    </tr>\n",
       "    <tr>\n",
       "      <th>2</th>\n",
       "      <td>St. Louis</td>\n",
       "      <td>United States</td>\n",
       "      <td>Scottrade Center</td>\n",
       "      <td>Gloriana\\r\\nKellie Pickler</td>\n",
       "      <td>13,764 / 13,764</td>\n",
       "      <td>$650,420</td>\n",
       "      <td>Fearless_Tour</td>\n",
       "      <td>13,764</td>\n",
       "    </tr>\n",
       "    <tr>\n",
       "      <th>3</th>\n",
       "      <td>Alexandria</td>\n",
       "      <td>United States</td>\n",
       "      <td>Bishop Ireton High School</td>\n",
       "      <td>Gloriana\\r\\nKellie Pickler</td>\n",
       "      <td></td>\n",
       "      <td></td>\n",
       "      <td>Fearless_Tour</td>\n",
       "      <td></td>\n",
       "    </tr>\n",
       "    <tr>\n",
       "      <th>4</th>\n",
       "      <td>North Charleston</td>\n",
       "      <td>United States</td>\n",
       "      <td>North Charleston Coliseum</td>\n",
       "      <td>Gloriana\\r\\nKellie Pickler</td>\n",
       "      <td>8,751 / 8,751</td>\n",
       "      <td>$398,154</td>\n",
       "      <td>Fearless_Tour</td>\n",
       "      <td>8,751</td>\n",
       "    </tr>\n",
       "  </tbody>\n",
       "</table>\n",
       "</div>"
      ],
      "text/plain": [
       "               city        country                      venue  \\\n",
       "0        Evansville  United States  Roberts Municipal Stadium   \n",
       "1         Jonesboro  United States         Convocation Center   \n",
       "2         St. Louis  United States           Scottrade Center   \n",
       "3        Alexandria  United States  Bishop Ireton High School   \n",
       "4  North Charleston  United States  North Charleston Coliseum   \n",
       "\n",
       "                 opening_acts attendance_tickets_sold__available   revenue  \\\n",
       "0  Gloriana\\r\\nKellie Pickler                      7,463 / 7,463  $360,617   \n",
       "1  Gloriana\\r\\nKellie Pickler                      7,822 / 7,822  $340,328   \n",
       "2  Gloriana\\r\\nKellie Pickler                    13,764 / 13,764  $650,420   \n",
       "3  Gloriana\\r\\nKellie Pickler                                              \n",
       "4  Gloriana\\r\\nKellie Pickler                      8,751 / 8,751  $398,154   \n",
       "\n",
       "            tour attendance_tickets_sold  \n",
       "0  Fearless_Tour                   7,463  \n",
       "1  Fearless_Tour                   7,822  \n",
       "2  Fearless_Tour                  13,764  \n",
       "3  Fearless_Tour                         \n",
       "4  Fearless_Tour                   8,751  "
      ]
     },
     "execution_count": 8,
     "metadata": {},
     "output_type": "execute_result"
    }
   ],
   "source": [
    "df['attendance_tickets_sold'] = df['attendance_tickets_sold__available'].str.split(' / ').str[0]\n",
    "df.head()"
   ]
  },
  {
   "cell_type": "code",
   "execution_count": 9,
   "metadata": {},
   "outputs": [
    {
     "data": {
      "text/html": [
       "<div>\n",
       "<style scoped>\n",
       "    .dataframe tbody tr th:only-of-type {\n",
       "        vertical-align: middle;\n",
       "    }\n",
       "\n",
       "    .dataframe tbody tr th {\n",
       "        vertical-align: top;\n",
       "    }\n",
       "\n",
       "    .dataframe thead th {\n",
       "        text-align: right;\n",
       "    }\n",
       "</style>\n",
       "<table border=\"1\" class=\"dataframe\">\n",
       "  <thead>\n",
       "    <tr style=\"text-align: right;\">\n",
       "      <th></th>\n",
       "      <th>city</th>\n",
       "      <th>country</th>\n",
       "      <th>venue</th>\n",
       "      <th>opening_acts</th>\n",
       "      <th>attendance_tickets_sold__available</th>\n",
       "      <th>revenue</th>\n",
       "      <th>tour</th>\n",
       "      <th>attendance_tickets_sold</th>\n",
       "      <th>attendance_tickets_available</th>\n",
       "    </tr>\n",
       "  </thead>\n",
       "  <tbody>\n",
       "    <tr>\n",
       "      <th>0</th>\n",
       "      <td>Evansville</td>\n",
       "      <td>United States</td>\n",
       "      <td>Roberts Municipal Stadium</td>\n",
       "      <td>Gloriana\\r\\nKellie Pickler</td>\n",
       "      <td>7,463 / 7,463</td>\n",
       "      <td>$360,617</td>\n",
       "      <td>Fearless_Tour</td>\n",
       "      <td>7,463</td>\n",
       "      <td>7,463</td>\n",
       "    </tr>\n",
       "    <tr>\n",
       "      <th>1</th>\n",
       "      <td>Jonesboro</td>\n",
       "      <td>United States</td>\n",
       "      <td>Convocation Center</td>\n",
       "      <td>Gloriana\\r\\nKellie Pickler</td>\n",
       "      <td>7,822 / 7,822</td>\n",
       "      <td>$340,328</td>\n",
       "      <td>Fearless_Tour</td>\n",
       "      <td>7,822</td>\n",
       "      <td>7,822</td>\n",
       "    </tr>\n",
       "    <tr>\n",
       "      <th>2</th>\n",
       "      <td>St. Louis</td>\n",
       "      <td>United States</td>\n",
       "      <td>Scottrade Center</td>\n",
       "      <td>Gloriana\\r\\nKellie Pickler</td>\n",
       "      <td>13,764 / 13,764</td>\n",
       "      <td>$650,420</td>\n",
       "      <td>Fearless_Tour</td>\n",
       "      <td>13,764</td>\n",
       "      <td>13,764</td>\n",
       "    </tr>\n",
       "    <tr>\n",
       "      <th>3</th>\n",
       "      <td>Alexandria</td>\n",
       "      <td>United States</td>\n",
       "      <td>Bishop Ireton High School</td>\n",
       "      <td>Gloriana\\r\\nKellie Pickler</td>\n",
       "      <td></td>\n",
       "      <td></td>\n",
       "      <td>Fearless_Tour</td>\n",
       "      <td></td>\n",
       "      <td>NaN</td>\n",
       "    </tr>\n",
       "    <tr>\n",
       "      <th>4</th>\n",
       "      <td>North Charleston</td>\n",
       "      <td>United States</td>\n",
       "      <td>North Charleston Coliseum</td>\n",
       "      <td>Gloriana\\r\\nKellie Pickler</td>\n",
       "      <td>8,751 / 8,751</td>\n",
       "      <td>$398,154</td>\n",
       "      <td>Fearless_Tour</td>\n",
       "      <td>8,751</td>\n",
       "      <td>8,751</td>\n",
       "    </tr>\n",
       "  </tbody>\n",
       "</table>\n",
       "</div>"
      ],
      "text/plain": [
       "               city        country                      venue  \\\n",
       "0        Evansville  United States  Roberts Municipal Stadium   \n",
       "1         Jonesboro  United States         Convocation Center   \n",
       "2         St. Louis  United States           Scottrade Center   \n",
       "3        Alexandria  United States  Bishop Ireton High School   \n",
       "4  North Charleston  United States  North Charleston Coliseum   \n",
       "\n",
       "                 opening_acts attendance_tickets_sold__available   revenue  \\\n",
       "0  Gloriana\\r\\nKellie Pickler                      7,463 / 7,463  $360,617   \n",
       "1  Gloriana\\r\\nKellie Pickler                      7,822 / 7,822  $340,328   \n",
       "2  Gloriana\\r\\nKellie Pickler                    13,764 / 13,764  $650,420   \n",
       "3  Gloriana\\r\\nKellie Pickler                                              \n",
       "4  Gloriana\\r\\nKellie Pickler                      8,751 / 8,751  $398,154   \n",
       "\n",
       "            tour attendance_tickets_sold attendance_tickets_available  \n",
       "0  Fearless_Tour                   7,463                        7,463  \n",
       "1  Fearless_Tour                   7,822                        7,822  \n",
       "2  Fearless_Tour                  13,764                       13,764  \n",
       "3  Fearless_Tour                                                 NaN  \n",
       "4  Fearless_Tour                   8,751                        8,751  "
      ]
     },
     "execution_count": 9,
     "metadata": {},
     "output_type": "execute_result"
    }
   ],
   "source": [
    "df['attendance_tickets_available'] = df['attendance_tickets_sold__available'].str.split(' / ').str[1]\n",
    "df.head()"
   ]
  },
  {
   "cell_type": "code",
   "execution_count": 10,
   "metadata": {},
   "outputs": [
    {
     "name": "stdout",
     "output_type": "stream",
     "text": [
      "<class 'pandas.core.frame.DataFrame'>\n",
      "RangeIndex: 445 entries, 0 to 444\n",
      "Data columns (total 9 columns):\n",
      " #   Column                              Non-Null Count  Dtype \n",
      "---  ------                              --------------  ----- \n",
      " 0   city                                445 non-null    object\n",
      " 1   country                             445 non-null    object\n",
      " 2   venue                               445 non-null    object\n",
      " 3   opening_acts                        444 non-null    object\n",
      " 4   attendance_tickets_sold__available  442 non-null    object\n",
      " 5   revenue                             442 non-null    object\n",
      " 6   tour                                445 non-null    object\n",
      " 7   attendance_tickets_sold             442 non-null    object\n",
      " 8   attendance_tickets_available        407 non-null    object\n",
      "dtypes: object(9)\n",
      "memory usage: 31.4+ KB\n"
     ]
    }
   ],
   "source": [
    "df.info()"
   ]
  },
  {
   "cell_type": "code",
   "execution_count": null,
   "metadata": {},
   "outputs": [],
   "source": [
    "df['revenue'].value_counts()"
   ]
  },
  {
   "cell_type": "markdown",
   "metadata": {},
   "source": [
    "Since only 8% of the data will be affected by filling the null values of revenue and attendance tickets sold/available, we will proceed with filling the values with the mean.\n",
    "\n",
    "After filling the values, we will be able to convert the data types."
   ]
  },
  {
   "cell_type": "code",
   "execution_count": null,
   "metadata": {},
   "outputs": [],
   "source": [
    "df.isna().sum()"
   ]
  },
  {
   "cell_type": "code",
   "execution_count": null,
   "metadata": {},
   "outputs": [],
   "source": [
    "#Because the data type is currently an object, we cannot change null values to mean. So we will make them match other \n",
    "#unavailable data\n",
    "df['revenue'] = df['revenue'].fillna('-')\n",
    "\n",
    "df['attendance_tickets_sold__available'] = df['attendance_tickets_sold__available'].fillna('-')"
   ]
  },
  {
   "cell_type": "code",
   "execution_count": null,
   "metadata": {},
   "outputs": [],
   "source": [
    "#This regex expression will remove non-numeric values. ^ matches from the beginning to the end and \\d will grab any character\n",
    "#that is not a digit from 0 to 9. Therefore ^\\d will start at the beginning and go to the end and replace any non digit with ''\n",
    "df['revenue'] = df['revenue'].str.replace('[^\\d]', '', regex=True)\n",
    "#This will replace any empty string values created by the regex above and fill them with zeros in string format to match \n",
    "#current data type\n",
    "df['revenue'] = df['revenue'].replace('', '0')\n",
    "#Change data type to integer\n",
    "df['revenue'] = df['revenue'].astype(int)"
   ]
  },
  {
   "cell_type": "code",
   "execution_count": null,
   "metadata": {},
   "outputs": [],
   "source": [
    "df['attendance_tickets_sold__available'].value_counts()"
   ]
  },
  {
   "cell_type": "code",
   "execution_count": null,
   "metadata": {},
   "outputs": [],
   "source": [
    "#Repeat for attendance_tickets_sold__available\n",
    "#This regex expression will remove non-numeric values\n",
    "df['attendance_tickets_sold__available'] = df['attendance_tickets_sold__available'].str.replace('[^\\d]', '', regex=True)\n",
    "#This will replace any empty string values created by the regex above and fill them with zeros in string format to match \n",
    "#current data type\n",
    "df['attendance_tickets_sold__available'] = df['attendance_tickets_sold__available'].replace('', '0')\n",
    "#Change data type to integer\n",
    "df['attendance_tickets_sold__available'] = df['attendance_tickets_sold__available'].astype(int)"
   ]
  },
  {
   "cell_type": "code",
   "execution_count": null,
   "metadata": {},
   "outputs": [],
   "source": [
    "df['revenue'].value_counts()"
   ]
  },
  {
   "cell_type": "code",
   "execution_count": null,
   "metadata": {},
   "outputs": [],
   "source": [
    "df['attendance_tickets_sold__available'].value_counts()"
   ]
  },
  {
   "cell_type": "markdown",
   "metadata": {},
   "source": [
    "### Fill NA Values"
   ]
  },
  {
   "cell_type": "code",
   "execution_count": null,
   "metadata": {},
   "outputs": [],
   "source": [
    "df.isna().sum()"
   ]
  },
  {
   "cell_type": "code",
   "execution_count": null,
   "metadata": {},
   "outputs": [],
   "source": [
    "df['opening_acts'] = df['opening_acts'].fillna('Unknown')"
   ]
  },
  {
   "cell_type": "code",
   "execution_count": null,
   "metadata": {},
   "outputs": [],
   "source": [
    "df.isna().sum()"
   ]
  },
  {
   "cell_type": "markdown",
   "metadata": {},
   "source": [
    "## Visualizations:"
   ]
  },
  {
   "cell_type": "code",
   "execution_count": null,
   "metadata": {},
   "outputs": [],
   "source": [
    "for col in df.columns:\n",
    "    if df[col].dtype != 'O':\n",
    "        display(px.histogram(df,col))"
   ]
  },
  {
   "cell_type": "markdown",
   "metadata": {},
   "source": [
    "## Connect to MySQL and Export a CSV"
   ]
  },
  {
   "cell_type": "markdown",
   "metadata": {},
   "source": [
    "MySQL connection is still not working. For the time being, I will just create a CSV"
   ]
  },
  {
   "cell_type": "code",
   "execution_count": null,
   "metadata": {},
   "outputs": [],
   "source": [
    "df.to_csv('taylor_swift_tour_data.csv', index=False)"
   ]
  }
 ],
 "metadata": {
  "kernelspec": {
   "display_name": "Python 3",
   "language": "python",
   "name": "python3"
  },
  "language_info": {
   "codemirror_mode": {
    "name": "ipython",
    "version": 3
   },
   "file_extension": ".py",
   "mimetype": "text/x-python",
   "name": "python",
   "nbconvert_exporter": "python",
   "pygments_lexer": "ipython3",
   "version": "3.11.3"
  }
 },
 "nbformat": 4,
 "nbformat_minor": 2
}
