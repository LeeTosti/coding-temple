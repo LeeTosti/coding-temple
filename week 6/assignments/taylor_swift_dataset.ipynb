{
 "cells": [
  {
   "cell_type": "markdown",
   "metadata": {},
   "source": [
    "## Import Libraries and Data"
   ]
  },
  {
   "cell_type": "code",
   "execution_count": 24,
   "metadata": {},
   "outputs": [],
   "source": [
    "import pandas as pd\n",
    "import plotly.express as px\n",
    "import sqlalchemy"
   ]
  },
  {
   "cell_type": "code",
   "execution_count": 25,
   "metadata": {},
   "outputs": [
    {
     "data": {
      "text/html": [
       "<div>\n",
       "<style scoped>\n",
       "    .dataframe tbody tr th:only-of-type {\n",
       "        vertical-align: middle;\n",
       "    }\n",
       "\n",
       "    .dataframe tbody tr th {\n",
       "        vertical-align: top;\n",
       "    }\n",
       "\n",
       "    .dataframe thead th {\n",
       "        text-align: right;\n",
       "    }\n",
       "</style>\n",
       "<table border=\"1\" class=\"dataframe\">\n",
       "  <thead>\n",
       "    <tr style=\"text-align: right;\">\n",
       "      <th></th>\n",
       "      <th>City</th>\n",
       "      <th>Country</th>\n",
       "      <th>Venue</th>\n",
       "      <th>Opening act(s)</th>\n",
       "      <th>Attendance (tickets sold / available)</th>\n",
       "      <th>Revenue</th>\n",
       "      <th>Tour</th>\n",
       "    </tr>\n",
       "  </thead>\n",
       "  <tbody>\n",
       "    <tr>\n",
       "      <th>0</th>\n",
       "      <td>Evansville</td>\n",
       "      <td>United States</td>\n",
       "      <td>Roberts Municipal Stadium</td>\n",
       "      <td>Gloriana\\r\\nKellie Pickler</td>\n",
       "      <td>7,463 / 7,463</td>\n",
       "      <td>$360,617</td>\n",
       "      <td>Fearless_Tour</td>\n",
       "    </tr>\n",
       "    <tr>\n",
       "      <th>1</th>\n",
       "      <td>Jonesboro</td>\n",
       "      <td>United States</td>\n",
       "      <td>Convocation Center</td>\n",
       "      <td>Gloriana\\r\\nKellie Pickler</td>\n",
       "      <td>7,822 / 7,822</td>\n",
       "      <td>$340,328</td>\n",
       "      <td>Fearless_Tour</td>\n",
       "    </tr>\n",
       "    <tr>\n",
       "      <th>2</th>\n",
       "      <td>St. Louis</td>\n",
       "      <td>United States</td>\n",
       "      <td>Scottrade Center</td>\n",
       "      <td>Gloriana\\r\\nKellie Pickler</td>\n",
       "      <td>13,764 / 13,764</td>\n",
       "      <td>$650,420</td>\n",
       "      <td>Fearless_Tour</td>\n",
       "    </tr>\n",
       "    <tr>\n",
       "      <th>3</th>\n",
       "      <td>Alexandria</td>\n",
       "      <td>United States</td>\n",
       "      <td>Bishop Ireton High School</td>\n",
       "      <td>Gloriana\\r\\nKellie Pickler</td>\n",
       "      <td></td>\n",
       "      <td></td>\n",
       "      <td>Fearless_Tour</td>\n",
       "    </tr>\n",
       "    <tr>\n",
       "      <th>4</th>\n",
       "      <td>North Charleston</td>\n",
       "      <td>United States</td>\n",
       "      <td>North Charleston Coliseum</td>\n",
       "      <td>Gloriana\\r\\nKellie Pickler</td>\n",
       "      <td>8,751 / 8,751</td>\n",
       "      <td>$398,154</td>\n",
       "      <td>Fearless_Tour</td>\n",
       "    </tr>\n",
       "    <tr>\n",
       "      <th>...</th>\n",
       "      <td>...</td>\n",
       "      <td>...</td>\n",
       "      <td>...</td>\n",
       "      <td>...</td>\n",
       "      <td>...</td>\n",
       "      <td>...</td>\n",
       "      <td>...</td>\n",
       "    </tr>\n",
       "    <tr>\n",
       "      <th>440</th>\n",
       "      <td>Sydney</td>\n",
       "      <td>Australia</td>\n",
       "      <td>ANZ Stadium</td>\n",
       "      <td>Charli XCX\\r\\nBroods</td>\n",
       "      <td>72,805 / 72,805</td>\n",
       "      <td>$7,686,564</td>\n",
       "      <td>Reputation_Stadium_Tour</td>\n",
       "    </tr>\n",
       "    <tr>\n",
       "      <th>441</th>\n",
       "      <td>Brisbane</td>\n",
       "      <td>Australia</td>\n",
       "      <td>The Gabba</td>\n",
       "      <td>Charli XCX\\r\\nBroods</td>\n",
       "      <td>43,907 / 43,907</td>\n",
       "      <td>$4,338,127</td>\n",
       "      <td>Reputation_Stadium_Tour</td>\n",
       "    </tr>\n",
       "    <tr>\n",
       "      <th>442</th>\n",
       "      <td>Auckland</td>\n",
       "      <td>New Zealand</td>\n",
       "      <td>Mount Smart Stadium</td>\n",
       "      <td>Charli XCX\\r\\nBroods</td>\n",
       "      <td>35,749 / 35,749</td>\n",
       "      <td>$3,617,593</td>\n",
       "      <td>Reputation_Stadium_Tour</td>\n",
       "    </tr>\n",
       "    <tr>\n",
       "      <th>443</th>\n",
       "      <td>Tokyo</td>\n",
       "      <td>Japan</td>\n",
       "      <td>Tokyo Dome</td>\n",
       "      <td>Charli XCX</td>\n",
       "      <td>100,109 / 100,109</td>\n",
       "      <td>$14,859,847</td>\n",
       "      <td>Reputation_Stadium_Tour</td>\n",
       "    </tr>\n",
       "    <tr>\n",
       "      <th>444</th>\n",
       "      <td>Tokyo</td>\n",
       "      <td>Japan</td>\n",
       "      <td>Tokyo Dome</td>\n",
       "      <td>Charli XCX</td>\n",
       "      <td>100,109 / 100,109</td>\n",
       "      <td>$14,859,847</td>\n",
       "      <td>Reputation_Stadium_Tour</td>\n",
       "    </tr>\n",
       "  </tbody>\n",
       "</table>\n",
       "<p>445 rows × 7 columns</p>\n",
       "</div>"
      ],
      "text/plain": [
       "                 City        Country                      Venue  \\\n",
       "0          Evansville  United States  Roberts Municipal Stadium   \n",
       "1           Jonesboro  United States         Convocation Center   \n",
       "2           St. Louis  United States           Scottrade Center   \n",
       "3          Alexandria  United States  Bishop Ireton High School   \n",
       "4    North Charleston  United States  North Charleston Coliseum   \n",
       "..                ...            ...                        ...   \n",
       "440            Sydney      Australia                ANZ Stadium   \n",
       "441          Brisbane      Australia                  The Gabba   \n",
       "442          Auckland    New Zealand        Mount Smart Stadium   \n",
       "443             Tokyo          Japan                 Tokyo Dome   \n",
       "444             Tokyo          Japan                 Tokyo Dome   \n",
       "\n",
       "                 Opening act(s) Attendance (tickets sold / available)  \\\n",
       "0    Gloriana\\r\\nKellie Pickler                         7,463 / 7,463   \n",
       "1    Gloriana\\r\\nKellie Pickler                         7,822 / 7,822   \n",
       "2    Gloriana\\r\\nKellie Pickler                       13,764 / 13,764   \n",
       "3    Gloriana\\r\\nKellie Pickler                                        \n",
       "4    Gloriana\\r\\nKellie Pickler                         8,751 / 8,751   \n",
       "..                          ...                                   ...   \n",
       "440        Charli XCX\\r\\nBroods                       72,805 / 72,805   \n",
       "441        Charli XCX\\r\\nBroods                       43,907 / 43,907   \n",
       "442        Charli XCX\\r\\nBroods                       35,749 / 35,749   \n",
       "443                  Charli XCX                     100,109 / 100,109   \n",
       "444                  Charli XCX                     100,109 / 100,109   \n",
       "\n",
       "         Revenue                     Tour  \n",
       "0       $360,617            Fearless_Tour  \n",
       "1       $340,328            Fearless_Tour  \n",
       "2       $650,420            Fearless_Tour  \n",
       "3                          Fearless_Tour  \n",
       "4       $398,154            Fearless_Tour  \n",
       "..           ...                      ...  \n",
       "440   $7,686,564  Reputation_Stadium_Tour  \n",
       "441   $4,338,127  Reputation_Stadium_Tour  \n",
       "442   $3,617,593  Reputation_Stadium_Tour  \n",
       "443  $14,859,847  Reputation_Stadium_Tour  \n",
       "444  $14,859,847  Reputation_Stadium_Tour  \n",
       "\n",
       "[445 rows x 7 columns]"
      ]
     },
     "execution_count": 25,
     "metadata": {},
     "output_type": "execute_result"
    }
   ],
   "source": [
    "df = pd.read_csv('/Users/lisatosti/Documents/GitHub/coding-temple/week 6/assignments/Taylor_Train.csv', encoding='unicode_escape')\n",
    "df"
   ]
  },
  {
   "cell_type": "markdown",
   "metadata": {},
   "source": [
    "## Tidy Data"
   ]
  },
  {
   "cell_type": "markdown",
   "metadata": {},
   "source": [
    "* PEP 8 Compliance"
   ]
  },
  {
   "cell_type": "code",
   "execution_count": 26,
   "metadata": {},
   "outputs": [
    {
     "data": {
      "text/plain": [
       "Index(['city', 'country', 'venue', 'opening_acts',\n",
       "       'attendance_tickets_sold__available', 'revenue', 'tour'],\n",
       "      dtype='object')"
      ]
     },
     "execution_count": 26,
     "metadata": {},
     "output_type": "execute_result"
    }
   ],
   "source": [
    "df.columns = df.columns.str.replace('(', '')\n",
    "df.columns = df.columns.str.replace(')', '')\n",
    "df.columns = df.columns.str.replace('/', '')\n",
    "df.columns = df.columns.str.lower().str.strip().str.replace(' ', '_')\n",
    "\n",
    "df.columns"
   ]
  },
  {
   "cell_type": "markdown",
   "metadata": {},
   "source": [
    "## Exploratory Data Analysis"
   ]
  },
  {
   "cell_type": "code",
   "execution_count": 27,
   "metadata": {},
   "outputs": [
    {
     "data": {
      "text/html": [
       "<div>\n",
       "<style scoped>\n",
       "    .dataframe tbody tr th:only-of-type {\n",
       "        vertical-align: middle;\n",
       "    }\n",
       "\n",
       "    .dataframe tbody tr th {\n",
       "        vertical-align: top;\n",
       "    }\n",
       "\n",
       "    .dataframe thead th {\n",
       "        text-align: right;\n",
       "    }\n",
       "</style>\n",
       "<table border=\"1\" class=\"dataframe\">\n",
       "  <thead>\n",
       "    <tr style=\"text-align: right;\">\n",
       "      <th></th>\n",
       "      <th>city</th>\n",
       "      <th>country</th>\n",
       "      <th>venue</th>\n",
       "      <th>opening_acts</th>\n",
       "      <th>attendance_tickets_sold__available</th>\n",
       "      <th>revenue</th>\n",
       "      <th>tour</th>\n",
       "    </tr>\n",
       "  </thead>\n",
       "  <tbody>\n",
       "    <tr>\n",
       "      <th>count</th>\n",
       "      <td>445</td>\n",
       "      <td>445</td>\n",
       "      <td>445</td>\n",
       "      <td>444</td>\n",
       "      <td>442</td>\n",
       "      <td>442</td>\n",
       "      <td>445</td>\n",
       "    </tr>\n",
       "    <tr>\n",
       "      <th>unique</th>\n",
       "      <td>143</td>\n",
       "      <td>24</td>\n",
       "      <td>206</td>\n",
       "      <td>41</td>\n",
       "      <td>295</td>\n",
       "      <td>296</td>\n",
       "      <td>5</td>\n",
       "    </tr>\n",
       "    <tr>\n",
       "      <th>top</th>\n",
       "      <td>Los Angeles</td>\n",
       "      <td>United States</td>\n",
       "      <td>Staples Center</td>\n",
       "      <td>Gloriana\\r\\nKellie Pickler</td>\n",
       "      <td></td>\n",
       "      <td></td>\n",
       "      <td>Fearless_Tour</td>\n",
       "    </tr>\n",
       "    <tr>\n",
       "      <th>freq</th>\n",
       "      <td>16</td>\n",
       "      <td>314</td>\n",
       "      <td>16</td>\n",
       "      <td>85</td>\n",
       "      <td>35</td>\n",
       "      <td>36</td>\n",
       "      <td>111</td>\n",
       "    </tr>\n",
       "  </tbody>\n",
       "</table>\n",
       "</div>"
      ],
      "text/plain": [
       "               city        country           venue  \\\n",
       "count           445            445             445   \n",
       "unique          143             24             206   \n",
       "top     Los Angeles  United States  Staples Center   \n",
       "freq             16            314              16   \n",
       "\n",
       "                      opening_acts attendance_tickets_sold__available revenue  \\\n",
       "count                          444                                442     442   \n",
       "unique                          41                                295     296   \n",
       "top     Gloriana\\r\\nKellie Pickler                                            \n",
       "freq                            85                                 35      36   \n",
       "\n",
       "                 tour  \n",
       "count             445  \n",
       "unique              5  \n",
       "top     Fearless_Tour  \n",
       "freq              111  "
      ]
     },
     "execution_count": 27,
     "metadata": {},
     "output_type": "execute_result"
    }
   ],
   "source": [
    "df.describe()"
   ]
  },
  {
   "cell_type": "code",
   "execution_count": 28,
   "metadata": {},
   "outputs": [
    {
     "name": "stdout",
     "output_type": "stream",
     "text": [
      "<class 'pandas.core.frame.DataFrame'>\n",
      "RangeIndex: 445 entries, 0 to 444\n",
      "Data columns (total 7 columns):\n",
      " #   Column                              Non-Null Count  Dtype \n",
      "---  ------                              --------------  ----- \n",
      " 0   city                                445 non-null    object\n",
      " 1   country                             445 non-null    object\n",
      " 2   venue                               445 non-null    object\n",
      " 3   opening_acts                        444 non-null    object\n",
      " 4   attendance_tickets_sold__available  442 non-null    object\n",
      " 5   revenue                             442 non-null    object\n",
      " 6   tour                                445 non-null    object\n",
      "dtypes: object(7)\n",
      "memory usage: 24.5+ KB\n"
     ]
    }
   ],
   "source": [
    "df.info()"
   ]
  },
  {
   "cell_type": "code",
   "execution_count": 29,
   "metadata": {},
   "outputs": [
    {
     "data": {
      "text/plain": [
       "(445, 7)"
      ]
     },
     "execution_count": 29,
     "metadata": {},
     "output_type": "execute_result"
    }
   ],
   "source": [
    "df.shape"
   ]
  },
  {
   "cell_type": "code",
   "execution_count": 30,
   "metadata": {},
   "outputs": [
    {
     "data": {
      "text/plain": [
       "attendance_tickets_sold__available\n",
       "                  35\n",
       "70,563 / 70,563     5\n",
       "54,900 / 54,900     4\n",
       "55,829 / 55,829     4\n",
       "51,487 / 51,487     4\n",
       "                   ..\n",
       "17,003 / 17,003     1\n",
       "48,265 / 48,265     1\n",
       "15,135 / 15,135     1\n",
       "14,267 / 14,267     1\n",
       "7,463 / 7,463       1\n",
       "Name: count, Length: 295, dtype: int64"
      ]
     },
     "execution_count": 30,
     "metadata": {},
     "output_type": "execute_result"
    }
   ],
   "source": [
    "df['attendance_tickets_sold__available'].value_counts()"
   ]
  },
  {
   "cell_type": "code",
   "execution_count": 31,
   "metadata": {},
   "outputs": [
    {
     "data": {
      "text/plain": [
       "revenue\n",
       "             36\n",
       "$8,961,681     5\n",
       "$3,927,154     4\n",
       "$4,734,463     4\n",
       "$3,875,463     4\n",
       "              ..\n",
       "$1,082,042     1\n",
       "$1,342,699     1\n",
       "$3,969,059     1\n",
       "$1,246,491     1\n",
       "$360,617       1\n",
       "Name: count, Length: 296, dtype: int64"
      ]
     },
     "execution_count": 31,
     "metadata": {},
     "output_type": "execute_result"
    }
   ],
   "source": [
    "df['revenue'].value_counts()"
   ]
  },
  {
   "cell_type": "markdown",
   "metadata": {},
   "source": [
    "Since only 8% of the data will be affected by filling the null values of revenue and attendance tickets sold/available, we will proceed with filling the values with the mean.\n",
    "\n",
    "After filling the values, we will be able to convert the data types."
   ]
  },
  {
   "cell_type": "code",
   "execution_count": 32,
   "metadata": {},
   "outputs": [
    {
     "data": {
      "text/plain": [
       "city                                  0\n",
       "country                               0\n",
       "venue                                 0\n",
       "opening_acts                          1\n",
       "attendance_tickets_sold__available    3\n",
       "revenue                               3\n",
       "tour                                  0\n",
       "dtype: int64"
      ]
     },
     "execution_count": 32,
     "metadata": {},
     "output_type": "execute_result"
    }
   ],
   "source": [
    "df.isna().sum()"
   ]
  },
  {
   "cell_type": "code",
   "execution_count": 33,
   "metadata": {},
   "outputs": [],
   "source": [
    "#Because the data type is currently an object, we cannot change null values to mean. So we will make them match other \n",
    "#unavailable data\n",
    "df['revenue'] = df['revenue'].fillna('-')\n",
    "\n",
    "df['attendance_tickets_sold__available'] = df['attendance_tickets_sold__available'].fillna('-')"
   ]
  },
  {
   "cell_type": "code",
   "execution_count": 34,
   "metadata": {},
   "outputs": [],
   "source": [
    "#This regex expression will remove non-numeric values. ^ matches from the beginning to the end and \\d will grab any character\n",
    "#that is not a digit from 0 to 9. Therefore ^\\d will start at the beginning and go to the end and replace any non digit with ''\n",
    "df['revenue'] = df['revenue'].str.replace('[^\\d]', '', regex=True)\n",
    "#This will replace any empty string values created by the regex above and fill them with zeros in string format to match \n",
    "#current data type\n",
    "df['revenue'] = df['revenue'].replace('', '0')\n",
    "#Change data type to integer\n",
    "df['revenue'] = df['revenue'].astype(int)"
   ]
  },
  {
   "cell_type": "code",
   "execution_count": 35,
   "metadata": {},
   "outputs": [
    {
     "data": {
      "text/plain": [
       "attendance_tickets_sold__available\n",
       "                  35\n",
       "70,563 / 70,563     5\n",
       "51,487 / 51,487     4\n",
       "54,900 / 54,900     4\n",
       "23,493 / 23,493     4\n",
       "                   ..\n",
       "12,908 / 12,908     1\n",
       "13,720 / 13,720     1\n",
       "13,566 / 13,566     1\n",
       "12,943 / 12,943     1\n",
       "14,686 / 14,686     1\n",
       "Name: count, Length: 296, dtype: int64"
      ]
     },
     "execution_count": 35,
     "metadata": {},
     "output_type": "execute_result"
    }
   ],
   "source": [
    "df['attendance_tickets_sold__available'].value_counts()"
   ]
  },
  {
   "cell_type": "code",
   "execution_count": 36,
   "metadata": {},
   "outputs": [],
   "source": [
    "#Repeat for attendance_tickets_sold__available\n",
    "#This regex expression will remove non-numeric values\n",
    "df['attendance_tickets_sold__available'] = df['attendance_tickets_sold__available'].str.replace('[^\\d]', '', regex=True)\n",
    "#This will replace any empty string values created by the regex above and fill them with zeros in string format to match \n",
    "#current data type\n",
    "df['attendance_tickets_sold__available'] = df['attendance_tickets_sold__available'].replace('', '0')\n",
    "#Change data type to integer\n",
    "df['attendance_tickets_sold__available'] = df['attendance_tickets_sold__available'].astype(int)"
   ]
  },
  {
   "cell_type": "code",
   "execution_count": 37,
   "metadata": {},
   "outputs": [
    {
     "data": {
      "text/plain": [
       "revenue\n",
       "0          39\n",
       "8961681     5\n",
       "3927154     4\n",
       "4734463     4\n",
       "3875463     4\n",
       "           ..\n",
       "1082042     1\n",
       "1342699     1\n",
       "3969059     1\n",
       "1246491     1\n",
       "360617      1\n",
       "Name: count, Length: 296, dtype: int64"
      ]
     },
     "execution_count": 37,
     "metadata": {},
     "output_type": "execute_result"
    }
   ],
   "source": [
    "df['revenue'].value_counts()"
   ]
  },
  {
   "cell_type": "code",
   "execution_count": 38,
   "metadata": {},
   "outputs": [
    {
     "data": {
      "text/plain": [
       "attendance_tickets_sold__available\n",
       "0             38\n",
       "7056370563     5\n",
       "5490054900     4\n",
       "5582955829     4\n",
       "5148751487     4\n",
       "              ..\n",
       "1700317003     1\n",
       "4826548265     1\n",
       "1513515135     1\n",
       "1426714267     1\n",
       "74637463       1\n",
       "Name: count, Length: 295, dtype: int64"
      ]
     },
     "execution_count": 38,
     "metadata": {},
     "output_type": "execute_result"
    }
   ],
   "source": [
    "df['attendance_tickets_sold__available'].value_counts()"
   ]
  },
  {
   "cell_type": "markdown",
   "metadata": {},
   "source": [
    "### Fill NA Values"
   ]
  },
  {
   "cell_type": "code",
   "execution_count": 40,
   "metadata": {},
   "outputs": [
    {
     "data": {
      "text/plain": [
       "city                                  0\n",
       "country                               0\n",
       "venue                                 0\n",
       "opening_acts                          1\n",
       "attendance_tickets_sold__available    0\n",
       "revenue                               0\n",
       "tour                                  0\n",
       "dtype: int64"
      ]
     },
     "execution_count": 40,
     "metadata": {},
     "output_type": "execute_result"
    }
   ],
   "source": [
    "df.isna().sum()"
   ]
  },
  {
   "cell_type": "code",
   "execution_count": 41,
   "metadata": {},
   "outputs": [],
   "source": [
    "df['opening_acts'] = df['opening_acts'].fillna('Unknown')"
   ]
  },
  {
   "cell_type": "code",
   "execution_count": 42,
   "metadata": {},
   "outputs": [
    {
     "data": {
      "text/plain": [
       "city                                  0\n",
       "country                               0\n",
       "venue                                 0\n",
       "opening_acts                          0\n",
       "attendance_tickets_sold__available    0\n",
       "revenue                               0\n",
       "tour                                  0\n",
       "dtype: int64"
      ]
     },
     "execution_count": 42,
     "metadata": {},
     "output_type": "execute_result"
    }
   ],
   "source": [
    "df.isna().sum()"
   ]
  },
  {
   "cell_type": "markdown",
   "metadata": {},
   "source": [
    "## Visualizations:"
   ]
  },
  {
   "cell_type": "code",
   "execution_count": 43,
   "metadata": {},
   "outputs": [
    {
     "data": {
      "application/vnd.plotly.v1+json": {
       "config": {
        "plotlyServerURL": "https://plot.ly"
       },
       "data": [
        {
         "alignmentgroup": "True",
         "bingroup": "x",
         "hovertemplate": "attendance_tickets_sold__available=%{x}<br>count=%{y}<extra></extra>",
         "legendgroup": "",
         "marker": {
          "color": "#636efa",
          "pattern": {
           "shape": ""
          }
         },
         "name": "",
         "offsetgroup": "",
         "orientation": "v",
         "showlegend": false,
         "type": "histogram",
         "x": [
          74637463,
          78227822,
          1376413764,
          0,
          87518751,
          1107211072,
          94369436,
          67896789,
          67896789,
          1079810798,
          1206112061,
          1322613226,
          89708970,
          1305213052,
          1364813648,
          83118311,
          1017410174,
          1304213042,
          0,
          1761917619,
          1464114641,
          0,
          0,
          0,
          3391044500,
          0,
          1136911369,
          0,
          0,
          0,
          0,
          0,
          0,
          0,
          0,
          0,
          0,
          0,
          1359713597,
          75077507,
          0,
          0,
          0,
          0,
          0,
          0,
          0,
          0,
          1426914269,
          1379413794,
          1397813978,
          0,
          0,
          0,
          1552415524,
          1337313373,
          2626526265,
          2626526265,
          1356313563,
          0,
          0,
          1133411334,
          2703027030,
          2703027030,
          71807180,
          2349323493,
          2349323493,
          90669066,
          0,
          1386113861,
          1110111101,
          1345313453,
          1192811928,
          1402214022,
          84238423,
          3036030360,
          3036030360,
          1185811858,
          2912529125,
          2912529125,
          1120811208,
          1179511795,
          1120811208,
          1378113781,
          2599125991,
          2599125991,
          1170611706,
          1274412744,
          2751827518,
          2751827518,
          1796617966,
          1342913429,
          1389513895,
          1326413264,
          1491414914,
          1064110641,
          2606526065,
          2606526065,
          2583125831,
          2583125831,
          1337613376,
          3045830458,
          3045830458,
          2349323493,
          2349323493,
          0,
          2729027290,
          2729027290,
          5686856868,
          0,
          3500035000,
          89648964,
          47254725,
          69536953,
          1595515955,
          1595515955,
          1266712667,
          1257312573,
          46224622,
          47994799,
          86508650,
          60826082,
          34215585,
          35988500,
          39623962,
          93399339,
          80588058,
          86818681,
          1048811622,
          1526515681,
          2699226992,
          2699226992,
          1314913149,
          2407724077,
          2407724077,
          1226212262,
          1481714817,
          1374813748,
          4799247992,
          2897728977,
          2897728977,
          5200952009,
          1448714487,
          1243612436,
          110800110800,
          110800110800,
          1478914789,
          1375413754,
          1343913439,
          3014430144,
          3014430144,
          5148751487,
          5148751487,
          5148751487,
          5148751487,
          1101211012,
          1332913329,
          1487314873,
          2930329303,
          2930329303,
          5139551395,
          2611226112,
          2611226112,
          2796527965,
          2796527965,
          2533625336,
          2533625336,
          5490054900,
          5490054900,
          5490054900,
          5490054900,
          2482724827,
          2482724827,
          1243212432,
          1361013610,
          1990419904,
          2603026030,
          2603026030,
          2817828178,
          2817828178,
          1151011510,
          1254612546,
          4856248562,
          1290812908,
          1372013720,
          2624426244,
          2624426244,
          1356613566,
          1294312943,
          5545155451,
          1484814848,
          1041910419,
          1159211592,
          1083410834,
          2702927029,
          2702927029,
          1385113851,
          1199911999,
          1623716237,
          1260412604,
          4209542095,
          1178511785,
          1369513695,
          1215312153,
          1427214272,
          1356713567,
          1280712807,
          2665226652,
          2665226652,
          1514215142,
          85898589,
          1987019870,
          1987019870,
          2790027900,
          2790027900,
          3379333793,
          3379333793,
          3379333793,
          3258532585,
          3258532585,
          3258532585,
          2787727877,
          2787727877,
          2858228582,
          2858228582,
          1468614686,
          1249012490,
          3806538065,
          3806538065,
          3806538065,
          1280812808,
          2561725617,
          2561725617,
          2547125471,
          2547125471,
          1408014080,
          1533615336,
          1357313573,
          1700317003,
          4826548265,
          1513515135,
          1426714267,
          2761927619,
          2761927619,
          1246712467,
          1191611916,
          1397413974,
          5302053020,
          2670526705,
          2670526705,
          1400714007,
          1348913489,
          8762787627,
          8762787627,
          3306133061,
          2566325663,
          2566325663,
          4114241142,
          5604756047,
          5239952399,
          101277101277,
          101277101277,
          110712110712,
          110712110712,
          1336813368,
          2641226412,
          2641226412,
          1223112231,
          1094910949,
          5080950809,
          1087210872,
          5582955829,
          5582955829,
          5582955829,
          5582955829,
          1279512795,
          1395213952,
          2034820348,
          2107321073,
          2892028920,
          2892028920,
          1365013650,
          1394113941,
          1268912689,
          4129241292,
          4129241292,
          4129241292,
          3079930799,
          3079930799,
          3079930799,
          4093040930,
          3890738907,
          2182721827,
          4725747257,
          7474074740,
          7474074740,
          7474074740,
          1035010350,
          0,
          0,
          1279312793,
          2004620046,
          81308130,
          97759775,
          1634416344,
          75257525,
          0,
          100320100320,
          100320100320,
          0,
          1245912459,
          5022750227,
          5070350703,
          1624216242,
          1550315503,
          5480154801,
          1502415024,
          1388613886,
          101052101052,
          101052101052,
          2902029020,
          2902029020,
          1116611166,
          1102111021,
          1477314773,
          0,
          2518825188,
          2518825188,
          1348013480,
          1477014770,
          110105110105,
          110105110105,
          8501485014,
          8501485014,
          110109110109,
          110109110109,
          116849116849,
          116849116849,
          4146341463,
          2653426534,
          2653426534,
          5571155711,
          102139102139,
          102139102139,
          2652026520,
          2652026520,
          7056370563,
          7056370563,
          7056370563,
          7056370563,
          7056370563,
          4471044710,
          1413114131,
          2712627126,
          2712627126,
          4012240122,
          4512645126,
          4512645126,
          4512645126,
          1401014010,
          2993629936,
          2993629936,
          2785727857,
          2785727857,
          2891728917,
          2891728917,
          2968829688,
          2968829688,
          9928399283,
          9928399283,
          1396913969,
          2962229622,
          2962229622,
          2106721067,
          6263062630,
          1708417084,
          1507915079,
          5604656046,
          1404414044,
          5698756987,
          1772617726,
          1772617726,
          3775837758,
          3775837758,
          3775837758,
          7598075980,
          4688146881,
          2009020090,
          2009020090,
          9813698136,
          9813698136,
          9813698136,
          5915759157,
          107550107550,
          107550107550,
          118084118084,
          118084118084,
          5602156021,
          5714057140,
          105208105208,
          105208105208,
          7725877258,
          7725877258,
          133034133034,
          133034133034,
          143427143427,
          143427143427,
          5213852138,
          6289762897,
          9567295672,
          9567295672,
          107378107378,
          107378107378,
          5132351323,
          165654165654,
          165654165654,
          165654165654,
          174764174764,
          174764174764,
          174764174764,
          100310100310,
          100310100310,
          5644556445,
          116746116746,
          116746116746,
          5590955909,
          4781847818,
          5611256112,
          4946449464,
          9877498774,
          9877498774,
          5861158611,
          5572955729,
          4783147831,
          5317253172,
          5380053800,
          105002105002,
          105002105002,
          5089150891,
          6302763027,
          7280572805,
          4390743907,
          3574935749,
          100109100109,
          100109100109
         ],
         "xaxis": "x",
         "yaxis": "y"
        }
       ],
       "layout": {
        "barmode": "relative",
        "legend": {
         "tracegroupgap": 0
        },
        "margin": {
         "t": 60
        },
        "template": {
         "data": {
          "bar": [
           {
            "error_x": {
             "color": "#2a3f5f"
            },
            "error_y": {
             "color": "#2a3f5f"
            },
            "marker": {
             "line": {
              "color": "#E5ECF6",
              "width": 0.5
             },
             "pattern": {
              "fillmode": "overlay",
              "size": 10,
              "solidity": 0.2
             }
            },
            "type": "bar"
           }
          ],
          "barpolar": [
           {
            "marker": {
             "line": {
              "color": "#E5ECF6",
              "width": 0.5
             },
             "pattern": {
              "fillmode": "overlay",
              "size": 10,
              "solidity": 0.2
             }
            },
            "type": "barpolar"
           }
          ],
          "carpet": [
           {
            "aaxis": {
             "endlinecolor": "#2a3f5f",
             "gridcolor": "white",
             "linecolor": "white",
             "minorgridcolor": "white",
             "startlinecolor": "#2a3f5f"
            },
            "baxis": {
             "endlinecolor": "#2a3f5f",
             "gridcolor": "white",
             "linecolor": "white",
             "minorgridcolor": "white",
             "startlinecolor": "#2a3f5f"
            },
            "type": "carpet"
           }
          ],
          "choropleth": [
           {
            "colorbar": {
             "outlinewidth": 0,
             "ticks": ""
            },
            "type": "choropleth"
           }
          ],
          "contour": [
           {
            "colorbar": {
             "outlinewidth": 0,
             "ticks": ""
            },
            "colorscale": [
             [
              0,
              "#0d0887"
             ],
             [
              0.1111111111111111,
              "#46039f"
             ],
             [
              0.2222222222222222,
              "#7201a8"
             ],
             [
              0.3333333333333333,
              "#9c179e"
             ],
             [
              0.4444444444444444,
              "#bd3786"
             ],
             [
              0.5555555555555556,
              "#d8576b"
             ],
             [
              0.6666666666666666,
              "#ed7953"
             ],
             [
              0.7777777777777778,
              "#fb9f3a"
             ],
             [
              0.8888888888888888,
              "#fdca26"
             ],
             [
              1,
              "#f0f921"
             ]
            ],
            "type": "contour"
           }
          ],
          "contourcarpet": [
           {
            "colorbar": {
             "outlinewidth": 0,
             "ticks": ""
            },
            "type": "contourcarpet"
           }
          ],
          "heatmap": [
           {
            "colorbar": {
             "outlinewidth": 0,
             "ticks": ""
            },
            "colorscale": [
             [
              0,
              "#0d0887"
             ],
             [
              0.1111111111111111,
              "#46039f"
             ],
             [
              0.2222222222222222,
              "#7201a8"
             ],
             [
              0.3333333333333333,
              "#9c179e"
             ],
             [
              0.4444444444444444,
              "#bd3786"
             ],
             [
              0.5555555555555556,
              "#d8576b"
             ],
             [
              0.6666666666666666,
              "#ed7953"
             ],
             [
              0.7777777777777778,
              "#fb9f3a"
             ],
             [
              0.8888888888888888,
              "#fdca26"
             ],
             [
              1,
              "#f0f921"
             ]
            ],
            "type": "heatmap"
           }
          ],
          "heatmapgl": [
           {
            "colorbar": {
             "outlinewidth": 0,
             "ticks": ""
            },
            "colorscale": [
             [
              0,
              "#0d0887"
             ],
             [
              0.1111111111111111,
              "#46039f"
             ],
             [
              0.2222222222222222,
              "#7201a8"
             ],
             [
              0.3333333333333333,
              "#9c179e"
             ],
             [
              0.4444444444444444,
              "#bd3786"
             ],
             [
              0.5555555555555556,
              "#d8576b"
             ],
             [
              0.6666666666666666,
              "#ed7953"
             ],
             [
              0.7777777777777778,
              "#fb9f3a"
             ],
             [
              0.8888888888888888,
              "#fdca26"
             ],
             [
              1,
              "#f0f921"
             ]
            ],
            "type": "heatmapgl"
           }
          ],
          "histogram": [
           {
            "marker": {
             "pattern": {
              "fillmode": "overlay",
              "size": 10,
              "solidity": 0.2
             }
            },
            "type": "histogram"
           }
          ],
          "histogram2d": [
           {
            "colorbar": {
             "outlinewidth": 0,
             "ticks": ""
            },
            "colorscale": [
             [
              0,
              "#0d0887"
             ],
             [
              0.1111111111111111,
              "#46039f"
             ],
             [
              0.2222222222222222,
              "#7201a8"
             ],
             [
              0.3333333333333333,
              "#9c179e"
             ],
             [
              0.4444444444444444,
              "#bd3786"
             ],
             [
              0.5555555555555556,
              "#d8576b"
             ],
             [
              0.6666666666666666,
              "#ed7953"
             ],
             [
              0.7777777777777778,
              "#fb9f3a"
             ],
             [
              0.8888888888888888,
              "#fdca26"
             ],
             [
              1,
              "#f0f921"
             ]
            ],
            "type": "histogram2d"
           }
          ],
          "histogram2dcontour": [
           {
            "colorbar": {
             "outlinewidth": 0,
             "ticks": ""
            },
            "colorscale": [
             [
              0,
              "#0d0887"
             ],
             [
              0.1111111111111111,
              "#46039f"
             ],
             [
              0.2222222222222222,
              "#7201a8"
             ],
             [
              0.3333333333333333,
              "#9c179e"
             ],
             [
              0.4444444444444444,
              "#bd3786"
             ],
             [
              0.5555555555555556,
              "#d8576b"
             ],
             [
              0.6666666666666666,
              "#ed7953"
             ],
             [
              0.7777777777777778,
              "#fb9f3a"
             ],
             [
              0.8888888888888888,
              "#fdca26"
             ],
             [
              1,
              "#f0f921"
             ]
            ],
            "type": "histogram2dcontour"
           }
          ],
          "mesh3d": [
           {
            "colorbar": {
             "outlinewidth": 0,
             "ticks": ""
            },
            "type": "mesh3d"
           }
          ],
          "parcoords": [
           {
            "line": {
             "colorbar": {
              "outlinewidth": 0,
              "ticks": ""
             }
            },
            "type": "parcoords"
           }
          ],
          "pie": [
           {
            "automargin": true,
            "type": "pie"
           }
          ],
          "scatter": [
           {
            "fillpattern": {
             "fillmode": "overlay",
             "size": 10,
             "solidity": 0.2
            },
            "type": "scatter"
           }
          ],
          "scatter3d": [
           {
            "line": {
             "colorbar": {
              "outlinewidth": 0,
              "ticks": ""
             }
            },
            "marker": {
             "colorbar": {
              "outlinewidth": 0,
              "ticks": ""
             }
            },
            "type": "scatter3d"
           }
          ],
          "scattercarpet": [
           {
            "marker": {
             "colorbar": {
              "outlinewidth": 0,
              "ticks": ""
             }
            },
            "type": "scattercarpet"
           }
          ],
          "scattergeo": [
           {
            "marker": {
             "colorbar": {
              "outlinewidth": 0,
              "ticks": ""
             }
            },
            "type": "scattergeo"
           }
          ],
          "scattergl": [
           {
            "marker": {
             "colorbar": {
              "outlinewidth": 0,
              "ticks": ""
             }
            },
            "type": "scattergl"
           }
          ],
          "scattermapbox": [
           {
            "marker": {
             "colorbar": {
              "outlinewidth": 0,
              "ticks": ""
             }
            },
            "type": "scattermapbox"
           }
          ],
          "scatterpolar": [
           {
            "marker": {
             "colorbar": {
              "outlinewidth": 0,
              "ticks": ""
             }
            },
            "type": "scatterpolar"
           }
          ],
          "scatterpolargl": [
           {
            "marker": {
             "colorbar": {
              "outlinewidth": 0,
              "ticks": ""
             }
            },
            "type": "scatterpolargl"
           }
          ],
          "scatterternary": [
           {
            "marker": {
             "colorbar": {
              "outlinewidth": 0,
              "ticks": ""
             }
            },
            "type": "scatterternary"
           }
          ],
          "surface": [
           {
            "colorbar": {
             "outlinewidth": 0,
             "ticks": ""
            },
            "colorscale": [
             [
              0,
              "#0d0887"
             ],
             [
              0.1111111111111111,
              "#46039f"
             ],
             [
              0.2222222222222222,
              "#7201a8"
             ],
             [
              0.3333333333333333,
              "#9c179e"
             ],
             [
              0.4444444444444444,
              "#bd3786"
             ],
             [
              0.5555555555555556,
              "#d8576b"
             ],
             [
              0.6666666666666666,
              "#ed7953"
             ],
             [
              0.7777777777777778,
              "#fb9f3a"
             ],
             [
              0.8888888888888888,
              "#fdca26"
             ],
             [
              1,
              "#f0f921"
             ]
            ],
            "type": "surface"
           }
          ],
          "table": [
           {
            "cells": {
             "fill": {
              "color": "#EBF0F8"
             },
             "line": {
              "color": "white"
             }
            },
            "header": {
             "fill": {
              "color": "#C8D4E3"
             },
             "line": {
              "color": "white"
             }
            },
            "type": "table"
           }
          ]
         },
         "layout": {
          "annotationdefaults": {
           "arrowcolor": "#2a3f5f",
           "arrowhead": 0,
           "arrowwidth": 1
          },
          "autotypenumbers": "strict",
          "coloraxis": {
           "colorbar": {
            "outlinewidth": 0,
            "ticks": ""
           }
          },
          "colorscale": {
           "diverging": [
            [
             0,
             "#8e0152"
            ],
            [
             0.1,
             "#c51b7d"
            ],
            [
             0.2,
             "#de77ae"
            ],
            [
             0.3,
             "#f1b6da"
            ],
            [
             0.4,
             "#fde0ef"
            ],
            [
             0.5,
             "#f7f7f7"
            ],
            [
             0.6,
             "#e6f5d0"
            ],
            [
             0.7,
             "#b8e186"
            ],
            [
             0.8,
             "#7fbc41"
            ],
            [
             0.9,
             "#4d9221"
            ],
            [
             1,
             "#276419"
            ]
           ],
           "sequential": [
            [
             0,
             "#0d0887"
            ],
            [
             0.1111111111111111,
             "#46039f"
            ],
            [
             0.2222222222222222,
             "#7201a8"
            ],
            [
             0.3333333333333333,
             "#9c179e"
            ],
            [
             0.4444444444444444,
             "#bd3786"
            ],
            [
             0.5555555555555556,
             "#d8576b"
            ],
            [
             0.6666666666666666,
             "#ed7953"
            ],
            [
             0.7777777777777778,
             "#fb9f3a"
            ],
            [
             0.8888888888888888,
             "#fdca26"
            ],
            [
             1,
             "#f0f921"
            ]
           ],
           "sequentialminus": [
            [
             0,
             "#0d0887"
            ],
            [
             0.1111111111111111,
             "#46039f"
            ],
            [
             0.2222222222222222,
             "#7201a8"
            ],
            [
             0.3333333333333333,
             "#9c179e"
            ],
            [
             0.4444444444444444,
             "#bd3786"
            ],
            [
             0.5555555555555556,
             "#d8576b"
            ],
            [
             0.6666666666666666,
             "#ed7953"
            ],
            [
             0.7777777777777778,
             "#fb9f3a"
            ],
            [
             0.8888888888888888,
             "#fdca26"
            ],
            [
             1,
             "#f0f921"
            ]
           ]
          },
          "colorway": [
           "#636efa",
           "#EF553B",
           "#00cc96",
           "#ab63fa",
           "#FFA15A",
           "#19d3f3",
           "#FF6692",
           "#B6E880",
           "#FF97FF",
           "#FECB52"
          ],
          "font": {
           "color": "#2a3f5f"
          },
          "geo": {
           "bgcolor": "white",
           "lakecolor": "white",
           "landcolor": "#E5ECF6",
           "showlakes": true,
           "showland": true,
           "subunitcolor": "white"
          },
          "hoverlabel": {
           "align": "left"
          },
          "hovermode": "closest",
          "mapbox": {
           "style": "light"
          },
          "paper_bgcolor": "white",
          "plot_bgcolor": "#E5ECF6",
          "polar": {
           "angularaxis": {
            "gridcolor": "white",
            "linecolor": "white",
            "ticks": ""
           },
           "bgcolor": "#E5ECF6",
           "radialaxis": {
            "gridcolor": "white",
            "linecolor": "white",
            "ticks": ""
           }
          },
          "scene": {
           "xaxis": {
            "backgroundcolor": "#E5ECF6",
            "gridcolor": "white",
            "gridwidth": 2,
            "linecolor": "white",
            "showbackground": true,
            "ticks": "",
            "zerolinecolor": "white"
           },
           "yaxis": {
            "backgroundcolor": "#E5ECF6",
            "gridcolor": "white",
            "gridwidth": 2,
            "linecolor": "white",
            "showbackground": true,
            "ticks": "",
            "zerolinecolor": "white"
           },
           "zaxis": {
            "backgroundcolor": "#E5ECF6",
            "gridcolor": "white",
            "gridwidth": 2,
            "linecolor": "white",
            "showbackground": true,
            "ticks": "",
            "zerolinecolor": "white"
           }
          },
          "shapedefaults": {
           "line": {
            "color": "#2a3f5f"
           }
          },
          "ternary": {
           "aaxis": {
            "gridcolor": "white",
            "linecolor": "white",
            "ticks": ""
           },
           "baxis": {
            "gridcolor": "white",
            "linecolor": "white",
            "ticks": ""
           },
           "bgcolor": "#E5ECF6",
           "caxis": {
            "gridcolor": "white",
            "linecolor": "white",
            "ticks": ""
           }
          },
          "title": {
           "x": 0.05
          },
          "xaxis": {
           "automargin": true,
           "gridcolor": "white",
           "linecolor": "white",
           "ticks": "",
           "title": {
            "standoff": 15
           },
           "zerolinecolor": "white",
           "zerolinewidth": 2
          },
          "yaxis": {
           "automargin": true,
           "gridcolor": "white",
           "linecolor": "white",
           "ticks": "",
           "title": {
            "standoff": 15
           },
           "zerolinecolor": "white",
           "zerolinewidth": 2
          }
         }
        },
        "xaxis": {
         "anchor": "y",
         "domain": [
          0,
          1
         ],
         "title": {
          "text": "attendance_tickets_sold__available"
         }
        },
        "yaxis": {
         "anchor": "x",
         "domain": [
          0,
          1
         ],
         "title": {
          "text": "count"
         }
        }
       }
      }
     },
     "metadata": {},
     "output_type": "display_data"
    },
    {
     "data": {
      "application/vnd.plotly.v1+json": {
       "config": {
        "plotlyServerURL": "https://plot.ly"
       },
       "data": [
        {
         "alignmentgroup": "True",
         "bingroup": "x",
         "hovertemplate": "revenue=%{x}<br>count=%{y}<extra></extra>",
         "legendgroup": "",
         "marker": {
          "color": "#636efa",
          "pattern": {
           "shape": ""
          }
         },
         "name": "",
         "offsetgroup": "",
         "orientation": "v",
         "showlegend": false,
         "type": "histogram",
         "x": [
          360617,
          340328,
          650420,
          0,
          398154,
          507012,
          437313,
          401328,
          401328,
          482146,
          528637,
          613284,
          413622,
          647923,
          720940,
          551051,
          502689,
          555207,
          0,
          608438,
          690959,
          0,
          0,
          0,
          2540906,
          0,
          512487,
          0,
          0,
          0,
          0,
          0,
          0,
          0,
          0,
          0,
          0,
          0,
          976062,
          296306,
          0,
          0,
          0,
          0,
          0,
          0,
          0,
          0,
          642387,
          628062,
          654089,
          0,
          0,
          0,
          743492,
          634876,
          1150896,
          1150896,
          623975,
          0,
          0,
          956505,
          2030640,
          2030640,
          555396,
          1627510,
          1627510,
          585352,
          0,
          793049,
          598581,
          777442,
          642705,
          742954,
          501169,
          2002321,
          2002321,
          664305,
          1711591,
          1711591,
          645592,
          675184,
          610801,
          761110,
          1497135,
          1497135,
          649488,
          716726,
          1736197,
          1736197,
          1024223,
          755475,
          752303,
          738280,
          846111,
          610668,
          1742669,
          1742669,
          1713529,
          1713529,
          873206,
          2497690,
          2497690,
          1290926,
          1290926,
          0,
          1824743,
          1824743,
          3726157,
          0,
          0,
          916850,
          385374,
          758113,
          1738227,
          1738227,
          859037,
          1030633,
          219212,
          248314,
          815246,
          370028,
          153303,
          201781,
          251864,
          508854,
          379001,
          419806,
          580558,
          891152,
          1717104,
          1717104,
          862771,
          1582951,
          1582951,
          791980,
          955259,
          897042,
          3453549,
          1913737,
          1913737,
          4009118,
          966749,
          810165,
          8026350,
          8026350,
          990701,
          903875,
          1254230,
          3036000,
          3036000,
          3875463,
          3875463,
          3875463,
          3875463,
          724854,
          877175,
          976954,
          2068789,
          2068789,
          4268678,
          1909603,
          1909603,
          1850159,
          1850159,
          2136270,
          2136270,
          3927154,
          3927154,
          3927154,
          3927154,
          1825448,
          1825448,
          934326,
          903445,
          1289430,
          2190680,
          2190680,
          1841134,
          1841134,
          728546,
          907573,
          3148046,
          834916,
          896946,
          1726661,
          1726661,
          856123,
          830289,
          4337062,
          1003828,
          710426,
          758364,
          792634,
          1826025,
          1826025,
          901535,
          752078,
          1041935,
          820036,
          3435756,
          749099,
          914300,
          786904,
          920903,
          866056,
          828231,
          1988411,
          1988411,
          1878530,
          1075370,
          2416030,
          2416030,
          3420360,
          3420360,
          4151650,
          4151650,
          4151650,
          2888560,
          2888560,
          2888560,
          2243164,
          2243164,
          2346203,
          2346203,
          1162733,
          996114,
          3565317,
          3565317,
          3565317,
          1010175,
          2054128,
          2054128,
          2048023,
          2048023,
          1132095,
          1247605,
          1082042,
          1342699,
          3969059,
          1246491,
          1155170,
          2489205,
          2489205,
          961422,
          935631,
          1105253,
          4589266,
          2239370,
          2239370,
          1139360,
          1076069,
          7863310,
          7863310,
          3175430,
          2379870,
          2379870,
          3974410,
          4718518,
          4670011,
          8822335,
          8822335,
          9464063,
          9464063,
          1075576,
          2093172,
          2093172,
          983882,
          868955,
          4149148,
          948541,
          4734463,
          4734463,
          4734463,
          4734463,
          1138103,
          1084760,
          1584049,
          1661578,
          2320937,
          2320937,
          1109253,
          1088612,
          997216,
          3336545,
          3336545,
          3336545,
          3100290,
          3100290,
          3100290,
          4096060,
          3895810,
          2364080,
          4547250,
          5829240,
          5829240,
          5829240,
          755006,
          0,
          0,
          1864934,
          1837147,
          1481473,
          1511662,
          2524080,
          998608,
          0,
          10586828,
          10586828,
          0,
          1458197,
          4119670,
          5999690,
          1863281,
          1732041,
          5836926,
          1627798,
          1653762,
          11987816,
          11987816,
          2054690,
          2054690,
          800829,
          1119300,
          1478760,
          0,
          1975510,
          1975510,
          1325480,
          1499040,
          13423858,
          13423858,
          9730596,
          9730596,
          11469887,
          11469887,
          12533166,
          12533166,
          4081820,
          2387080,
          2387080,
          6050643,
          13031146,
          13031146,
          3029628,
          3029628,
          8961681,
          8961681,
          8961681,
          8961681,
          8961681,
          5475237,
          1589686,
          2868991,
          2868991,
          5202196,
          5514863,
          5514863,
          5514863,
          1550268,
          3369693,
          3369693,
          2967558,
          2967558,
          3354844,
          3354844,
          3452940,
          3452940,
          8670990,
          8670990,
          1566321,
          3121421,
          3121421,
          2219188,
          7396733,
          1870471,
          1662171,
          6034846,
          1527919,
          6202515,
          3217569,
          3217569,
          5917348,
          5917348,
          5917348,
          6571683,
          4759471,
          2407499,
          2407499,
          10421553,
          10421553,
          10421553,
          7214478,
          14006963,
          14006963,
          16251980,
          16251980,
          8672219,
          7926366,
          14576697,
          14576697,
          6169724,
          6169724,
          8567769,
          8567769,
          12214933,
          12214933,
          4928219,
          6606529,
          11396004,
          11396004,
          11951047,
          11951047,
          5148757,
          22031386,
          22031386,
          22031386,
          21779846,
          21779846,
          21779846,
          11177000,
          11177000,
          6230876,
          18089415,
          18089415,
          7244264,
          7072164,
          9007179,
          6597852,
          10242024,
          10242024,
          6730138,
          6531245,
          4884054,
          6491546,
          9350275,
          15006157,
          15006157,
          4153658,
          6755570,
          7686564,
          4338127,
          3617593,
          14859847,
          14859847
         ],
         "xaxis": "x",
         "yaxis": "y"
        }
       ],
       "layout": {
        "barmode": "relative",
        "legend": {
         "tracegroupgap": 0
        },
        "margin": {
         "t": 60
        },
        "template": {
         "data": {
          "bar": [
           {
            "error_x": {
             "color": "#2a3f5f"
            },
            "error_y": {
             "color": "#2a3f5f"
            },
            "marker": {
             "line": {
              "color": "#E5ECF6",
              "width": 0.5
             },
             "pattern": {
              "fillmode": "overlay",
              "size": 10,
              "solidity": 0.2
             }
            },
            "type": "bar"
           }
          ],
          "barpolar": [
           {
            "marker": {
             "line": {
              "color": "#E5ECF6",
              "width": 0.5
             },
             "pattern": {
              "fillmode": "overlay",
              "size": 10,
              "solidity": 0.2
             }
            },
            "type": "barpolar"
           }
          ],
          "carpet": [
           {
            "aaxis": {
             "endlinecolor": "#2a3f5f",
             "gridcolor": "white",
             "linecolor": "white",
             "minorgridcolor": "white",
             "startlinecolor": "#2a3f5f"
            },
            "baxis": {
             "endlinecolor": "#2a3f5f",
             "gridcolor": "white",
             "linecolor": "white",
             "minorgridcolor": "white",
             "startlinecolor": "#2a3f5f"
            },
            "type": "carpet"
           }
          ],
          "choropleth": [
           {
            "colorbar": {
             "outlinewidth": 0,
             "ticks": ""
            },
            "type": "choropleth"
           }
          ],
          "contour": [
           {
            "colorbar": {
             "outlinewidth": 0,
             "ticks": ""
            },
            "colorscale": [
             [
              0,
              "#0d0887"
             ],
             [
              0.1111111111111111,
              "#46039f"
             ],
             [
              0.2222222222222222,
              "#7201a8"
             ],
             [
              0.3333333333333333,
              "#9c179e"
             ],
             [
              0.4444444444444444,
              "#bd3786"
             ],
             [
              0.5555555555555556,
              "#d8576b"
             ],
             [
              0.6666666666666666,
              "#ed7953"
             ],
             [
              0.7777777777777778,
              "#fb9f3a"
             ],
             [
              0.8888888888888888,
              "#fdca26"
             ],
             [
              1,
              "#f0f921"
             ]
            ],
            "type": "contour"
           }
          ],
          "contourcarpet": [
           {
            "colorbar": {
             "outlinewidth": 0,
             "ticks": ""
            },
            "type": "contourcarpet"
           }
          ],
          "heatmap": [
           {
            "colorbar": {
             "outlinewidth": 0,
             "ticks": ""
            },
            "colorscale": [
             [
              0,
              "#0d0887"
             ],
             [
              0.1111111111111111,
              "#46039f"
             ],
             [
              0.2222222222222222,
              "#7201a8"
             ],
             [
              0.3333333333333333,
              "#9c179e"
             ],
             [
              0.4444444444444444,
              "#bd3786"
             ],
             [
              0.5555555555555556,
              "#d8576b"
             ],
             [
              0.6666666666666666,
              "#ed7953"
             ],
             [
              0.7777777777777778,
              "#fb9f3a"
             ],
             [
              0.8888888888888888,
              "#fdca26"
             ],
             [
              1,
              "#f0f921"
             ]
            ],
            "type": "heatmap"
           }
          ],
          "heatmapgl": [
           {
            "colorbar": {
             "outlinewidth": 0,
             "ticks": ""
            },
            "colorscale": [
             [
              0,
              "#0d0887"
             ],
             [
              0.1111111111111111,
              "#46039f"
             ],
             [
              0.2222222222222222,
              "#7201a8"
             ],
             [
              0.3333333333333333,
              "#9c179e"
             ],
             [
              0.4444444444444444,
              "#bd3786"
             ],
             [
              0.5555555555555556,
              "#d8576b"
             ],
             [
              0.6666666666666666,
              "#ed7953"
             ],
             [
              0.7777777777777778,
              "#fb9f3a"
             ],
             [
              0.8888888888888888,
              "#fdca26"
             ],
             [
              1,
              "#f0f921"
             ]
            ],
            "type": "heatmapgl"
           }
          ],
          "histogram": [
           {
            "marker": {
             "pattern": {
              "fillmode": "overlay",
              "size": 10,
              "solidity": 0.2
             }
            },
            "type": "histogram"
           }
          ],
          "histogram2d": [
           {
            "colorbar": {
             "outlinewidth": 0,
             "ticks": ""
            },
            "colorscale": [
             [
              0,
              "#0d0887"
             ],
             [
              0.1111111111111111,
              "#46039f"
             ],
             [
              0.2222222222222222,
              "#7201a8"
             ],
             [
              0.3333333333333333,
              "#9c179e"
             ],
             [
              0.4444444444444444,
              "#bd3786"
             ],
             [
              0.5555555555555556,
              "#d8576b"
             ],
             [
              0.6666666666666666,
              "#ed7953"
             ],
             [
              0.7777777777777778,
              "#fb9f3a"
             ],
             [
              0.8888888888888888,
              "#fdca26"
             ],
             [
              1,
              "#f0f921"
             ]
            ],
            "type": "histogram2d"
           }
          ],
          "histogram2dcontour": [
           {
            "colorbar": {
             "outlinewidth": 0,
             "ticks": ""
            },
            "colorscale": [
             [
              0,
              "#0d0887"
             ],
             [
              0.1111111111111111,
              "#46039f"
             ],
             [
              0.2222222222222222,
              "#7201a8"
             ],
             [
              0.3333333333333333,
              "#9c179e"
             ],
             [
              0.4444444444444444,
              "#bd3786"
             ],
             [
              0.5555555555555556,
              "#d8576b"
             ],
             [
              0.6666666666666666,
              "#ed7953"
             ],
             [
              0.7777777777777778,
              "#fb9f3a"
             ],
             [
              0.8888888888888888,
              "#fdca26"
             ],
             [
              1,
              "#f0f921"
             ]
            ],
            "type": "histogram2dcontour"
           }
          ],
          "mesh3d": [
           {
            "colorbar": {
             "outlinewidth": 0,
             "ticks": ""
            },
            "type": "mesh3d"
           }
          ],
          "parcoords": [
           {
            "line": {
             "colorbar": {
              "outlinewidth": 0,
              "ticks": ""
             }
            },
            "type": "parcoords"
           }
          ],
          "pie": [
           {
            "automargin": true,
            "type": "pie"
           }
          ],
          "scatter": [
           {
            "fillpattern": {
             "fillmode": "overlay",
             "size": 10,
             "solidity": 0.2
            },
            "type": "scatter"
           }
          ],
          "scatter3d": [
           {
            "line": {
             "colorbar": {
              "outlinewidth": 0,
              "ticks": ""
             }
            },
            "marker": {
             "colorbar": {
              "outlinewidth": 0,
              "ticks": ""
             }
            },
            "type": "scatter3d"
           }
          ],
          "scattercarpet": [
           {
            "marker": {
             "colorbar": {
              "outlinewidth": 0,
              "ticks": ""
             }
            },
            "type": "scattercarpet"
           }
          ],
          "scattergeo": [
           {
            "marker": {
             "colorbar": {
              "outlinewidth": 0,
              "ticks": ""
             }
            },
            "type": "scattergeo"
           }
          ],
          "scattergl": [
           {
            "marker": {
             "colorbar": {
              "outlinewidth": 0,
              "ticks": ""
             }
            },
            "type": "scattergl"
           }
          ],
          "scattermapbox": [
           {
            "marker": {
             "colorbar": {
              "outlinewidth": 0,
              "ticks": ""
             }
            },
            "type": "scattermapbox"
           }
          ],
          "scatterpolar": [
           {
            "marker": {
             "colorbar": {
              "outlinewidth": 0,
              "ticks": ""
             }
            },
            "type": "scatterpolar"
           }
          ],
          "scatterpolargl": [
           {
            "marker": {
             "colorbar": {
              "outlinewidth": 0,
              "ticks": ""
             }
            },
            "type": "scatterpolargl"
           }
          ],
          "scatterternary": [
           {
            "marker": {
             "colorbar": {
              "outlinewidth": 0,
              "ticks": ""
             }
            },
            "type": "scatterternary"
           }
          ],
          "surface": [
           {
            "colorbar": {
             "outlinewidth": 0,
             "ticks": ""
            },
            "colorscale": [
             [
              0,
              "#0d0887"
             ],
             [
              0.1111111111111111,
              "#46039f"
             ],
             [
              0.2222222222222222,
              "#7201a8"
             ],
             [
              0.3333333333333333,
              "#9c179e"
             ],
             [
              0.4444444444444444,
              "#bd3786"
             ],
             [
              0.5555555555555556,
              "#d8576b"
             ],
             [
              0.6666666666666666,
              "#ed7953"
             ],
             [
              0.7777777777777778,
              "#fb9f3a"
             ],
             [
              0.8888888888888888,
              "#fdca26"
             ],
             [
              1,
              "#f0f921"
             ]
            ],
            "type": "surface"
           }
          ],
          "table": [
           {
            "cells": {
             "fill": {
              "color": "#EBF0F8"
             },
             "line": {
              "color": "white"
             }
            },
            "header": {
             "fill": {
              "color": "#C8D4E3"
             },
             "line": {
              "color": "white"
             }
            },
            "type": "table"
           }
          ]
         },
         "layout": {
          "annotationdefaults": {
           "arrowcolor": "#2a3f5f",
           "arrowhead": 0,
           "arrowwidth": 1
          },
          "autotypenumbers": "strict",
          "coloraxis": {
           "colorbar": {
            "outlinewidth": 0,
            "ticks": ""
           }
          },
          "colorscale": {
           "diverging": [
            [
             0,
             "#8e0152"
            ],
            [
             0.1,
             "#c51b7d"
            ],
            [
             0.2,
             "#de77ae"
            ],
            [
             0.3,
             "#f1b6da"
            ],
            [
             0.4,
             "#fde0ef"
            ],
            [
             0.5,
             "#f7f7f7"
            ],
            [
             0.6,
             "#e6f5d0"
            ],
            [
             0.7,
             "#b8e186"
            ],
            [
             0.8,
             "#7fbc41"
            ],
            [
             0.9,
             "#4d9221"
            ],
            [
             1,
             "#276419"
            ]
           ],
           "sequential": [
            [
             0,
             "#0d0887"
            ],
            [
             0.1111111111111111,
             "#46039f"
            ],
            [
             0.2222222222222222,
             "#7201a8"
            ],
            [
             0.3333333333333333,
             "#9c179e"
            ],
            [
             0.4444444444444444,
             "#bd3786"
            ],
            [
             0.5555555555555556,
             "#d8576b"
            ],
            [
             0.6666666666666666,
             "#ed7953"
            ],
            [
             0.7777777777777778,
             "#fb9f3a"
            ],
            [
             0.8888888888888888,
             "#fdca26"
            ],
            [
             1,
             "#f0f921"
            ]
           ],
           "sequentialminus": [
            [
             0,
             "#0d0887"
            ],
            [
             0.1111111111111111,
             "#46039f"
            ],
            [
             0.2222222222222222,
             "#7201a8"
            ],
            [
             0.3333333333333333,
             "#9c179e"
            ],
            [
             0.4444444444444444,
             "#bd3786"
            ],
            [
             0.5555555555555556,
             "#d8576b"
            ],
            [
             0.6666666666666666,
             "#ed7953"
            ],
            [
             0.7777777777777778,
             "#fb9f3a"
            ],
            [
             0.8888888888888888,
             "#fdca26"
            ],
            [
             1,
             "#f0f921"
            ]
           ]
          },
          "colorway": [
           "#636efa",
           "#EF553B",
           "#00cc96",
           "#ab63fa",
           "#FFA15A",
           "#19d3f3",
           "#FF6692",
           "#B6E880",
           "#FF97FF",
           "#FECB52"
          ],
          "font": {
           "color": "#2a3f5f"
          },
          "geo": {
           "bgcolor": "white",
           "lakecolor": "white",
           "landcolor": "#E5ECF6",
           "showlakes": true,
           "showland": true,
           "subunitcolor": "white"
          },
          "hoverlabel": {
           "align": "left"
          },
          "hovermode": "closest",
          "mapbox": {
           "style": "light"
          },
          "paper_bgcolor": "white",
          "plot_bgcolor": "#E5ECF6",
          "polar": {
           "angularaxis": {
            "gridcolor": "white",
            "linecolor": "white",
            "ticks": ""
           },
           "bgcolor": "#E5ECF6",
           "radialaxis": {
            "gridcolor": "white",
            "linecolor": "white",
            "ticks": ""
           }
          },
          "scene": {
           "xaxis": {
            "backgroundcolor": "#E5ECF6",
            "gridcolor": "white",
            "gridwidth": 2,
            "linecolor": "white",
            "showbackground": true,
            "ticks": "",
            "zerolinecolor": "white"
           },
           "yaxis": {
            "backgroundcolor": "#E5ECF6",
            "gridcolor": "white",
            "gridwidth": 2,
            "linecolor": "white",
            "showbackground": true,
            "ticks": "",
            "zerolinecolor": "white"
           },
           "zaxis": {
            "backgroundcolor": "#E5ECF6",
            "gridcolor": "white",
            "gridwidth": 2,
            "linecolor": "white",
            "showbackground": true,
            "ticks": "",
            "zerolinecolor": "white"
           }
          },
          "shapedefaults": {
           "line": {
            "color": "#2a3f5f"
           }
          },
          "ternary": {
           "aaxis": {
            "gridcolor": "white",
            "linecolor": "white",
            "ticks": ""
           },
           "baxis": {
            "gridcolor": "white",
            "linecolor": "white",
            "ticks": ""
           },
           "bgcolor": "#E5ECF6",
           "caxis": {
            "gridcolor": "white",
            "linecolor": "white",
            "ticks": ""
           }
          },
          "title": {
           "x": 0.05
          },
          "xaxis": {
           "automargin": true,
           "gridcolor": "white",
           "linecolor": "white",
           "ticks": "",
           "title": {
            "standoff": 15
           },
           "zerolinecolor": "white",
           "zerolinewidth": 2
          },
          "yaxis": {
           "automargin": true,
           "gridcolor": "white",
           "linecolor": "white",
           "ticks": "",
           "title": {
            "standoff": 15
           },
           "zerolinecolor": "white",
           "zerolinewidth": 2
          }
         }
        },
        "xaxis": {
         "anchor": "y",
         "domain": [
          0,
          1
         ],
         "title": {
          "text": "revenue"
         }
        },
        "yaxis": {
         "anchor": "x",
         "domain": [
          0,
          1
         ],
         "title": {
          "text": "count"
         }
        }
       }
      }
     },
     "metadata": {},
     "output_type": "display_data"
    }
   ],
   "source": [
    "for col in df.columns:\n",
    "    if df[col].dtype != 'O':\n",
    "        display(px.histogram(df,col))"
   ]
  },
  {
   "cell_type": "markdown",
   "metadata": {},
   "source": [
    "## Connect to MySQL and Export a CSV"
   ]
  },
  {
   "cell_type": "markdown",
   "metadata": {},
   "source": [
    "MySQL connection is still not working. For the time being, I will just create a CSV"
   ]
  },
  {
   "cell_type": "code",
   "execution_count": 45,
   "metadata": {},
   "outputs": [],
   "source": [
    "df.to_csv('taylor_swift_tour_data.csv', index=False)"
   ]
  }
 ],
 "metadata": {
  "kernelspec": {
   "display_name": "Python 3",
   "language": "python",
   "name": "python3"
  },
  "language_info": {
   "codemirror_mode": {
    "name": "ipython",
    "version": 3
   },
   "file_extension": ".py",
   "mimetype": "text/x-python",
   "name": "python",
   "nbconvert_exporter": "python",
   "pygments_lexer": "ipython3",
   "version": "3.11.3"
  }
 },
 "nbformat": 4,
 "nbformat_minor": 2
}
